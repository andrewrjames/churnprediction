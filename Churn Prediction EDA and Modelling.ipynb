{
 "cells": [
  {
   "cell_type": "code",
   "execution_count": 1,
   "metadata": {
    "executionInfo": {
     "elapsed": 2984,
     "status": "ok",
     "timestamp": 1694787216373,
     "user": {
      "displayName": "Andrew Rafael James",
      "userId": "10789056566669142726"
     },
     "user_tz": -420
    },
    "id": "EKc3pPooL3VZ"
   },
   "outputs": [],
   "source": [
    "import pandas as pd\n",
    "import numpy as np\n",
    "import matplotlib.pyplot as plt\n",
    "from datetime import datetime\n",
    "from datetime import date\n",
    "import seaborn as sns\n",
    "\n",
    "from sklearn.linear_model import LogisticRegression\n",
    "from sklearn.model_selection import train_test_split # splitting the data\n",
    "from sklearn.preprocessing import StandardScaler # data normalization\n",
    "from sklearn.metrics import classification_report # evaluation metric\n",
    "from sklearn.metrics import confusion_matrix, accuracy_score\n",
    "from sklearn.metrics import f1_score, precision_score, recall_score, fbeta_score\n",
    "from sklearn.metrics import roc_auc_score\n",
    "from sklearn.metrics import roc_curve\n",
    "from sklearn import feature_selection\n",
    "from sklearn import model_selection\n",
    "from sklearn.model_selection import cross_val_score\n",
    "from sklearn import metrics\n",
    "from statsmodels.stats.outliers_influence import variance_inflation_factor\n",
    "from matplotlib.colors import ListedColormap\n",
    "from scipy import stats\n",
    "import plotly.figure_factory as ff"
   ]
  },
  {
   "cell_type": "code",
   "execution_count": null,
   "metadata": {
    "id": "EPk4_SVIL3Vd"
   },
   "outputs": [],
   "source": [
    "df = pd.read_csv('dsda_case_study_2019.csv')"
   ]
  },
  {
   "cell_type": "code",
   "execution_count": null,
   "metadata": {
    "id": "USatQ8gWL3Ve"
   },
   "outputs": [],
   "source": [
    "df_copy = df.copy()"
   ]
  },
  {
   "cell_type": "code",
   "execution_count": null,
   "metadata": {
    "id": "-wghsbewL3Ve",
    "outputId": "4d86482e-a38d-42b5-a98b-23f8dc48800c"
   },
   "outputs": [
    {
     "data": {
      "text/html": [
       "<div>\n",
       "<style scoped>\n",
       "    .dataframe tbody tr th:only-of-type {\n",
       "        vertical-align: middle;\n",
       "    }\n",
       "\n",
       "    .dataframe tbody tr th {\n",
       "        vertical-align: top;\n",
       "    }\n",
       "\n",
       "    .dataframe thead th {\n",
       "        text-align: right;\n",
       "    }\n",
       "</style>\n",
       "<table border=\"1\" class=\"dataframe\">\n",
       "  <thead>\n",
       "    <tr style=\"text-align: right;\">\n",
       "      <th></th>\n",
       "      <th>profile_id</th>\n",
       "      <th>primary_sales_product_type</th>\n",
       "      <th>first_booking_time</th>\n",
       "      <th>first_issued_time</th>\n",
       "      <th>last_booking_time</th>\n",
       "      <th>last_issued_time</th>\n",
       "      <th>avg_booking_invoice_amount_idr</th>\n",
       "      <th>avg_issued_invoice_amount_idr</th>\n",
       "      <th>count_booking</th>\n",
       "      <th>count_issued</th>\n",
       "      <th>random_number</th>\n",
       "    </tr>\n",
       "  </thead>\n",
       "  <tbody>\n",
       "    <tr>\n",
       "      <th>0</th>\n",
       "      <td>3632279</td>\n",
       "      <td>HOTEL</td>\n",
       "      <td>1436705255370</td>\n",
       "      <td>1466304274396.0000000000</td>\n",
       "      <td>1538717915528</td>\n",
       "      <td>1538718482608.0000000000</td>\n",
       "      <td>2000822.7187500000</td>\n",
       "      <td>1193236.7777777778</td>\n",
       "      <td>32</td>\n",
       "      <td>18</td>\n",
       "      <td>0.0015619442</td>\n",
       "    </tr>\n",
       "    <tr>\n",
       "      <th>1</th>\n",
       "      <td>3632279</td>\n",
       "      <td>FLIGHT</td>\n",
       "      <td>1405686647701</td>\n",
       "      <td>1406077331494.0000000000</td>\n",
       "      <td>1545735395212</td>\n",
       "      <td>1545735761270.0000000000</td>\n",
       "      <td>1174168.9137931038</td>\n",
       "      <td>1031981.6666666665</td>\n",
       "      <td>58</td>\n",
       "      <td>33</td>\n",
       "      <td>0.0015619442</td>\n",
       "    </tr>\n",
       "    <tr>\n",
       "      <th>2</th>\n",
       "      <td>17407638</td>\n",
       "      <td>TRAIN</td>\n",
       "      <td>1493348364000</td>\n",
       "      <td>1493349147000.0000000000</td>\n",
       "      <td>1548320804000</td>\n",
       "      <td>1548322802000.0000000000</td>\n",
       "      <td>284884.2741935484</td>\n",
       "      <td>252776.1666666666</td>\n",
       "      <td>62</td>\n",
       "      <td>24</td>\n",
       "      <td>0.0042665520</td>\n",
       "    </tr>\n",
       "    <tr>\n",
       "      <th>3</th>\n",
       "      <td>17407638</td>\n",
       "      <td>HOTEL</td>\n",
       "      <td>1493361893998</td>\n",
       "      <td>1493362372547.0000000000</td>\n",
       "      <td>1547642393838</td>\n",
       "      <td>1547643603911.0000000000</td>\n",
       "      <td>737447.1944444445</td>\n",
       "      <td>587505.9545454546</td>\n",
       "      <td>36</td>\n",
       "      <td>22</td>\n",
       "      <td>0.0042665520</td>\n",
       "    </tr>\n",
       "    <tr>\n",
       "      <th>4</th>\n",
       "      <td>4618047</td>\n",
       "      <td>FLIGHT</td>\n",
       "      <td>1420511473189</td>\n",
       "      <td>1429178498531.0000000000</td>\n",
       "      <td>1546763512498</td>\n",
       "      <td>1542891221530.0000000000</td>\n",
       "      <td>1604697.6603773588</td>\n",
       "      <td>1443118.3000000000</td>\n",
       "      <td>53</td>\n",
       "      <td>20</td>\n",
       "      <td>0.0024599007</td>\n",
       "    </tr>\n",
       "  </tbody>\n",
       "</table>\n",
       "</div>"
      ],
      "text/plain": [
       "   profile_id primary_sales_product_type  first_booking_time  \\\n",
       "0     3632279                      HOTEL       1436705255370   \n",
       "1     3632279                     FLIGHT       1405686647701   \n",
       "2    17407638                      TRAIN       1493348364000   \n",
       "3    17407638                      HOTEL       1493361893998   \n",
       "4     4618047                     FLIGHT       1420511473189   \n",
       "\n",
       "         first_issued_time  last_booking_time         last_issued_time  \\\n",
       "0 1466304274396.0000000000      1538717915528 1538718482608.0000000000   \n",
       "1 1406077331494.0000000000      1545735395212 1545735761270.0000000000   \n",
       "2 1493349147000.0000000000      1548320804000 1548322802000.0000000000   \n",
       "3 1493362372547.0000000000      1547642393838 1547643603911.0000000000   \n",
       "4 1429178498531.0000000000      1546763512498 1542891221530.0000000000   \n",
       "\n",
       "   avg_booking_invoice_amount_idr  avg_issued_invoice_amount_idr  \\\n",
       "0              2000822.7187500000             1193236.7777777778   \n",
       "1              1174168.9137931038             1031981.6666666665   \n",
       "2               284884.2741935484              252776.1666666666   \n",
       "3               737447.1944444445              587505.9545454546   \n",
       "4              1604697.6603773588             1443118.3000000000   \n",
       "\n",
       "   count_booking  count_issued  random_number  \n",
       "0             32            18   0.0015619442  \n",
       "1             58            33   0.0015619442  \n",
       "2             62            24   0.0042665520  \n",
       "3             36            22   0.0042665520  \n",
       "4             53            20   0.0024599007  "
      ]
     },
     "execution_count": 296,
     "metadata": {},
     "output_type": "execute_result"
    }
   ],
   "source": [
    "df.head()"
   ]
  },
  {
   "cell_type": "code",
   "execution_count": null,
   "metadata": {
    "id": "okMTzH1zL3Vf",
    "outputId": "ec974deb-c818-4251-8f6f-2521b9343933"
   },
   "outputs": [
    {
     "data": {
      "text/html": [
       "<div>\n",
       "<style scoped>\n",
       "    .dataframe tbody tr th:only-of-type {\n",
       "        vertical-align: middle;\n",
       "    }\n",
       "\n",
       "    .dataframe tbody tr th {\n",
       "        vertical-align: top;\n",
       "    }\n",
       "\n",
       "    .dataframe thead th {\n",
       "        text-align: right;\n",
       "    }\n",
       "</style>\n",
       "<table border=\"1\" class=\"dataframe\">\n",
       "  <thead>\n",
       "    <tr style=\"text-align: right;\">\n",
       "      <th></th>\n",
       "      <th>primary_sales_product_type</th>\n",
       "      <th>first_booking_time</th>\n",
       "      <th>first_issued_time</th>\n",
       "      <th>last_booking_time</th>\n",
       "      <th>last_issued_time</th>\n",
       "      <th>avg_booking_invoice_amount_idr</th>\n",
       "      <th>avg_issued_invoice_amount_idr</th>\n",
       "      <th>count_booking</th>\n",
       "      <th>count_issued</th>\n",
       "      <th>random_number</th>\n",
       "    </tr>\n",
       "    <tr>\n",
       "      <th>profile_id</th>\n",
       "      <th></th>\n",
       "      <th></th>\n",
       "      <th></th>\n",
       "      <th></th>\n",
       "      <th></th>\n",
       "      <th></th>\n",
       "      <th></th>\n",
       "      <th></th>\n",
       "      <th></th>\n",
       "      <th></th>\n",
       "    </tr>\n",
       "  </thead>\n",
       "  <tbody>\n",
       "    <tr>\n",
       "      <th>80027</th>\n",
       "      <td>3</td>\n",
       "      <td>3</td>\n",
       "      <td>3</td>\n",
       "      <td>3</td>\n",
       "      <td>3</td>\n",
       "      <td>3</td>\n",
       "      <td>3</td>\n",
       "      <td>3</td>\n",
       "      <td>3</td>\n",
       "      <td>3</td>\n",
       "    </tr>\n",
       "    <tr>\n",
       "      <th>80138</th>\n",
       "      <td>1</td>\n",
       "      <td>1</td>\n",
       "      <td>1</td>\n",
       "      <td>1</td>\n",
       "      <td>1</td>\n",
       "      <td>1</td>\n",
       "      <td>1</td>\n",
       "      <td>1</td>\n",
       "      <td>1</td>\n",
       "      <td>1</td>\n",
       "    </tr>\n",
       "    <tr>\n",
       "      <th>80381</th>\n",
       "      <td>2</td>\n",
       "      <td>2</td>\n",
       "      <td>1</td>\n",
       "      <td>2</td>\n",
       "      <td>1</td>\n",
       "      <td>2</td>\n",
       "      <td>1</td>\n",
       "      <td>2</td>\n",
       "      <td>2</td>\n",
       "      <td>2</td>\n",
       "    </tr>\n",
       "    <tr>\n",
       "      <th>81680</th>\n",
       "      <td>1</td>\n",
       "      <td>1</td>\n",
       "      <td>1</td>\n",
       "      <td>1</td>\n",
       "      <td>1</td>\n",
       "      <td>1</td>\n",
       "      <td>1</td>\n",
       "      <td>1</td>\n",
       "      <td>1</td>\n",
       "      <td>1</td>\n",
       "    </tr>\n",
       "    <tr>\n",
       "      <th>81781</th>\n",
       "      <td>2</td>\n",
       "      <td>2</td>\n",
       "      <td>2</td>\n",
       "      <td>2</td>\n",
       "      <td>2</td>\n",
       "      <td>2</td>\n",
       "      <td>2</td>\n",
       "      <td>2</td>\n",
       "      <td>2</td>\n",
       "      <td>2</td>\n",
       "    </tr>\n",
       "    <tr>\n",
       "      <th>...</th>\n",
       "      <td>...</td>\n",
       "      <td>...</td>\n",
       "      <td>...</td>\n",
       "      <td>...</td>\n",
       "      <td>...</td>\n",
       "      <td>...</td>\n",
       "      <td>...</td>\n",
       "      <td>...</td>\n",
       "      <td>...</td>\n",
       "      <td>...</td>\n",
       "    </tr>\n",
       "    <tr>\n",
       "      <th>104074145</th>\n",
       "      <td>1</td>\n",
       "      <td>1</td>\n",
       "      <td>0</td>\n",
       "      <td>1</td>\n",
       "      <td>0</td>\n",
       "      <td>1</td>\n",
       "      <td>0</td>\n",
       "      <td>1</td>\n",
       "      <td>1</td>\n",
       "      <td>1</td>\n",
       "    </tr>\n",
       "    <tr>\n",
       "      <th>104077873</th>\n",
       "      <td>1</td>\n",
       "      <td>1</td>\n",
       "      <td>1</td>\n",
       "      <td>1</td>\n",
       "      <td>1</td>\n",
       "      <td>1</td>\n",
       "      <td>1</td>\n",
       "      <td>1</td>\n",
       "      <td>1</td>\n",
       "      <td>1</td>\n",
       "    </tr>\n",
       "    <tr>\n",
       "      <th>104080871</th>\n",
       "      <td>1</td>\n",
       "      <td>1</td>\n",
       "      <td>0</td>\n",
       "      <td>1</td>\n",
       "      <td>0</td>\n",
       "      <td>1</td>\n",
       "      <td>0</td>\n",
       "      <td>1</td>\n",
       "      <td>1</td>\n",
       "      <td>1</td>\n",
       "    </tr>\n",
       "    <tr>\n",
       "      <th>104081671</th>\n",
       "      <td>1</td>\n",
       "      <td>1</td>\n",
       "      <td>0</td>\n",
       "      <td>1</td>\n",
       "      <td>0</td>\n",
       "      <td>1</td>\n",
       "      <td>0</td>\n",
       "      <td>1</td>\n",
       "      <td>1</td>\n",
       "      <td>1</td>\n",
       "    </tr>\n",
       "    <tr>\n",
       "      <th>104084195</th>\n",
       "      <td>1</td>\n",
       "      <td>1</td>\n",
       "      <td>0</td>\n",
       "      <td>1</td>\n",
       "      <td>0</td>\n",
       "      <td>1</td>\n",
       "      <td>0</td>\n",
       "      <td>1</td>\n",
       "      <td>1</td>\n",
       "      <td>1</td>\n",
       "    </tr>\n",
       "  </tbody>\n",
       "</table>\n",
       "<p>169717 rows × 10 columns</p>\n",
       "</div>"
      ],
      "text/plain": [
       "            primary_sales_product_type  first_booking_time  first_issued_time  \\\n",
       "profile_id                                                                      \n",
       "80027                                3                   3                  3   \n",
       "80138                                1                   1                  1   \n",
       "80381                                2                   2                  1   \n",
       "81680                                1                   1                  1   \n",
       "81781                                2                   2                  2   \n",
       "...                                ...                 ...                ...   \n",
       "104074145                            1                   1                  0   \n",
       "104077873                            1                   1                  1   \n",
       "104080871                            1                   1                  0   \n",
       "104081671                            1                   1                  0   \n",
       "104084195                            1                   1                  0   \n",
       "\n",
       "            last_booking_time  last_issued_time  \\\n",
       "profile_id                                        \n",
       "80027                       3                 3   \n",
       "80138                       1                 1   \n",
       "80381                       2                 1   \n",
       "81680                       1                 1   \n",
       "81781                       2                 2   \n",
       "...                       ...               ...   \n",
       "104074145                   1                 0   \n",
       "104077873                   1                 1   \n",
       "104080871                   1                 0   \n",
       "104081671                   1                 0   \n",
       "104084195                   1                 0   \n",
       "\n",
       "            avg_booking_invoice_amount_idr  avg_issued_invoice_amount_idr  \\\n",
       "profile_id                                                                  \n",
       "80027                                    3                              3   \n",
       "80138                                    1                              1   \n",
       "80381                                    2                              1   \n",
       "81680                                    1                              1   \n",
       "81781                                    2                              2   \n",
       "...                                    ...                            ...   \n",
       "104074145                                1                              0   \n",
       "104077873                                1                              1   \n",
       "104080871                                1                              0   \n",
       "104081671                                1                              0   \n",
       "104084195                                1                              0   \n",
       "\n",
       "            count_booking  count_issued  random_number  \n",
       "profile_id                                              \n",
       "80027                   3             3              3  \n",
       "80138                   1             1              1  \n",
       "80381                   2             2              2  \n",
       "81680                   1             1              1  \n",
       "81781                   2             2              2  \n",
       "...                   ...           ...            ...  \n",
       "104074145               1             1              1  \n",
       "104077873               1             1              1  \n",
       "104080871               1             1              1  \n",
       "104081671               1             1              1  \n",
       "104084195               1             1              1  \n",
       "\n",
       "[169717 rows x 10 columns]"
      ]
     },
     "execution_count": 297,
     "metadata": {},
     "output_type": "execute_result"
    }
   ],
   "source": [
    "df.groupby('profile_id').count()"
   ]
  },
  {
   "cell_type": "code",
   "execution_count": null,
   "metadata": {
    "id": "4GNev2JoL3Vg",
    "outputId": "f2012901-e0ce-4fbb-d041-4f021319a6e8"
   },
   "outputs": [
    {
     "name": "stdout",
     "output_type": "stream",
     "text": [
      "<class 'pandas.core.frame.DataFrame'>\n",
      "RangeIndex: 279149 entries, 0 to 279148\n",
      "Data columns (total 11 columns):\n",
      " #   Column                          Non-Null Count   Dtype  \n",
      "---  ------                          --------------   -----  \n",
      " 0   profile_id                      279149 non-null  int64  \n",
      " 1   primary_sales_product_type      279149 non-null  object \n",
      " 2   first_booking_time              279149 non-null  int64  \n",
      " 3   first_issued_time               206554 non-null  float64\n",
      " 4   last_booking_time               279149 non-null  int64  \n",
      " 5   last_issued_time                206554 non-null  float64\n",
      " 6   avg_booking_invoice_amount_idr  279149 non-null  float64\n",
      " 7   avg_issued_invoice_amount_idr   206554 non-null  float64\n",
      " 8   count_booking                   279149 non-null  int64  \n",
      " 9   count_issued                    279149 non-null  int64  \n",
      " 10  random_number                   279149 non-null  float64\n",
      "dtypes: float64(5), int64(5), object(1)\n",
      "memory usage: 23.4+ MB\n"
     ]
    }
   ],
   "source": [
    "df.info()"
   ]
  },
  {
   "cell_type": "markdown",
   "metadata": {
    "id": "C0J3iNgtL3Vh"
   },
   "source": [
    "# Data Preprocessing"
   ]
  },
  {
   "cell_type": "markdown",
   "metadata": {
    "id": "ipJKZen6L3Vl"
   },
   "source": [
    "### Transform Unix Timestamp"
   ]
  },
  {
   "cell_type": "code",
   "execution_count": null,
   "metadata": {
    "id": "a48LX0GWL3Vm"
   },
   "outputs": [],
   "source": [
    "df['first_booking_time'] = pd.to_datetime(df['first_booking_time'], unit = 'ms')\n",
    "df['first_issued_time'] = pd.to_datetime(df['first_issued_time'], unit = 'ms')\n",
    "df['last_booking_time'] = pd.to_datetime(df['last_booking_time'], unit = 'ms')\n",
    "df['last_issued_time'] = pd.to_datetime(df['last_issued_time'], unit = 'ms')"
   ]
  },
  {
   "cell_type": "code",
   "execution_count": null,
   "metadata": {
    "id": "Q1Vm_WWGL3Vo",
    "outputId": "5c3d6974-8be9-4272-811e-4542b732a5db"
   },
   "outputs": [
    {
     "data": {
      "text/html": [
       "<div>\n",
       "<style scoped>\n",
       "    .dataframe tbody tr th:only-of-type {\n",
       "        vertical-align: middle;\n",
       "    }\n",
       "\n",
       "    .dataframe tbody tr th {\n",
       "        vertical-align: top;\n",
       "    }\n",
       "\n",
       "    .dataframe thead th {\n",
       "        text-align: right;\n",
       "    }\n",
       "</style>\n",
       "<table border=\"1\" class=\"dataframe\">\n",
       "  <thead>\n",
       "    <tr style=\"text-align: right;\">\n",
       "      <th></th>\n",
       "      <th>profile_id</th>\n",
       "      <th>primary_sales_product_type</th>\n",
       "      <th>first_booking_time</th>\n",
       "      <th>first_issued_time</th>\n",
       "      <th>last_booking_time</th>\n",
       "      <th>last_issued_time</th>\n",
       "      <th>avg_booking_invoice_amount_idr</th>\n",
       "      <th>avg_issued_invoice_amount_idr</th>\n",
       "      <th>count_booking</th>\n",
       "      <th>count_issued</th>\n",
       "      <th>random_number</th>\n",
       "    </tr>\n",
       "  </thead>\n",
       "  <tbody>\n",
       "    <tr>\n",
       "      <th>0</th>\n",
       "      <td>3632279</td>\n",
       "      <td>HOTEL</td>\n",
       "      <td>2015-07-12 12:47:35.370</td>\n",
       "      <td>2016-06-19 02:44:34.396</td>\n",
       "      <td>2018-10-05 05:38:35.528</td>\n",
       "      <td>2018-10-05 05:48:02.608</td>\n",
       "      <td>2000822.7187500000</td>\n",
       "      <td>1193236.7777777778</td>\n",
       "      <td>32</td>\n",
       "      <td>18</td>\n",
       "      <td>0.0015619442</td>\n",
       "    </tr>\n",
       "    <tr>\n",
       "      <th>1</th>\n",
       "      <td>3632279</td>\n",
       "      <td>FLIGHT</td>\n",
       "      <td>2014-07-18 12:30:47.701</td>\n",
       "      <td>2014-07-23 01:02:11.494</td>\n",
       "      <td>2018-12-25 10:56:35.212</td>\n",
       "      <td>2018-12-25 11:02:41.270</td>\n",
       "      <td>1174168.9137931038</td>\n",
       "      <td>1031981.6666666665</td>\n",
       "      <td>58</td>\n",
       "      <td>33</td>\n",
       "      <td>0.0015619442</td>\n",
       "    </tr>\n",
       "    <tr>\n",
       "      <th>2</th>\n",
       "      <td>17407638</td>\n",
       "      <td>TRAIN</td>\n",
       "      <td>2017-04-28 02:59:24.000</td>\n",
       "      <td>2017-04-28 03:12:27.000</td>\n",
       "      <td>2019-01-24 09:06:44.000</td>\n",
       "      <td>2019-01-24 09:40:02.000</td>\n",
       "      <td>284884.2741935484</td>\n",
       "      <td>252776.1666666666</td>\n",
       "      <td>62</td>\n",
       "      <td>24</td>\n",
       "      <td>0.0042665520</td>\n",
       "    </tr>\n",
       "    <tr>\n",
       "      <th>3</th>\n",
       "      <td>17407638</td>\n",
       "      <td>HOTEL</td>\n",
       "      <td>2017-04-28 06:44:53.998</td>\n",
       "      <td>2017-04-28 06:52:52.547</td>\n",
       "      <td>2019-01-16 12:39:53.838</td>\n",
       "      <td>2019-01-16 13:00:03.911</td>\n",
       "      <td>737447.1944444445</td>\n",
       "      <td>587505.9545454546</td>\n",
       "      <td>36</td>\n",
       "      <td>22</td>\n",
       "      <td>0.0042665520</td>\n",
       "    </tr>\n",
       "    <tr>\n",
       "      <th>4</th>\n",
       "      <td>4618047</td>\n",
       "      <td>FLIGHT</td>\n",
       "      <td>2015-01-06 02:31:13.189</td>\n",
       "      <td>2015-04-16 10:01:38.531</td>\n",
       "      <td>2019-01-06 08:31:52.498</td>\n",
       "      <td>2018-11-22 12:53:41.530</td>\n",
       "      <td>1604697.6603773588</td>\n",
       "      <td>1443118.3000000000</td>\n",
       "      <td>53</td>\n",
       "      <td>20</td>\n",
       "      <td>0.0024599007</td>\n",
       "    </tr>\n",
       "  </tbody>\n",
       "</table>\n",
       "</div>"
      ],
      "text/plain": [
       "   profile_id primary_sales_product_type      first_booking_time  \\\n",
       "0     3632279                      HOTEL 2015-07-12 12:47:35.370   \n",
       "1     3632279                     FLIGHT 2014-07-18 12:30:47.701   \n",
       "2    17407638                      TRAIN 2017-04-28 02:59:24.000   \n",
       "3    17407638                      HOTEL 2017-04-28 06:44:53.998   \n",
       "4     4618047                     FLIGHT 2015-01-06 02:31:13.189   \n",
       "\n",
       "        first_issued_time       last_booking_time        last_issued_time  \\\n",
       "0 2016-06-19 02:44:34.396 2018-10-05 05:38:35.528 2018-10-05 05:48:02.608   \n",
       "1 2014-07-23 01:02:11.494 2018-12-25 10:56:35.212 2018-12-25 11:02:41.270   \n",
       "2 2017-04-28 03:12:27.000 2019-01-24 09:06:44.000 2019-01-24 09:40:02.000   \n",
       "3 2017-04-28 06:52:52.547 2019-01-16 12:39:53.838 2019-01-16 13:00:03.911   \n",
       "4 2015-04-16 10:01:38.531 2019-01-06 08:31:52.498 2018-11-22 12:53:41.530   \n",
       "\n",
       "   avg_booking_invoice_amount_idr  avg_issued_invoice_amount_idr  \\\n",
       "0              2000822.7187500000             1193236.7777777778   \n",
       "1              1174168.9137931038             1031981.6666666665   \n",
       "2               284884.2741935484              252776.1666666666   \n",
       "3               737447.1944444445              587505.9545454546   \n",
       "4              1604697.6603773588             1443118.3000000000   \n",
       "\n",
       "   count_booking  count_issued  random_number  \n",
       "0             32            18   0.0015619442  \n",
       "1             58            33   0.0015619442  \n",
       "2             62            24   0.0042665520  \n",
       "3             36            22   0.0042665520  \n",
       "4             53            20   0.0024599007  "
      ]
     },
     "execution_count": 300,
     "metadata": {},
     "output_type": "execute_result"
    }
   ],
   "source": [
    "df.head()"
   ]
  },
  {
   "cell_type": "markdown",
   "metadata": {
    "id": "Dha5_t9QL3Vp"
   },
   "source": [
    "### Dealing with Missing Values"
   ]
  },
  {
   "cell_type": "code",
   "execution_count": null,
   "metadata": {
    "id": "ELFg1yLVL3Vq",
    "outputId": "15cbd4d9-0a63-4f36-ef4a-bfc095830679"
   },
   "outputs": [
    {
     "data": {
      "text/plain": [
       "profile_id                        False\n",
       "primary_sales_product_type        False\n",
       "first_booking_time                False\n",
       "first_issued_time                  True\n",
       "last_booking_time                 False\n",
       "last_issued_time                   True\n",
       "avg_booking_invoice_amount_idr    False\n",
       "avg_issued_invoice_amount_idr      True\n",
       "count_booking                     False\n",
       "count_issued                      False\n",
       "random_number                     False\n",
       "dtype: bool"
      ]
     },
     "execution_count": 301,
     "metadata": {},
     "output_type": "execute_result"
    }
   ],
   "source": [
    "df.isnull().any()"
   ]
  },
  {
   "cell_type": "code",
   "execution_count": null,
   "metadata": {
    "id": "H8NU9xjcL3Vr",
    "outputId": "75548e43-82ec-439b-ac9e-0f2245fc23bc"
   },
   "outputs": [
    {
     "data": {
      "text/plain": [
       "profile_id                            0\n",
       "primary_sales_product_type            0\n",
       "first_booking_time                    0\n",
       "first_issued_time                 72595\n",
       "last_booking_time                     0\n",
       "last_issued_time                  72595\n",
       "avg_booking_invoice_amount_idr        0\n",
       "avg_issued_invoice_amount_idr     72595\n",
       "count_booking                         0\n",
       "count_issued                          0\n",
       "random_number                         0\n",
       "dtype: int64"
      ]
     },
     "execution_count": 302,
     "metadata": {},
     "output_type": "execute_result"
    }
   ],
   "source": [
    "df.isnull().sum()"
   ]
  },
  {
   "cell_type": "code",
   "execution_count": null,
   "metadata": {
    "id": "BWVEZUPOL3Vs",
    "outputId": "fbf4230b-dd79-42a8-a519-87ba6bfbd81a"
   },
   "outputs": [
    {
     "data": {
      "text/html": [
       "<div>\n",
       "<style scoped>\n",
       "    .dataframe tbody tr th:only-of-type {\n",
       "        vertical-align: middle;\n",
       "    }\n",
       "\n",
       "    .dataframe tbody tr th {\n",
       "        vertical-align: top;\n",
       "    }\n",
       "\n",
       "    .dataframe thead th {\n",
       "        text-align: right;\n",
       "    }\n",
       "</style>\n",
       "<table border=\"1\" class=\"dataframe\">\n",
       "  <thead>\n",
       "    <tr style=\"text-align: right;\">\n",
       "      <th></th>\n",
       "      <th>profile_id</th>\n",
       "      <th>primary_sales_product_type</th>\n",
       "      <th>first_booking_time</th>\n",
       "      <th>first_issued_time</th>\n",
       "      <th>last_booking_time</th>\n",
       "      <th>last_issued_time</th>\n",
       "      <th>avg_booking_invoice_amount_idr</th>\n",
       "      <th>avg_issued_invoice_amount_idr</th>\n",
       "      <th>count_booking</th>\n",
       "      <th>count_issued</th>\n",
       "      <th>random_number</th>\n",
       "    </tr>\n",
       "  </thead>\n",
       "  <tbody>\n",
       "    <tr>\n",
       "      <th>29588</th>\n",
       "      <td>81889</td>\n",
       "      <td>FLIGHT</td>\n",
       "      <td>2013-03-08 07:53:46.297</td>\n",
       "      <td>NaT</td>\n",
       "      <td>2013-03-08 07:53:46.297</td>\n",
       "      <td>NaT</td>\n",
       "      <td>720865.0000000000</td>\n",
       "      <td>nan</td>\n",
       "      <td>1</td>\n",
       "      <td>0</td>\n",
       "      <td>0.0039092364</td>\n",
       "    </tr>\n",
       "    <tr>\n",
       "      <th>46452</th>\n",
       "      <td>83601</td>\n",
       "      <td>FLIGHT</td>\n",
       "      <td>2013-03-11 04:48:32.304</td>\n",
       "      <td>NaT</td>\n",
       "      <td>2013-03-11 04:48:32.304</td>\n",
       "      <td>NaT</td>\n",
       "      <td>601034.0000000000</td>\n",
       "      <td>nan</td>\n",
       "      <td>1</td>\n",
       "      <td>0</td>\n",
       "      <td>0.0022992544</td>\n",
       "    </tr>\n",
       "    <tr>\n",
       "      <th>68535</th>\n",
       "      <td>86001</td>\n",
       "      <td>FLIGHT</td>\n",
       "      <td>2013-03-14 05:20:14.506</td>\n",
       "      <td>NaT</td>\n",
       "      <td>2013-03-14 05:20:14.506</td>\n",
       "      <td>NaT</td>\n",
       "      <td>577106.0000000000</td>\n",
       "      <td>nan</td>\n",
       "      <td>1</td>\n",
       "      <td>0</td>\n",
       "      <td>0.0001248507</td>\n",
       "    </tr>\n",
       "    <tr>\n",
       "      <th>56435</th>\n",
       "      <td>97889</td>\n",
       "      <td>FLIGHT</td>\n",
       "      <td>2013-03-27 09:10:58.878</td>\n",
       "      <td>NaT</td>\n",
       "      <td>2013-03-27 09:10:58.878</td>\n",
       "      <td>NaT</td>\n",
       "      <td>1415861.0000000000</td>\n",
       "      <td>nan</td>\n",
       "      <td>1</td>\n",
       "      <td>0</td>\n",
       "      <td>0.0010546579</td>\n",
       "    </tr>\n",
       "    <tr>\n",
       "      <th>22461</th>\n",
       "      <td>120641</td>\n",
       "      <td>FLIGHT</td>\n",
       "      <td>2013-04-16 09:23:37.329</td>\n",
       "      <td>NaT</td>\n",
       "      <td>2013-04-16 09:23:37.329</td>\n",
       "      <td>NaT</td>\n",
       "      <td>498314.0000000000</td>\n",
       "      <td>nan</td>\n",
       "      <td>1</td>\n",
       "      <td>0</td>\n",
       "      <td>0.0009147493</td>\n",
       "    </tr>\n",
       "    <tr>\n",
       "      <th>...</th>\n",
       "      <td>...</td>\n",
       "      <td>...</td>\n",
       "      <td>...</td>\n",
       "      <td>...</td>\n",
       "      <td>...</td>\n",
       "      <td>...</td>\n",
       "      <td>...</td>\n",
       "      <td>...</td>\n",
       "      <td>...</td>\n",
       "      <td>...</td>\n",
       "      <td>...</td>\n",
       "    </tr>\n",
       "    <tr>\n",
       "      <th>61131</th>\n",
       "      <td>104084195</td>\n",
       "      <td>TRAIN</td>\n",
       "      <td>2019-02-01 21:43:11.000</td>\n",
       "      <td>NaT</td>\n",
       "      <td>2019-02-01 21:43:11.000</td>\n",
       "      <td>NaT</td>\n",
       "      <td>36004.0000000000</td>\n",
       "      <td>nan</td>\n",
       "      <td>1</td>\n",
       "      <td>0</td>\n",
       "      <td>0.0014177497</td>\n",
       "    </tr>\n",
       "    <tr>\n",
       "      <th>78364</th>\n",
       "      <td>3541528</td>\n",
       "      <td>TRAIN</td>\n",
       "      <td>2019-02-01 22:19:31.000</td>\n",
       "      <td>NaT</td>\n",
       "      <td>2019-02-01 22:19:31.000</td>\n",
       "      <td>NaT</td>\n",
       "      <td>203203.0000000000</td>\n",
       "      <td>nan</td>\n",
       "      <td>1</td>\n",
       "      <td>0</td>\n",
       "      <td>0.0000150917</td>\n",
       "    </tr>\n",
       "    <tr>\n",
       "      <th>31658</th>\n",
       "      <td>23799942</td>\n",
       "      <td>HOTEL</td>\n",
       "      <td>2019-02-01 22:23:13.975</td>\n",
       "      <td>NaT</td>\n",
       "      <td>2019-02-01 22:25:24.456</td>\n",
       "      <td>NaT</td>\n",
       "      <td>3357476.4720000001</td>\n",
       "      <td>nan</td>\n",
       "      <td>2</td>\n",
       "      <td>0</td>\n",
       "      <td>0.0028041520</td>\n",
       "    </tr>\n",
       "    <tr>\n",
       "      <th>80973</th>\n",
       "      <td>13705995</td>\n",
       "      <td>TRIP</td>\n",
       "      <td>2019-02-01 22:41:52.000</td>\n",
       "      <td>NaT</td>\n",
       "      <td>2019-02-01 22:46:28.000</td>\n",
       "      <td>NaT</td>\n",
       "      <td>2209966.5000000000</td>\n",
       "      <td>nan</td>\n",
       "      <td>2</td>\n",
       "      <td>0</td>\n",
       "      <td>0.0030952402</td>\n",
       "    </tr>\n",
       "    <tr>\n",
       "      <th>70566</th>\n",
       "      <td>62800564</td>\n",
       "      <td>FLIGHT</td>\n",
       "      <td>2019-02-01 22:44:12.811</td>\n",
       "      <td>NaT</td>\n",
       "      <td>2019-02-01 22:44:12.811</td>\n",
       "      <td>NaT</td>\n",
       "      <td>3614118.0000000000</td>\n",
       "      <td>nan</td>\n",
       "      <td>1</td>\n",
       "      <td>0</td>\n",
       "      <td>0.0031008504</td>\n",
       "    </tr>\n",
       "  </tbody>\n",
       "</table>\n",
       "<p>72595 rows × 11 columns</p>\n",
       "</div>"
      ],
      "text/plain": [
       "       profile_id primary_sales_product_type      first_booking_time  \\\n",
       "29588       81889                     FLIGHT 2013-03-08 07:53:46.297   \n",
       "46452       83601                     FLIGHT 2013-03-11 04:48:32.304   \n",
       "68535       86001                     FLIGHT 2013-03-14 05:20:14.506   \n",
       "56435       97889                     FLIGHT 2013-03-27 09:10:58.878   \n",
       "22461      120641                     FLIGHT 2013-04-16 09:23:37.329   \n",
       "...           ...                        ...                     ...   \n",
       "61131   104084195                      TRAIN 2019-02-01 21:43:11.000   \n",
       "78364     3541528                      TRAIN 2019-02-01 22:19:31.000   \n",
       "31658    23799942                      HOTEL 2019-02-01 22:23:13.975   \n",
       "80973    13705995                       TRIP 2019-02-01 22:41:52.000   \n",
       "70566    62800564                     FLIGHT 2019-02-01 22:44:12.811   \n",
       "\n",
       "      first_issued_time       last_booking_time last_issued_time  \\\n",
       "29588               NaT 2013-03-08 07:53:46.297              NaT   \n",
       "46452               NaT 2013-03-11 04:48:32.304              NaT   \n",
       "68535               NaT 2013-03-14 05:20:14.506              NaT   \n",
       "56435               NaT 2013-03-27 09:10:58.878              NaT   \n",
       "22461               NaT 2013-04-16 09:23:37.329              NaT   \n",
       "...                 ...                     ...              ...   \n",
       "61131               NaT 2019-02-01 21:43:11.000              NaT   \n",
       "78364               NaT 2019-02-01 22:19:31.000              NaT   \n",
       "31658               NaT 2019-02-01 22:25:24.456              NaT   \n",
       "80973               NaT 2019-02-01 22:46:28.000              NaT   \n",
       "70566               NaT 2019-02-01 22:44:12.811              NaT   \n",
       "\n",
       "       avg_booking_invoice_amount_idr  avg_issued_invoice_amount_idr  \\\n",
       "29588               720865.0000000000                            nan   \n",
       "46452               601034.0000000000                            nan   \n",
       "68535               577106.0000000000                            nan   \n",
       "56435              1415861.0000000000                            nan   \n",
       "22461               498314.0000000000                            nan   \n",
       "...                               ...                            ...   \n",
       "61131                36004.0000000000                            nan   \n",
       "78364               203203.0000000000                            nan   \n",
       "31658              3357476.4720000001                            nan   \n",
       "80973              2209966.5000000000                            nan   \n",
       "70566              3614118.0000000000                            nan   \n",
       "\n",
       "       count_booking  count_issued  random_number  \n",
       "29588              1             0   0.0039092364  \n",
       "46452              1             0   0.0022992544  \n",
       "68535              1             0   0.0001248507  \n",
       "56435              1             0   0.0010546579  \n",
       "22461              1             0   0.0009147493  \n",
       "...              ...           ...            ...  \n",
       "61131              1             0   0.0014177497  \n",
       "78364              1             0   0.0000150917  \n",
       "31658              2             0   0.0028041520  \n",
       "80973              2             0   0.0030952402  \n",
       "70566              1             0   0.0031008504  \n",
       "\n",
       "[72595 rows x 11 columns]"
      ]
     },
     "execution_count": 303,
     "metadata": {},
     "output_type": "execute_result"
    }
   ],
   "source": [
    "df[df['first_issued_time'].isnull()].sort_values(by='first_booking_time', ascending = True)"
   ]
  },
  {
   "cell_type": "code",
   "execution_count": null,
   "metadata": {
    "id": "adTgeTRkL3Vs"
   },
   "outputs": [],
   "source": [
    "# select only churned customers (non null last_issued_time)\n",
    "df = df.dropna()"
   ]
  },
  {
   "cell_type": "code",
   "execution_count": null,
   "metadata": {
    "id": "uTtGuhd4L3Vs",
    "outputId": "9a261d35-cbf3-4bc8-8fce-e05cd8c034e9"
   },
   "outputs": [
    {
     "name": "stdout",
     "output_type": "stream",
     "text": [
      "<class 'pandas.core.frame.DataFrame'>\n",
      "Int64Index: 206554 entries, 0 to 279148\n",
      "Data columns (total 11 columns):\n",
      " #   Column                          Non-Null Count   Dtype         \n",
      "---  ------                          --------------   -----         \n",
      " 0   profile_id                      206554 non-null  int64         \n",
      " 1   primary_sales_product_type      206554 non-null  object        \n",
      " 2   first_booking_time              206554 non-null  datetime64[ns]\n",
      " 3   first_issued_time               206554 non-null  datetime64[ns]\n",
      " 4   last_booking_time               206554 non-null  datetime64[ns]\n",
      " 5   last_issued_time                206554 non-null  datetime64[ns]\n",
      " 6   avg_booking_invoice_amount_idr  206554 non-null  float64       \n",
      " 7   avg_issued_invoice_amount_idr   206554 non-null  float64       \n",
      " 8   count_booking                   206554 non-null  int64         \n",
      " 9   count_issued                    206554 non-null  int64         \n",
      " 10  random_number                   206554 non-null  float64       \n",
      "dtypes: datetime64[ns](4), float64(3), int64(3), object(1)\n",
      "memory usage: 18.9+ MB\n"
     ]
    }
   ],
   "source": [
    "df.info()"
   ]
  },
  {
   "cell_type": "code",
   "execution_count": null,
   "metadata": {
    "id": "2ObPyIP-L3Vt"
   },
   "outputs": [],
   "source": [
    "# drop average booking amt = 0 & avg invoice amt = 0, but first booking time is present\n",
    "df = df[df['avg_booking_invoice_amount_idr'] != 0]"
   ]
  },
  {
   "cell_type": "code",
   "execution_count": null,
   "metadata": {
    "id": "D57lcL4IL3Vt",
    "outputId": "dbd52751-75b7-4877-fd69-ed1379aae065"
   },
   "outputs": [
    {
     "name": "stdout",
     "output_type": "stream",
     "text": [
      "<class 'pandas.core.frame.DataFrame'>\n",
      "Int64Index: 206546 entries, 0 to 279148\n",
      "Data columns (total 11 columns):\n",
      " #   Column                          Non-Null Count   Dtype         \n",
      "---  ------                          --------------   -----         \n",
      " 0   profile_id                      206546 non-null  int64         \n",
      " 1   primary_sales_product_type      206546 non-null  object        \n",
      " 2   first_booking_time              206546 non-null  datetime64[ns]\n",
      " 3   first_issued_time               206546 non-null  datetime64[ns]\n",
      " 4   last_booking_time               206546 non-null  datetime64[ns]\n",
      " 5   last_issued_time                206546 non-null  datetime64[ns]\n",
      " 6   avg_booking_invoice_amount_idr  206546 non-null  float64       \n",
      " 7   avg_issued_invoice_amount_idr   206546 non-null  float64       \n",
      " 8   count_booking                   206546 non-null  int64         \n",
      " 9   count_issued                    206546 non-null  int64         \n",
      " 10  random_number                   206546 non-null  float64       \n",
      "dtypes: datetime64[ns](4), float64(3), int64(3), object(1)\n",
      "memory usage: 18.9+ MB\n"
     ]
    }
   ],
   "source": [
    "df.info()"
   ]
  },
  {
   "cell_type": "markdown",
   "metadata": {
    "id": "d1ruDo0jL3Vt"
   },
   "source": [
    "### Add Last Updated Date"
   ]
  },
  {
   "cell_type": "code",
   "execution_count": null,
   "metadata": {
    "id": "02FWbvaeL3Vt"
   },
   "outputs": [],
   "source": [
    "df['last_updated_date']= pd.to_datetime('2019-02-01', format='%Y-%m-%d')"
   ]
  },
  {
   "cell_type": "code",
   "execution_count": null,
   "metadata": {
    "id": "wAehCF7DL3Vu",
    "outputId": "0a71aba4-1a7f-4979-ad8e-a5068d951506"
   },
   "outputs": [
    {
     "data": {
      "text/plain": [
       "profile_id                                 int64\n",
       "primary_sales_product_type                object\n",
       "first_booking_time                datetime64[ns]\n",
       "first_issued_time                 datetime64[ns]\n",
       "last_booking_time                 datetime64[ns]\n",
       "last_issued_time                  datetime64[ns]\n",
       "avg_booking_invoice_amount_idr           float64\n",
       "avg_issued_invoice_amount_idr            float64\n",
       "count_booking                              int64\n",
       "count_issued                               int64\n",
       "random_number                            float64\n",
       "last_updated_date                 datetime64[ns]\n",
       "dtype: object"
      ]
     },
     "execution_count": 309,
     "metadata": {},
     "output_type": "execute_result"
    }
   ],
   "source": [
    "df.dtypes"
   ]
  },
  {
   "cell_type": "code",
   "execution_count": null,
   "metadata": {
    "id": "RW71sVluL3Vu",
    "outputId": "7c07c842-cf4a-4527-89f1-10f1c13891c9"
   },
   "outputs": [
    {
     "data": {
      "text/html": [
       "<div>\n",
       "<style scoped>\n",
       "    .dataframe tbody tr th:only-of-type {\n",
       "        vertical-align: middle;\n",
       "    }\n",
       "\n",
       "    .dataframe tbody tr th {\n",
       "        vertical-align: top;\n",
       "    }\n",
       "\n",
       "    .dataframe thead th {\n",
       "        text-align: right;\n",
       "    }\n",
       "</style>\n",
       "<table border=\"1\" class=\"dataframe\">\n",
       "  <thead>\n",
       "    <tr style=\"text-align: right;\">\n",
       "      <th></th>\n",
       "      <th>profile_id</th>\n",
       "      <th>primary_sales_product_type</th>\n",
       "      <th>first_booking_time</th>\n",
       "      <th>first_issued_time</th>\n",
       "      <th>last_booking_time</th>\n",
       "      <th>last_issued_time</th>\n",
       "      <th>avg_booking_invoice_amount_idr</th>\n",
       "      <th>avg_issued_invoice_amount_idr</th>\n",
       "      <th>count_booking</th>\n",
       "      <th>count_issued</th>\n",
       "      <th>random_number</th>\n",
       "      <th>last_updated_date</th>\n",
       "    </tr>\n",
       "  </thead>\n",
       "  <tbody>\n",
       "    <tr>\n",
       "      <th>0</th>\n",
       "      <td>3632279</td>\n",
       "      <td>HOTEL</td>\n",
       "      <td>2015-07-12 12:47:35.370</td>\n",
       "      <td>2016-06-19 02:44:34.396</td>\n",
       "      <td>2018-10-05 05:38:35.528</td>\n",
       "      <td>2018-10-05 05:48:02.608</td>\n",
       "      <td>2000822.7187500000</td>\n",
       "      <td>1193236.7777777778</td>\n",
       "      <td>32</td>\n",
       "      <td>18</td>\n",
       "      <td>0.0015619442</td>\n",
       "      <td>2019-02-01</td>\n",
       "    </tr>\n",
       "    <tr>\n",
       "      <th>1</th>\n",
       "      <td>3632279</td>\n",
       "      <td>FLIGHT</td>\n",
       "      <td>2014-07-18 12:30:47.701</td>\n",
       "      <td>2014-07-23 01:02:11.494</td>\n",
       "      <td>2018-12-25 10:56:35.212</td>\n",
       "      <td>2018-12-25 11:02:41.270</td>\n",
       "      <td>1174168.9137931038</td>\n",
       "      <td>1031981.6666666665</td>\n",
       "      <td>58</td>\n",
       "      <td>33</td>\n",
       "      <td>0.0015619442</td>\n",
       "      <td>2019-02-01</td>\n",
       "    </tr>\n",
       "    <tr>\n",
       "      <th>2</th>\n",
       "      <td>17407638</td>\n",
       "      <td>TRAIN</td>\n",
       "      <td>2017-04-28 02:59:24.000</td>\n",
       "      <td>2017-04-28 03:12:27.000</td>\n",
       "      <td>2019-01-24 09:06:44.000</td>\n",
       "      <td>2019-01-24 09:40:02.000</td>\n",
       "      <td>284884.2741935484</td>\n",
       "      <td>252776.1666666666</td>\n",
       "      <td>62</td>\n",
       "      <td>24</td>\n",
       "      <td>0.0042665520</td>\n",
       "      <td>2019-02-01</td>\n",
       "    </tr>\n",
       "    <tr>\n",
       "      <th>3</th>\n",
       "      <td>17407638</td>\n",
       "      <td>HOTEL</td>\n",
       "      <td>2017-04-28 06:44:53.998</td>\n",
       "      <td>2017-04-28 06:52:52.547</td>\n",
       "      <td>2019-01-16 12:39:53.838</td>\n",
       "      <td>2019-01-16 13:00:03.911</td>\n",
       "      <td>737447.1944444445</td>\n",
       "      <td>587505.9545454546</td>\n",
       "      <td>36</td>\n",
       "      <td>22</td>\n",
       "      <td>0.0042665520</td>\n",
       "      <td>2019-02-01</td>\n",
       "    </tr>\n",
       "    <tr>\n",
       "      <th>4</th>\n",
       "      <td>4618047</td>\n",
       "      <td>FLIGHT</td>\n",
       "      <td>2015-01-06 02:31:13.189</td>\n",
       "      <td>2015-04-16 10:01:38.531</td>\n",
       "      <td>2019-01-06 08:31:52.498</td>\n",
       "      <td>2018-11-22 12:53:41.530</td>\n",
       "      <td>1604697.6603773588</td>\n",
       "      <td>1443118.3000000000</td>\n",
       "      <td>53</td>\n",
       "      <td>20</td>\n",
       "      <td>0.0024599007</td>\n",
       "      <td>2019-02-01</td>\n",
       "    </tr>\n",
       "  </tbody>\n",
       "</table>\n",
       "</div>"
      ],
      "text/plain": [
       "   profile_id primary_sales_product_type      first_booking_time  \\\n",
       "0     3632279                      HOTEL 2015-07-12 12:47:35.370   \n",
       "1     3632279                     FLIGHT 2014-07-18 12:30:47.701   \n",
       "2    17407638                      TRAIN 2017-04-28 02:59:24.000   \n",
       "3    17407638                      HOTEL 2017-04-28 06:44:53.998   \n",
       "4     4618047                     FLIGHT 2015-01-06 02:31:13.189   \n",
       "\n",
       "        first_issued_time       last_booking_time        last_issued_time  \\\n",
       "0 2016-06-19 02:44:34.396 2018-10-05 05:38:35.528 2018-10-05 05:48:02.608   \n",
       "1 2014-07-23 01:02:11.494 2018-12-25 10:56:35.212 2018-12-25 11:02:41.270   \n",
       "2 2017-04-28 03:12:27.000 2019-01-24 09:06:44.000 2019-01-24 09:40:02.000   \n",
       "3 2017-04-28 06:52:52.547 2019-01-16 12:39:53.838 2019-01-16 13:00:03.911   \n",
       "4 2015-04-16 10:01:38.531 2019-01-06 08:31:52.498 2018-11-22 12:53:41.530   \n",
       "\n",
       "   avg_booking_invoice_amount_idr  avg_issued_invoice_amount_idr  \\\n",
       "0              2000822.7187500000             1193236.7777777778   \n",
       "1              1174168.9137931038             1031981.6666666665   \n",
       "2               284884.2741935484              252776.1666666666   \n",
       "3               737447.1944444445              587505.9545454546   \n",
       "4              1604697.6603773588             1443118.3000000000   \n",
       "\n",
       "   count_booking  count_issued  random_number last_updated_date  \n",
       "0             32            18   0.0015619442        2019-02-01  \n",
       "1             58            33   0.0015619442        2019-02-01  \n",
       "2             62            24   0.0042665520        2019-02-01  \n",
       "3             36            22   0.0042665520        2019-02-01  \n",
       "4             53            20   0.0024599007        2019-02-01  "
      ]
     },
     "execution_count": 310,
     "metadata": {},
     "output_type": "execute_result"
    }
   ],
   "source": [
    "df.head()"
   ]
  },
  {
   "cell_type": "code",
   "execution_count": null,
   "metadata": {
    "id": "JjeDnf6OL3Vu"
   },
   "outputs": [],
   "source": [
    "df['last_issued_date'] = pd.to_datetime(df['last_issued_time'].dt.date)\n",
    "df['last_booking_date'] = pd.to_datetime(df['last_booking_time'].dt.date)\n",
    "df['first_issued_date'] = pd.to_datetime(df['first_issued_time'].dt.date)\n",
    "df['first_booking_date'] = pd.to_datetime(df['first_booking_time'].dt.date)"
   ]
  },
  {
   "cell_type": "code",
   "execution_count": null,
   "metadata": {
    "id": "r7nxVYbqL3Vv",
    "outputId": "9d716e7a-e37c-4468-cfaf-0033c520b5fa"
   },
   "outputs": [
    {
     "data": {
      "text/plain": [
       "profile_id                                 int64\n",
       "primary_sales_product_type                object\n",
       "first_booking_time                datetime64[ns]\n",
       "first_issued_time                 datetime64[ns]\n",
       "last_booking_time                 datetime64[ns]\n",
       "last_issued_time                  datetime64[ns]\n",
       "avg_booking_invoice_amount_idr           float64\n",
       "avg_issued_invoice_amount_idr            float64\n",
       "count_booking                              int64\n",
       "count_issued                               int64\n",
       "random_number                            float64\n",
       "last_updated_date                 datetime64[ns]\n",
       "last_issued_date                  datetime64[ns]\n",
       "last_booking_date                 datetime64[ns]\n",
       "first_issued_date                 datetime64[ns]\n",
       "first_booking_date                datetime64[ns]\n",
       "dtype: object"
      ]
     },
     "execution_count": 312,
     "metadata": {},
     "output_type": "execute_result"
    }
   ],
   "source": [
    "df.dtypes"
   ]
  },
  {
   "cell_type": "code",
   "execution_count": null,
   "metadata": {
    "id": "5XPn8n9fL3Vv",
    "outputId": "4ce0d943-445d-4932-faaf-4fb426bf2652"
   },
   "outputs": [
    {
     "data": {
      "text/plain": [
       "profile_id                        False\n",
       "primary_sales_product_type        False\n",
       "first_booking_time                False\n",
       "first_issued_time                 False\n",
       "last_booking_time                 False\n",
       "last_issued_time                  False\n",
       "avg_booking_invoice_amount_idr    False\n",
       "avg_issued_invoice_amount_idr     False\n",
       "count_booking                     False\n",
       "count_issued                      False\n",
       "random_number                     False\n",
       "last_updated_date                 False\n",
       "last_issued_date                  False\n",
       "last_booking_date                 False\n",
       "first_issued_date                 False\n",
       "first_booking_date                False\n",
       "dtype: bool"
      ]
     },
     "execution_count": 313,
     "metadata": {},
     "output_type": "execute_result"
    }
   ],
   "source": [
    "df.isna().any()"
   ]
  },
  {
   "cell_type": "code",
   "execution_count": null,
   "metadata": {
    "id": "GTHqJ1ySL3Vv"
   },
   "outputs": [],
   "source": [
    "pd.set_option('display.float_format', lambda x: '%.5f' % x)"
   ]
  },
  {
   "cell_type": "markdown",
   "metadata": {
    "id": "rksgown9L3Vv"
   },
   "source": [
    "### Quick Descriptive Analysis"
   ]
  },
  {
   "cell_type": "code",
   "execution_count": null,
   "metadata": {
    "id": "VRnOK7AwL3Vw",
    "outputId": "f9ac293c-930a-40d5-9048-0407a2cf1fed"
   },
   "outputs": [
    {
     "data": {
      "text/html": [
       "<div>\n",
       "<style scoped>\n",
       "    .dataframe tbody tr th:only-of-type {\n",
       "        vertical-align: middle;\n",
       "    }\n",
       "\n",
       "    .dataframe tbody tr th {\n",
       "        vertical-align: top;\n",
       "    }\n",
       "\n",
       "    .dataframe thead th {\n",
       "        text-align: right;\n",
       "    }\n",
       "</style>\n",
       "<table border=\"1\" class=\"dataframe\">\n",
       "  <thead>\n",
       "    <tr style=\"text-align: right;\">\n",
       "      <th></th>\n",
       "      <th>avg_booking_invoice_amount_idr</th>\n",
       "      <th>avg_issued_invoice_amount_idr</th>\n",
       "      <th>count_booking</th>\n",
       "      <th>count_issued</th>\n",
       "      <th>random_number</th>\n",
       "    </tr>\n",
       "  </thead>\n",
       "  <tbody>\n",
       "    <tr>\n",
       "      <th>count</th>\n",
       "      <td>206546.00000</td>\n",
       "      <td>206546.00000</td>\n",
       "      <td>206546.00000</td>\n",
       "      <td>206546.00000</td>\n",
       "      <td>206546.00000</td>\n",
       "    </tr>\n",
       "    <tr>\n",
       "      <th>mean</th>\n",
       "      <td>1176956.97514</td>\n",
       "      <td>1118113.82978</td>\n",
       "      <td>13.84774</td>\n",
       "      <td>6.98084</td>\n",
       "      <td>0.00250</td>\n",
       "    </tr>\n",
       "    <tr>\n",
       "      <th>std</th>\n",
       "      <td>1643688.03535</td>\n",
       "      <td>1484782.69417</td>\n",
       "      <td>32.93616</td>\n",
       "      <td>20.31540</td>\n",
       "      <td>0.00144</td>\n",
       "    </tr>\n",
       "    <tr>\n",
       "      <th>min</th>\n",
       "      <td>4173.96916</td>\n",
       "      <td>0.00000</td>\n",
       "      <td>1.00000</td>\n",
       "      <td>1.00000</td>\n",
       "      <td>0.00000</td>\n",
       "    </tr>\n",
       "    <tr>\n",
       "      <th>25%</th>\n",
       "      <td>434579.41667</td>\n",
       "      <td>408101.39423</td>\n",
       "      <td>2.00000</td>\n",
       "      <td>1.00000</td>\n",
       "      <td>0.00125</td>\n",
       "    </tr>\n",
       "    <tr>\n",
       "      <th>50%</th>\n",
       "      <td>799270.25000</td>\n",
       "      <td>753177.10000</td>\n",
       "      <td>5.00000</td>\n",
       "      <td>2.00000</td>\n",
       "      <td>0.00249</td>\n",
       "    </tr>\n",
       "    <tr>\n",
       "      <th>75%</th>\n",
       "      <td>1375946.88889</td>\n",
       "      <td>1310237.84814</td>\n",
       "      <td>14.00000</td>\n",
       "      <td>6.00000</td>\n",
       "      <td>0.00375</td>\n",
       "    </tr>\n",
       "    <tr>\n",
       "      <th>max</th>\n",
       "      <td>191527701.53195</td>\n",
       "      <td>88993002.50000</td>\n",
       "      <td>4308.00000</td>\n",
       "      <td>3132.00000</td>\n",
       "      <td>0.00500</td>\n",
       "    </tr>\n",
       "  </tbody>\n",
       "</table>\n",
       "</div>"
      ],
      "text/plain": [
       "       avg_booking_invoice_amount_idr  avg_issued_invoice_amount_idr  \\\n",
       "count                    206546.00000                   206546.00000   \n",
       "mean                    1176956.97514                  1118113.82978   \n",
       "std                     1643688.03535                  1484782.69417   \n",
       "min                        4173.96916                        0.00000   \n",
       "25%                      434579.41667                   408101.39423   \n",
       "50%                      799270.25000                   753177.10000   \n",
       "75%                     1375946.88889                  1310237.84814   \n",
       "max                   191527701.53195                 88993002.50000   \n",
       "\n",
       "       count_booking  count_issued  random_number  \n",
       "count   206546.00000  206546.00000   206546.00000  \n",
       "mean        13.84774       6.98084        0.00250  \n",
       "std         32.93616      20.31540        0.00144  \n",
       "min          1.00000       1.00000        0.00000  \n",
       "25%          2.00000       1.00000        0.00125  \n",
       "50%          5.00000       2.00000        0.00249  \n",
       "75%         14.00000       6.00000        0.00375  \n",
       "max       4308.00000    3132.00000        0.00500  "
      ]
     },
     "execution_count": 315,
     "metadata": {},
     "output_type": "execute_result"
    }
   ],
   "source": [
    "df.drop('profile_id', axis = 1).describe()"
   ]
  },
  {
   "cell_type": "markdown",
   "metadata": {
    "id": "cs3XsA4qL3Vw"
   },
   "source": [
    "### Add Lables Churn and No Churn"
   ]
  },
  {
   "cell_type": "code",
   "execution_count": null,
   "metadata": {
    "id": "8bqQQlfQL3Vw"
   },
   "outputs": [],
   "source": [
    "# day of churned customers (2019-02-01 minus last issued date)\n",
    "df['day_diff'] = df['last_updated_date'] - df['last_issued_date']\n",
    "# day difference between last and first booking time\n",
    "df['day_diff_booking_time'] = df['last_booking_date'] - df['first_booking_date']\n",
    "# day difference between last and first issued time\n",
    "df['day_diff_issue_time'] = df['last_issued_date'] - df['first_issued_date']\n",
    "# conversion rate (# of issued invoice / # of booking)\n",
    "df['cvr'] = df['count_issued'] / df['count_booking']"
   ]
  },
  {
   "cell_type": "markdown",
   "metadata": {
    "id": "xSLNxXezL3Vw"
   },
   "source": [
    "### Convert Days from String to Int"
   ]
  },
  {
   "cell_type": "code",
   "execution_count": null,
   "metadata": {
    "id": "tLkpzcNML3Vx",
    "outputId": "62111c2d-be0a-4e3a-dcba-07031ac0de3b"
   },
   "outputs": [
    {
     "data": {
      "text/plain": [
       "0          838\n",
       "1         1616\n",
       "2          636\n",
       "3          628\n",
       "4         1316\n",
       "          ... \n",
       "279144     214\n",
       "279145     362\n",
       "279146     436\n",
       "279147     519\n",
       "279148    1493\n",
       "Name: day_diff_issue_time, Length: 206546, dtype: int32"
      ]
     },
     "execution_count": 317,
     "metadata": {},
     "output_type": "execute_result"
    }
   ],
   "source": [
    "df['day_diff'] = df.day_diff / np.timedelta64(1, 'D')\n",
    "df['day_diff_booking_time'] = df.day_diff_booking_time / np.timedelta64(1, 'D')\n",
    "df['day_diff_issue_time'] = df.day_diff_issue_time / np.timedelta64(1, 'D')\n",
    "df['day_diff'].astype(int)\n",
    "df['day_diff_booking_time'].astype(int)\n",
    "df['day_diff_issue_time'].astype(int)"
   ]
  },
  {
   "cell_type": "code",
   "execution_count": null,
   "metadata": {
    "id": "Vdc-mu84L3Vx"
   },
   "outputs": [],
   "source": [
    "## Set churn vs no churn\n",
    "df['label'] = np.where(df['day_diff'] > 365, 1, 0)"
   ]
  },
  {
   "cell_type": "code",
   "execution_count": null,
   "metadata": {
    "id": "-QCo6DrUL3Vx",
    "outputId": "ce3950b1-2e0f-4bef-ab64-6849b79209b5"
   },
   "outputs": [
    {
     "name": "stdout",
     "output_type": "stream",
     "text": [
      "<class 'pandas.core.frame.DataFrame'>\n",
      "Int64Index: 206546 entries, 0 to 279148\n",
      "Data columns (total 21 columns):\n",
      " #   Column                          Non-Null Count   Dtype         \n",
      "---  ------                          --------------   -----         \n",
      " 0   profile_id                      206546 non-null  int64         \n",
      " 1   primary_sales_product_type      206546 non-null  object        \n",
      " 2   first_booking_time              206546 non-null  datetime64[ns]\n",
      " 3   first_issued_time               206546 non-null  datetime64[ns]\n",
      " 4   last_booking_time               206546 non-null  datetime64[ns]\n",
      " 5   last_issued_time                206546 non-null  datetime64[ns]\n",
      " 6   avg_booking_invoice_amount_idr  206546 non-null  float64       \n",
      " 7   avg_issued_invoice_amount_idr   206546 non-null  float64       \n",
      " 8   count_booking                   206546 non-null  int64         \n",
      " 9   count_issued                    206546 non-null  int64         \n",
      " 10  random_number                   206546 non-null  float64       \n",
      " 11  last_updated_date               206546 non-null  datetime64[ns]\n",
      " 12  last_issued_date                206546 non-null  datetime64[ns]\n",
      " 13  last_booking_date               206546 non-null  datetime64[ns]\n",
      " 14  first_issued_date               206546 non-null  datetime64[ns]\n",
      " 15  first_booking_date              206546 non-null  datetime64[ns]\n",
      " 16  day_diff                        206546 non-null  float64       \n",
      " 17  day_diff_booking_time           206546 non-null  float64       \n",
      " 18  day_diff_issue_time             206546 non-null  float64       \n",
      " 19  cvr                             206546 non-null  float64       \n",
      " 20  label                           206546 non-null  int32         \n",
      "dtypes: datetime64[ns](9), float64(7), int32(1), int64(3), object(1)\n",
      "memory usage: 33.9+ MB\n"
     ]
    }
   ],
   "source": [
    "df.info()"
   ]
  },
  {
   "cell_type": "markdown",
   "metadata": {
    "id": "JEQ6SukEL3Vy"
   },
   "source": [
    "# EDA"
   ]
  },
  {
   "cell_type": "code",
   "execution_count": null,
   "metadata": {
    "id": "sbitAQXlL3Vy",
    "outputId": "c4595cc8-af44-4891-975e-688c22f3a1e8"
   },
   "outputs": [
    {
     "data": {
      "text/html": [
       "<div>\n",
       "<style scoped>\n",
       "    .dataframe tbody tr th:only-of-type {\n",
       "        vertical-align: middle;\n",
       "    }\n",
       "\n",
       "    .dataframe tbody tr th {\n",
       "        vertical-align: top;\n",
       "    }\n",
       "\n",
       "    .dataframe thead th {\n",
       "        text-align: right;\n",
       "    }\n",
       "</style>\n",
       "<table border=\"1\" class=\"dataframe\">\n",
       "  <thead>\n",
       "    <tr style=\"text-align: right;\">\n",
       "      <th></th>\n",
       "      <th>profile_id</th>\n",
       "      <th>primary_sales_product_type</th>\n",
       "      <th>first_booking_time</th>\n",
       "      <th>first_issued_time</th>\n",
       "      <th>last_booking_time</th>\n",
       "      <th>last_issued_time</th>\n",
       "      <th>avg_booking_invoice_amount_idr</th>\n",
       "      <th>avg_issued_invoice_amount_idr</th>\n",
       "      <th>count_booking</th>\n",
       "      <th>count_issued</th>\n",
       "      <th>...</th>\n",
       "      <th>last_updated_date</th>\n",
       "      <th>last_issued_date</th>\n",
       "      <th>last_booking_date</th>\n",
       "      <th>first_issued_date</th>\n",
       "      <th>first_booking_date</th>\n",
       "      <th>day_diff</th>\n",
       "      <th>day_diff_booking_time</th>\n",
       "      <th>day_diff_issue_time</th>\n",
       "      <th>cvr</th>\n",
       "      <th>label</th>\n",
       "    </tr>\n",
       "  </thead>\n",
       "  <tbody>\n",
       "    <tr>\n",
       "      <th>0</th>\n",
       "      <td>3632279</td>\n",
       "      <td>HOTEL</td>\n",
       "      <td>2015-07-12 12:47:35.370</td>\n",
       "      <td>2016-06-19 02:44:34.396</td>\n",
       "      <td>2018-10-05 05:38:35.528</td>\n",
       "      <td>2018-10-05 05:48:02.608</td>\n",
       "      <td>2000822.71875</td>\n",
       "      <td>1193236.77778</td>\n",
       "      <td>32</td>\n",
       "      <td>18</td>\n",
       "      <td>...</td>\n",
       "      <td>2019-02-01</td>\n",
       "      <td>2018-10-05</td>\n",
       "      <td>2018-10-05</td>\n",
       "      <td>2016-06-19</td>\n",
       "      <td>2015-07-12</td>\n",
       "      <td>119.00000</td>\n",
       "      <td>1181.00000</td>\n",
       "      <td>838.00000</td>\n",
       "      <td>0.56250</td>\n",
       "      <td>0</td>\n",
       "    </tr>\n",
       "    <tr>\n",
       "      <th>1</th>\n",
       "      <td>3632279</td>\n",
       "      <td>FLIGHT</td>\n",
       "      <td>2014-07-18 12:30:47.701</td>\n",
       "      <td>2014-07-23 01:02:11.494</td>\n",
       "      <td>2018-12-25 10:56:35.212</td>\n",
       "      <td>2018-12-25 11:02:41.270</td>\n",
       "      <td>1174168.91379</td>\n",
       "      <td>1031981.66667</td>\n",
       "      <td>58</td>\n",
       "      <td>33</td>\n",
       "      <td>...</td>\n",
       "      <td>2019-02-01</td>\n",
       "      <td>2018-12-25</td>\n",
       "      <td>2018-12-25</td>\n",
       "      <td>2014-07-23</td>\n",
       "      <td>2014-07-18</td>\n",
       "      <td>38.00000</td>\n",
       "      <td>1621.00000</td>\n",
       "      <td>1616.00000</td>\n",
       "      <td>0.56897</td>\n",
       "      <td>0</td>\n",
       "    </tr>\n",
       "    <tr>\n",
       "      <th>2</th>\n",
       "      <td>17407638</td>\n",
       "      <td>TRAIN</td>\n",
       "      <td>2017-04-28 02:59:24.000</td>\n",
       "      <td>2017-04-28 03:12:27.000</td>\n",
       "      <td>2019-01-24 09:06:44.000</td>\n",
       "      <td>2019-01-24 09:40:02.000</td>\n",
       "      <td>284884.27419</td>\n",
       "      <td>252776.16667</td>\n",
       "      <td>62</td>\n",
       "      <td>24</td>\n",
       "      <td>...</td>\n",
       "      <td>2019-02-01</td>\n",
       "      <td>2019-01-24</td>\n",
       "      <td>2019-01-24</td>\n",
       "      <td>2017-04-28</td>\n",
       "      <td>2017-04-28</td>\n",
       "      <td>8.00000</td>\n",
       "      <td>636.00000</td>\n",
       "      <td>636.00000</td>\n",
       "      <td>0.38710</td>\n",
       "      <td>0</td>\n",
       "    </tr>\n",
       "    <tr>\n",
       "      <th>3</th>\n",
       "      <td>17407638</td>\n",
       "      <td>HOTEL</td>\n",
       "      <td>2017-04-28 06:44:53.998</td>\n",
       "      <td>2017-04-28 06:52:52.547</td>\n",
       "      <td>2019-01-16 12:39:53.838</td>\n",
       "      <td>2019-01-16 13:00:03.911</td>\n",
       "      <td>737447.19444</td>\n",
       "      <td>587505.95455</td>\n",
       "      <td>36</td>\n",
       "      <td>22</td>\n",
       "      <td>...</td>\n",
       "      <td>2019-02-01</td>\n",
       "      <td>2019-01-16</td>\n",
       "      <td>2019-01-16</td>\n",
       "      <td>2017-04-28</td>\n",
       "      <td>2017-04-28</td>\n",
       "      <td>16.00000</td>\n",
       "      <td>628.00000</td>\n",
       "      <td>628.00000</td>\n",
       "      <td>0.61111</td>\n",
       "      <td>0</td>\n",
       "    </tr>\n",
       "    <tr>\n",
       "      <th>4</th>\n",
       "      <td>4618047</td>\n",
       "      <td>FLIGHT</td>\n",
       "      <td>2015-01-06 02:31:13.189</td>\n",
       "      <td>2015-04-16 10:01:38.531</td>\n",
       "      <td>2019-01-06 08:31:52.498</td>\n",
       "      <td>2018-11-22 12:53:41.530</td>\n",
       "      <td>1604697.66038</td>\n",
       "      <td>1443118.30000</td>\n",
       "      <td>53</td>\n",
       "      <td>20</td>\n",
       "      <td>...</td>\n",
       "      <td>2019-02-01</td>\n",
       "      <td>2018-11-22</td>\n",
       "      <td>2019-01-06</td>\n",
       "      <td>2015-04-16</td>\n",
       "      <td>2015-01-06</td>\n",
       "      <td>71.00000</td>\n",
       "      <td>1461.00000</td>\n",
       "      <td>1316.00000</td>\n",
       "      <td>0.37736</td>\n",
       "      <td>0</td>\n",
       "    </tr>\n",
       "  </tbody>\n",
       "</table>\n",
       "<p>5 rows × 21 columns</p>\n",
       "</div>"
      ],
      "text/plain": [
       "   profile_id primary_sales_product_type      first_booking_time  \\\n",
       "0     3632279                      HOTEL 2015-07-12 12:47:35.370   \n",
       "1     3632279                     FLIGHT 2014-07-18 12:30:47.701   \n",
       "2    17407638                      TRAIN 2017-04-28 02:59:24.000   \n",
       "3    17407638                      HOTEL 2017-04-28 06:44:53.998   \n",
       "4     4618047                     FLIGHT 2015-01-06 02:31:13.189   \n",
       "\n",
       "        first_issued_time       last_booking_time        last_issued_time  \\\n",
       "0 2016-06-19 02:44:34.396 2018-10-05 05:38:35.528 2018-10-05 05:48:02.608   \n",
       "1 2014-07-23 01:02:11.494 2018-12-25 10:56:35.212 2018-12-25 11:02:41.270   \n",
       "2 2017-04-28 03:12:27.000 2019-01-24 09:06:44.000 2019-01-24 09:40:02.000   \n",
       "3 2017-04-28 06:52:52.547 2019-01-16 12:39:53.838 2019-01-16 13:00:03.911   \n",
       "4 2015-04-16 10:01:38.531 2019-01-06 08:31:52.498 2018-11-22 12:53:41.530   \n",
       "\n",
       "   avg_booking_invoice_amount_idr  avg_issued_invoice_amount_idr  \\\n",
       "0                   2000822.71875                  1193236.77778   \n",
       "1                   1174168.91379                  1031981.66667   \n",
       "2                    284884.27419                   252776.16667   \n",
       "3                    737447.19444                   587505.95455   \n",
       "4                   1604697.66038                  1443118.30000   \n",
       "\n",
       "   count_booking  count_issued  ...  last_updated_date last_issued_date  \\\n",
       "0             32            18  ...         2019-02-01       2018-10-05   \n",
       "1             58            33  ...         2019-02-01       2018-12-25   \n",
       "2             62            24  ...         2019-02-01       2019-01-24   \n",
       "3             36            22  ...         2019-02-01       2019-01-16   \n",
       "4             53            20  ...         2019-02-01       2018-11-22   \n",
       "\n",
       "  last_booking_date first_issued_date first_booking_date  day_diff  \\\n",
       "0        2018-10-05        2016-06-19         2015-07-12 119.00000   \n",
       "1        2018-12-25        2014-07-23         2014-07-18  38.00000   \n",
       "2        2019-01-24        2017-04-28         2017-04-28   8.00000   \n",
       "3        2019-01-16        2017-04-28         2017-04-28  16.00000   \n",
       "4        2019-01-06        2015-04-16         2015-01-06  71.00000   \n",
       "\n",
       "   day_diff_booking_time  day_diff_issue_time     cvr  label  \n",
       "0             1181.00000            838.00000 0.56250      0  \n",
       "1             1621.00000           1616.00000 0.56897      0  \n",
       "2              636.00000            636.00000 0.38710      0  \n",
       "3              628.00000            628.00000 0.61111      0  \n",
       "4             1461.00000           1316.00000 0.37736      0  \n",
       "\n",
       "[5 rows x 21 columns]"
      ]
     },
     "execution_count": 320,
     "metadata": {},
     "output_type": "execute_result"
    }
   ],
   "source": [
    "df.head()"
   ]
  },
  {
   "cell_type": "code",
   "execution_count": null,
   "metadata": {
    "id": "M9Mn-1HhL3Vy",
    "outputId": "66e2ce54-9e3b-4a04-e4c2-d0b498454cf1"
   },
   "outputs": [
    {
     "data": {
      "text/html": [
       "<div>\n",
       "<style scoped>\n",
       "    .dataframe tbody tr th:only-of-type {\n",
       "        vertical-align: middle;\n",
       "    }\n",
       "\n",
       "    .dataframe tbody tr th {\n",
       "        vertical-align: top;\n",
       "    }\n",
       "\n",
       "    .dataframe thead th {\n",
       "        text-align: right;\n",
       "    }\n",
       "</style>\n",
       "<table border=\"1\" class=\"dataframe\">\n",
       "  <thead>\n",
       "    <tr style=\"text-align: right;\">\n",
       "      <th></th>\n",
       "      <th>avg_booking_invoice_amount_idr</th>\n",
       "      <th>avg_issued_invoice_amount_idr</th>\n",
       "      <th>count_booking</th>\n",
       "      <th>count_issued</th>\n",
       "      <th>random_number</th>\n",
       "      <th>day_diff</th>\n",
       "      <th>day_diff_booking_time</th>\n",
       "      <th>day_diff_issue_time</th>\n",
       "      <th>cvr</th>\n",
       "      <th>label</th>\n",
       "    </tr>\n",
       "  </thead>\n",
       "  <tbody>\n",
       "    <tr>\n",
       "      <th>count</th>\n",
       "      <td>206546.00000</td>\n",
       "      <td>206546.00000</td>\n",
       "      <td>206546.00000</td>\n",
       "      <td>206546.00000</td>\n",
       "      <td>206546.00000</td>\n",
       "      <td>206546.00000</td>\n",
       "      <td>206546.00000</td>\n",
       "      <td>206546.00000</td>\n",
       "      <td>206546.00000</td>\n",
       "      <td>206546.00000</td>\n",
       "    </tr>\n",
       "    <tr>\n",
       "      <th>mean</th>\n",
       "      <td>1176956.97514</td>\n",
       "      <td>1118113.82978</td>\n",
       "      <td>13.84774</td>\n",
       "      <td>6.98084</td>\n",
       "      <td>0.00250</td>\n",
       "      <td>360.43773</td>\n",
       "      <td>330.90030</td>\n",
       "      <td>260.55432</td>\n",
       "      <td>0.60668</td>\n",
       "      <td>0.39767</td>\n",
       "    </tr>\n",
       "    <tr>\n",
       "      <th>std</th>\n",
       "      <td>1643688.03535</td>\n",
       "      <td>1484782.69417</td>\n",
       "      <td>32.93616</td>\n",
       "      <td>20.31540</td>\n",
       "      <td>0.00144</td>\n",
       "      <td>337.75427</td>\n",
       "      <td>408.29037</td>\n",
       "      <td>372.52849</td>\n",
       "      <td>0.29223</td>\n",
       "      <td>0.48942</td>\n",
       "    </tr>\n",
       "    <tr>\n",
       "      <th>min</th>\n",
       "      <td>4173.96916</td>\n",
       "      <td>0.00000</td>\n",
       "      <td>1.00000</td>\n",
       "      <td>1.00000</td>\n",
       "      <td>0.00000</td>\n",
       "      <td>0.00000</td>\n",
       "      <td>0.00000</td>\n",
       "      <td>0.00000</td>\n",
       "      <td>0.00125</td>\n",
       "      <td>0.00000</td>\n",
       "    </tr>\n",
       "    <tr>\n",
       "      <th>25%</th>\n",
       "      <td>434579.41667</td>\n",
       "      <td>408101.39423</td>\n",
       "      <td>2.00000</td>\n",
       "      <td>1.00000</td>\n",
       "      <td>0.00125</td>\n",
       "      <td>86.00000</td>\n",
       "      <td>1.00000</td>\n",
       "      <td>0.00000</td>\n",
       "      <td>0.35000</td>\n",
       "      <td>0.00000</td>\n",
       "    </tr>\n",
       "    <tr>\n",
       "      <th>50%</th>\n",
       "      <td>799270.25000</td>\n",
       "      <td>753177.10000</td>\n",
       "      <td>5.00000</td>\n",
       "      <td>2.00000</td>\n",
       "      <td>0.00249</td>\n",
       "      <td>262.00000</td>\n",
       "      <td>167.00000</td>\n",
       "      <td>57.00000</td>\n",
       "      <td>0.57143</td>\n",
       "      <td>0.00000</td>\n",
       "    </tr>\n",
       "    <tr>\n",
       "      <th>75%</th>\n",
       "      <td>1375946.88889</td>\n",
       "      <td>1310237.84814</td>\n",
       "      <td>14.00000</td>\n",
       "      <td>6.00000</td>\n",
       "      <td>0.00375</td>\n",
       "      <td>550.00000</td>\n",
       "      <td>530.00000</td>\n",
       "      <td>416.00000</td>\n",
       "      <td>1.00000</td>\n",
       "      <td>1.00000</td>\n",
       "    </tr>\n",
       "    <tr>\n",
       "      <th>max</th>\n",
       "      <td>191527701.53195</td>\n",
       "      <td>88993002.50000</td>\n",
       "      <td>4308.00000</td>\n",
       "      <td>3132.00000</td>\n",
       "      <td>0.00500</td>\n",
       "      <td>2115.00000</td>\n",
       "      <td>2104.00000</td>\n",
       "      <td>2084.00000</td>\n",
       "      <td>1.00000</td>\n",
       "      <td>1.00000</td>\n",
       "    </tr>\n",
       "  </tbody>\n",
       "</table>\n",
       "</div>"
      ],
      "text/plain": [
       "       avg_booking_invoice_amount_idr  avg_issued_invoice_amount_idr  \\\n",
       "count                    206546.00000                   206546.00000   \n",
       "mean                    1176956.97514                  1118113.82978   \n",
       "std                     1643688.03535                  1484782.69417   \n",
       "min                        4173.96916                        0.00000   \n",
       "25%                      434579.41667                   408101.39423   \n",
       "50%                      799270.25000                   753177.10000   \n",
       "75%                     1375946.88889                  1310237.84814   \n",
       "max                   191527701.53195                 88993002.50000   \n",
       "\n",
       "       count_booking  count_issued  random_number     day_diff  \\\n",
       "count   206546.00000  206546.00000   206546.00000 206546.00000   \n",
       "mean        13.84774       6.98084        0.00250    360.43773   \n",
       "std         32.93616      20.31540        0.00144    337.75427   \n",
       "min          1.00000       1.00000        0.00000      0.00000   \n",
       "25%          2.00000       1.00000        0.00125     86.00000   \n",
       "50%          5.00000       2.00000        0.00249    262.00000   \n",
       "75%         14.00000       6.00000        0.00375    550.00000   \n",
       "max       4308.00000    3132.00000        0.00500   2115.00000   \n",
       "\n",
       "       day_diff_booking_time  day_diff_issue_time          cvr        label  \n",
       "count           206546.00000         206546.00000 206546.00000 206546.00000  \n",
       "mean               330.90030            260.55432      0.60668      0.39767  \n",
       "std                408.29037            372.52849      0.29223      0.48942  \n",
       "min                  0.00000              0.00000      0.00125      0.00000  \n",
       "25%                  1.00000              0.00000      0.35000      0.00000  \n",
       "50%                167.00000             57.00000      0.57143      0.00000  \n",
       "75%                530.00000            416.00000      1.00000      1.00000  \n",
       "max               2104.00000           2084.00000      1.00000      1.00000  "
      ]
     },
     "execution_count": 321,
     "metadata": {},
     "output_type": "execute_result"
    }
   ],
   "source": [
    "df.drop('profile_id', axis = 1).describe()"
   ]
  },
  {
   "cell_type": "markdown",
   "metadata": {
    "id": "Tzi025ZsL3Vz"
   },
   "source": [
    "### Distribution of Days Since Last Issued Invoice"
   ]
  },
  {
   "cell_type": "code",
   "execution_count": null,
   "metadata": {
    "id": "q4yrO8kmL3Vz",
    "outputId": "04a374eb-8424-4932-c8b9-1bb65d8cdb50"
   },
   "outputs": [
    {
     "data": {
      "text/plain": [
       "Text(0, 0.5, '% of Observations')"
      ]
     },
     "execution_count": 322,
     "metadata": {},
     "output_type": "execute_result"
    },
    {
     "data": {
      "image/png": "[encoded data removed]",
      "text/plain": [
       "<Figure size 432x288 with 1 Axes>"
      ]
     },
     "metadata": {
      "needs_background": "light"
     },
     "output_type": "display_data"
    }
   ],
   "source": [
    "ax = sns.distplot(df['day_diff'])\n",
    "plt.figtext(0.95, 0.10, df['day_diff'].describe().to_string())\n",
    "plt.title('Distribution of Days Since Last Issued Invoice')\n",
    "plt.xlabel('Days Since Last Issued Invoice')\n",
    "plt.ylabel('% of Observations')"
   ]
  },
  {
   "cell_type": "markdown",
   "metadata": {
    "id": "V9CRtVJiL3V1"
   },
   "source": [
    "### Distribution of Features by Product Type"
   ]
  },
  {
   "cell_type": "code",
   "execution_count": null,
   "metadata": {
    "id": "12-uay_oL3V2",
    "outputId": "e84208e1-4fd0-4230-ef51-dc16197f3bbc"
   },
   "outputs": [
    {
     "data": {
      "image/png": "[encoded data removed]",
      "text/plain": [
       "<Figure size 1080x1368 with 6 Axes>"
      ]
     },
     "metadata": {
      "needs_background": "light"
     },
     "output_type": "display_data"
    }
   ],
   "source": [
    "fig, ax = plt.subplots(3, 2, figsize=(15,19))\n",
    "with sns.axes_style(style='ticks'):\n",
    "    sns.boxplot(\"primary_sales_product_type\", \"day_diff\", data=df, ax = ax [0,0])\n",
    "    ax[0,0].set(xlabel='Product Type', ylabel='Days Since Last Issued Time')\n",
    "    sns.boxplot(\"primary_sales_product_type\", \"avg_booking_invoice_amount_idr\", data=df, ax = ax[0,1])\n",
    "    sns.boxplot(\"primary_sales_product_type\", \"avg_issued_invoice_amount_idr\", data=df, ax = ax[1, 0])\n",
    "    sns.boxplot(\"primary_sales_product_type\", \"count_booking\", data=df, ax = ax[1, 1])\n",
    "    sns.boxplot(\"primary_sales_product_type\", \"count_issued\", data=df, ax = ax[2, 0])\n",
    "plt.show()\n",
    "# set_axis_labels(\"Product Type\", \"Days of Churned Customers\")"
   ]
  },
  {
   "cell_type": "code",
   "execution_count": null,
   "metadata": {
    "id": "hltjaJZsL3V2"
   },
   "outputs": [],
   "source": [
    "pd.set_option('display.float_format', lambda x: '%.5f' % x)"
   ]
  },
  {
   "cell_type": "code",
   "execution_count": null,
   "metadata": {
    "id": "MlpMST1xL3V2",
    "outputId": "3097b90b-663b-425c-eb12-e72bfd6d0431"
   },
   "outputs": [
    {
     "data": {
      "text/html": [
       "<div>\n",
       "<style scoped>\n",
       "    .dataframe tbody tr th:only-of-type {\n",
       "        vertical-align: middle;\n",
       "    }\n",
       "\n",
       "    .dataframe tbody tr th {\n",
       "        vertical-align: top;\n",
       "    }\n",
       "\n",
       "    .dataframe thead th {\n",
       "        text-align: right;\n",
       "    }\n",
       "</style>\n",
       "<table border=\"1\" class=\"dataframe\">\n",
       "  <thead>\n",
       "    <tr style=\"text-align: right;\">\n",
       "      <th></th>\n",
       "      <th>primary_sales_product_type</th>\n",
       "      <th>FLIGHT</th>\n",
       "      <th>HOTEL</th>\n",
       "      <th>TRAIN</th>\n",
       "      <th>TRIP</th>\n",
       "    </tr>\n",
       "  </thead>\n",
       "  <tbody>\n",
       "    <tr>\n",
       "      <th rowspan=\"5\" valign=\"top\">avg_booking_invoice_amount_idr</th>\n",
       "      <th>count</th>\n",
       "      <td>103839.00000</td>\n",
       "      <td>66208.00000</td>\n",
       "      <td>32731.00000</td>\n",
       "      <td>3768.00000</td>\n",
       "    </tr>\n",
       "    <tr>\n",
       "      <th>mean</th>\n",
       "      <td>1537078.73743</td>\n",
       "      <td>876738.31919</td>\n",
       "      <td>336930.91171</td>\n",
       "      <td>3824803.62611</td>\n",
       "    </tr>\n",
       "    <tr>\n",
       "      <th>std</th>\n",
       "      <td>1679646.38589</td>\n",
       "      <td>1442108.82445</td>\n",
       "      <td>310438.33086</td>\n",
       "      <td>3830909.73656</td>\n",
       "    </tr>\n",
       "    <tr>\n",
       "      <th>min</th>\n",
       "      <td>77414.00000</td>\n",
       "      <td>4173.96916</td>\n",
       "      <td>9986.33333</td>\n",
       "      <td>389396.00000</td>\n",
       "    </tr>\n",
       "    <tr>\n",
       "      <th>25%</th>\n",
       "      <td>761773.63333</td>\n",
       "      <td>379714.85714</td>\n",
       "      <td>154839.75000</td>\n",
       "      <td>1882822.37500</td>\n",
       "    </tr>\n",
       "    <tr>\n",
       "      <th>...</th>\n",
       "      <th>...</th>\n",
       "      <td>...</td>\n",
       "      <td>...</td>\n",
       "      <td>...</td>\n",
       "      <td>...</td>\n",
       "    </tr>\n",
       "    <tr>\n",
       "      <th rowspan=\"5\" valign=\"top\">cvr</th>\n",
       "      <th>min</th>\n",
       "      <td>0.00483</td>\n",
       "      <td>0.00125</td>\n",
       "      <td>0.00249</td>\n",
       "      <td>0.00962</td>\n",
       "    </tr>\n",
       "    <tr>\n",
       "      <th>25%</th>\n",
       "      <td>0.44444</td>\n",
       "      <td>0.33333</td>\n",
       "      <td>0.33333</td>\n",
       "      <td>0.33333</td>\n",
       "    </tr>\n",
       "    <tr>\n",
       "      <th>50%</th>\n",
       "      <td>0.66667</td>\n",
       "      <td>0.50000</td>\n",
       "      <td>0.50000</td>\n",
       "      <td>0.50000</td>\n",
       "    </tr>\n",
       "    <tr>\n",
       "      <th>75%</th>\n",
       "      <td>1.00000</td>\n",
       "      <td>0.75000</td>\n",
       "      <td>1.00000</td>\n",
       "      <td>1.00000</td>\n",
       "    </tr>\n",
       "    <tr>\n",
       "      <th>max</th>\n",
       "      <td>1.00000</td>\n",
       "      <td>1.00000</td>\n",
       "      <td>1.00000</td>\n",
       "      <td>1.00000</td>\n",
       "    </tr>\n",
       "  </tbody>\n",
       "</table>\n",
       "<p>64 rows × 4 columns</p>\n",
       "</div>"
      ],
      "text/plain": [
       "primary_sales_product_type                  FLIGHT         HOTEL        TRAIN  \\\n",
       "avg_booking_invoice_amount_idr count  103839.00000   66208.00000  32731.00000   \n",
       "                               mean  1537078.73743  876738.31919 336930.91171   \n",
       "                               std   1679646.38589 1442108.82445 310438.33086   \n",
       "                               min     77414.00000    4173.96916   9986.33333   \n",
       "                               25%    761773.63333  379714.85714 154839.75000   \n",
       "...                                            ...           ...          ...   \n",
       "cvr                            min         0.00483       0.00125      0.00249   \n",
       "                               25%         0.44444       0.33333      0.33333   \n",
       "                               50%         0.66667       0.50000      0.50000   \n",
       "                               75%         1.00000       0.75000      1.00000   \n",
       "                               max         1.00000       1.00000      1.00000   \n",
       "\n",
       "primary_sales_product_type                    TRIP  \n",
       "avg_booking_invoice_amount_idr count    3768.00000  \n",
       "                               mean  3824803.62611  \n",
       "                               std   3830909.73656  \n",
       "                               min    389396.00000  \n",
       "                               25%   1882822.37500  \n",
       "...                                            ...  \n",
       "cvr                            min         0.00962  \n",
       "                               25%         0.33333  \n",
       "                               50%         0.50000  \n",
       "                               75%         1.00000  \n",
       "                               max         1.00000  \n",
       "\n",
       "[64 rows x 4 columns]"
      ]
     },
     "execution_count": 325,
     "metadata": {},
     "output_type": "execute_result"
    }
   ],
   "source": [
    "df_describe = df.groupby(\"primary_sales_product_type\").describe().transpose().drop(['profile_id', 'random_number', 'label'])\n",
    "df_describe.head(100)"
   ]
  },
  {
   "cell_type": "markdown",
   "metadata": {
    "id": "TAGRxrpKL3V3"
   },
   "source": [
    "### % of Churn vs No Churn Customers"
   ]
  },
  {
   "cell_type": "code",
   "execution_count": null,
   "metadata": {
    "id": "1fnHALmNL3V3",
    "outputId": "73261505-7ad3-4599-aa0b-297579fcf669"
   },
   "outputs": [
    {
     "data": {
      "text/html": [
       "<div>\n",
       "<style scoped>\n",
       "    .dataframe tbody tr th:only-of-type {\n",
       "        vertical-align: middle;\n",
       "    }\n",
       "\n",
       "    .dataframe tbody tr th {\n",
       "        vertical-align: top;\n",
       "    }\n",
       "\n",
       "    .dataframe thead th {\n",
       "        text-align: right;\n",
       "    }\n",
       "</style>\n",
       "<table border=\"1\" class=\"dataframe\">\n",
       "  <thead>\n",
       "    <tr style=\"text-align: right;\">\n",
       "      <th></th>\n",
       "      <th></th>\n",
       "      <th>profile_id</th>\n",
       "    </tr>\n",
       "    <tr>\n",
       "      <th>label</th>\n",
       "      <th>primary_sales_product_type</th>\n",
       "      <th></th>\n",
       "    </tr>\n",
       "  </thead>\n",
       "  <tbody>\n",
       "    <tr>\n",
       "      <th rowspan=\"4\" valign=\"top\">0</th>\n",
       "      <th>FLIGHT</th>\n",
       "      <td>57489</td>\n",
       "    </tr>\n",
       "    <tr>\n",
       "      <th>HOTEL</th>\n",
       "      <td>40288</td>\n",
       "    </tr>\n",
       "    <tr>\n",
       "      <th>TRAIN</th>\n",
       "      <td>23545</td>\n",
       "    </tr>\n",
       "    <tr>\n",
       "      <th>TRIP</th>\n",
       "      <td>2698</td>\n",
       "    </tr>\n",
       "    <tr>\n",
       "      <th rowspan=\"4\" valign=\"top\">1</th>\n",
       "      <th>FLIGHT</th>\n",
       "      <td>46134</td>\n",
       "    </tr>\n",
       "    <tr>\n",
       "      <th>HOTEL</th>\n",
       "      <td>25734</td>\n",
       "    </tr>\n",
       "    <tr>\n",
       "      <th>TRAIN</th>\n",
       "      <td>9056</td>\n",
       "    </tr>\n",
       "    <tr>\n",
       "      <th>TRIP</th>\n",
       "      <td>1055</td>\n",
       "    </tr>\n",
       "  </tbody>\n",
       "</table>\n",
       "</div>"
      ],
      "text/plain": [
       "                                  profile_id\n",
       "label primary_sales_product_type            \n",
       "0     FLIGHT                           57489\n",
       "      HOTEL                            40288\n",
       "      TRAIN                            23545\n",
       "      TRIP                              2698\n",
       "1     FLIGHT                           46134\n",
       "      HOTEL                            25734\n",
       "      TRAIN                             9056\n",
       "      TRIP                              1055"
      ]
     },
     "execution_count": 326,
     "metadata": {},
     "output_type": "execute_result"
    }
   ],
   "source": [
    "## Number of Customers who churn vs no churn by Product Type\n",
    "df_churn_detail = df.groupby(['label', 'primary_sales_product_type']).agg({'profile_id':'nunique'})\n",
    "df_churn_detail"
   ]
  },
  {
   "cell_type": "code",
   "execution_count": null,
   "metadata": {
    "id": "Z07HqAWjL3V3"
   },
   "outputs": [],
   "source": [
    "df_churn_detail = df_churn_detail.groupby(level=1).apply(lambda x: 100 * x/ float(x.sum())).reset_index()"
   ]
  },
  {
   "cell_type": "code",
   "execution_count": null,
   "metadata": {
    "id": "MDPm5Jm6L3V4",
    "outputId": "8c99c177-ac70-4a35-99ab-33489a242b23"
   },
   "outputs": [
    {
     "data": {
      "text/html": [
       "<div>\n",
       "<style scoped>\n",
       "    .dataframe tbody tr th:only-of-type {\n",
       "        vertical-align: middle;\n",
       "    }\n",
       "\n",
       "    .dataframe tbody tr th {\n",
       "        vertical-align: top;\n",
       "    }\n",
       "\n",
       "    .dataframe thead th {\n",
       "        text-align: right;\n",
       "    }\n",
       "</style>\n",
       "<table border=\"1\" class=\"dataframe\">\n",
       "  <thead>\n",
       "    <tr style=\"text-align: right;\">\n",
       "      <th></th>\n",
       "      <th>label</th>\n",
       "      <th>primary_sales_product_type</th>\n",
       "      <th>profile_id</th>\n",
       "    </tr>\n",
       "  </thead>\n",
       "  <tbody>\n",
       "    <tr>\n",
       "      <th>0</th>\n",
       "      <td>0</td>\n",
       "      <td>FLIGHT</td>\n",
       "      <td>55.47900</td>\n",
       "    </tr>\n",
       "    <tr>\n",
       "      <th>1</th>\n",
       "      <td>0</td>\n",
       "      <td>HOTEL</td>\n",
       "      <td>61.02208</td>\n",
       "    </tr>\n",
       "    <tr>\n",
       "      <th>2</th>\n",
       "      <td>0</td>\n",
       "      <td>TRAIN</td>\n",
       "      <td>72.22171</td>\n",
       "    </tr>\n",
       "    <tr>\n",
       "      <th>3</th>\n",
       "      <td>0</td>\n",
       "      <td>TRIP</td>\n",
       "      <td>71.88916</td>\n",
       "    </tr>\n",
       "    <tr>\n",
       "      <th>4</th>\n",
       "      <td>1</td>\n",
       "      <td>FLIGHT</td>\n",
       "      <td>44.52100</td>\n",
       "    </tr>\n",
       "    <tr>\n",
       "      <th>5</th>\n",
       "      <td>1</td>\n",
       "      <td>HOTEL</td>\n",
       "      <td>38.97792</td>\n",
       "    </tr>\n",
       "    <tr>\n",
       "      <th>6</th>\n",
       "      <td>1</td>\n",
       "      <td>TRAIN</td>\n",
       "      <td>27.77829</td>\n",
       "    </tr>\n",
       "    <tr>\n",
       "      <th>7</th>\n",
       "      <td>1</td>\n",
       "      <td>TRIP</td>\n",
       "      <td>28.11084</td>\n",
       "    </tr>\n",
       "  </tbody>\n",
       "</table>\n",
       "</div>"
      ],
      "text/plain": [
       "   label primary_sales_product_type  profile_id\n",
       "0      0                     FLIGHT    55.47900\n",
       "1      0                      HOTEL    61.02208\n",
       "2      0                      TRAIN    72.22171\n",
       "3      0                       TRIP    71.88916\n",
       "4      1                     FLIGHT    44.52100\n",
       "5      1                      HOTEL    38.97792\n",
       "6      1                      TRAIN    27.77829\n",
       "7      1                       TRIP    28.11084"
      ]
     },
     "execution_count": 328,
     "metadata": {},
     "output_type": "execute_result"
    }
   ],
   "source": [
    "df_churn_detail"
   ]
  },
  {
   "cell_type": "code",
   "execution_count": null,
   "metadata": {
    "id": "nnw6_dPdL3V4",
    "outputId": "d3ede043-ceea-49e3-efe5-9ffb7fcee0cd"
   },
   "outputs": [
    {
     "data": {
      "text/plain": [
       "<matplotlib.legend.Legend at 0x1f4b9be7388>"
      ]
     },
     "execution_count": 329,
     "metadata": {},
     "output_type": "execute_result"
    },
    {
     "data": {
      "image/png": "[encoded data removed]",
      "text/plain": [
       "<Figure size 720x576 with 1 Axes>"
      ]
     },
     "metadata": {
      "needs_background": "light"
     },
     "output_type": "display_data"
    }
   ],
   "source": [
    "plt.figure(figsize=(10, 8))\n",
    "ax = sns.barplot(x='primary_sales_product_type', y='profile_id', hue= 'label',  data = df_churn_detail, )\n",
    "for p in ax.patches:\n",
    "    ax.annotate(format(p.get_height(), '.1f'),\n",
    "                   (p.get_x() + p.get_width() / 2., p.get_height()),\n",
    "                   ha = 'center', va = 'center',\n",
    "                   xytext = (0, 9),\n",
    "                   textcoords = 'offset points')\n",
    "plt.ylabel('% of Total Customer', fontsize=15)\n",
    "plt.xlabel('Product Type', fontsize = 15)\n",
    "plt.legend(title='Is Churn')"
   ]
  },
  {
   "cell_type": "code",
   "execution_count": null,
   "metadata": {
    "id": "JhHNpmYDL3V5",
    "outputId": "9c19df5b-cf10-40c2-b374-65ea897e6819"
   },
   "outputs": [
    {
     "data": {
      "text/html": [
       "<div>\n",
       "<style scoped>\n",
       "    .dataframe tbody tr th:only-of-type {\n",
       "        vertical-align: middle;\n",
       "    }\n",
       "\n",
       "    .dataframe tbody tr th {\n",
       "        vertical-align: top;\n",
       "    }\n",
       "\n",
       "    .dataframe thead th {\n",
       "        text-align: right;\n",
       "    }\n",
       "</style>\n",
       "<table border=\"1\" class=\"dataframe\">\n",
       "  <thead>\n",
       "    <tr style=\"text-align: right;\">\n",
       "      <th></th>\n",
       "      <th>label</th>\n",
       "      <th>profile_id</th>\n",
       "    </tr>\n",
       "  </thead>\n",
       "  <tbody>\n",
       "    <tr>\n",
       "      <th>0</th>\n",
       "      <td>0</td>\n",
       "      <td>54.95536</td>\n",
       "    </tr>\n",
       "    <tr>\n",
       "      <th>1</th>\n",
       "      <td>1</td>\n",
       "      <td>45.04464</td>\n",
       "    </tr>\n",
       "  </tbody>\n",
       "</table>\n",
       "</div>"
      ],
      "text/plain": [
       "   label  profile_id\n",
       "0      0    54.95536\n",
       "1      1    45.04464"
      ]
     },
     "execution_count": 330,
     "metadata": {},
     "output_type": "execute_result"
    }
   ],
   "source": [
    "df_churn = df.groupby('label').agg({'profile_id':'nunique'}).apply(lambda x: 100* x/float(x.sum())).reset_index()\n",
    "df_churn"
   ]
  },
  {
   "cell_type": "code",
   "execution_count": null,
   "metadata": {
    "id": "qi5ey6yIL3V5",
    "outputId": "f27fe740-d245-4195-e007-7f1dd1ab3f68"
   },
   "outputs": [
    {
     "data": {
      "text/plain": [
       "Text(0.5, 0, 'Is Churn')"
      ]
     },
     "execution_count": 331,
     "metadata": {},
     "output_type": "execute_result"
    },
    {
     "data": {
      "image/png": "[encoded data removed]",
      "text/plain": [
       "<Figure size 648x432 with 1 Axes>"
      ]
     },
     "metadata": {
      "needs_background": "light"
     },
     "output_type": "display_data"
    }
   ],
   "source": [
    "plt.figure(figsize=(9, 6))\n",
    "ax = sns.barplot(x='label', y='profile_id',  data = df_churn)\n",
    "for p in ax.patches:\n",
    "    ax.annotate(format(p.get_height(), '.1f'),\n",
    "                   (p.get_x() + p.get_width() / 2., p.get_height()),\n",
    "                   ha = 'center', va = 'center',\n",
    "                   xytext = (0, 9),\n",
    "                   textcoords = 'offset points')\n",
    "plt.ylabel('% of Total Customer', fontsize=15)\n",
    "plt.xlabel('Is Churn', fontsize = 15)"
   ]
  },
  {
   "cell_type": "markdown",
   "metadata": {
    "id": "UZLb60rfL3V5"
   },
   "source": [
    "### Remove Outlier to Show Distribution"
   ]
  },
  {
   "cell_type": "code",
   "execution_count": null,
   "metadata": {
    "id": "FvEOtkPmL3V6"
   },
   "outputs": [],
   "source": [
    "df_flight = df[df['primary_sales_product_type'] == 'FLIGHT']\n",
    "df_hotel = df[df['primary_sales_product_type'] == 'HOTEL']\n",
    "df_train = df[df['primary_sales_product_type'] == 'TRAIN']\n",
    "df_trip = df[df['primary_sales_product_type'] == 'TRIP']"
   ]
  },
  {
   "cell_type": "code",
   "execution_count": null,
   "metadata": {
    "id": "xYpbgagDL3V6"
   },
   "outputs": [],
   "source": [
    "z = np.abs(stats.zscore(df_flight[['avg_booking_invoice_amount_idr']]))\n",
    "df_flight = df_flight[(z < 3).all(axis=1)]\n",
    "z1 = np.abs(stats.zscore(df_flight[['avg_issued_invoice_amount_idr']]))\n",
    "df_flight = df_flight[(z1 < 3).all(axis=1)]\n",
    "z2 = np.abs(stats.zscore(df_flight[['count_booking']]))\n",
    "df_flight = df_flight[(z2 < 3).all(axis=1)]"
   ]
  },
  {
   "cell_type": "code",
   "execution_count": null,
   "metadata": {
    "id": "8JeR5Zz6L3V6"
   },
   "outputs": [],
   "source": [
    "z = np.abs(stats.zscore(df_hotel[['avg_booking_invoice_amount_idr']]))\n",
    "df_hotel = df_hotel[(z < 3).all(axis=1)]\n",
    "z1 = np.abs(stats.zscore(df_hotel[['avg_issued_invoice_amount_idr']]))\n",
    "df_hotel = df_hotel[(z1 < 3).all(axis=1)]\n",
    "z2 = np.abs(stats.zscore(df_hotel[['count_booking']]))\n",
    "df_hotel = df_hotel[(z2 < 3).all(axis=1)]"
   ]
  },
  {
   "cell_type": "code",
   "execution_count": null,
   "metadata": {
    "id": "6fu5VFPwL3V6"
   },
   "outputs": [],
   "source": [
    "z = np.abs(stats.zscore(df_train[['avg_booking_invoice_amount_idr']]))\n",
    "df_train = df_train[(z < 3).all(axis=1)]\n",
    "z1 = np.abs(stats.zscore(df_train[['avg_issued_invoice_amount_idr']]))\n",
    "df_train = df_train[(z1 < 3).all(axis=1)]\n",
    "z2 = np.abs(stats.zscore(df_train[['count_booking']]))\n",
    "df_train = df_train[(z2 < 3).all(axis=1)]"
   ]
  },
  {
   "cell_type": "code",
   "execution_count": null,
   "metadata": {
    "id": "P1xtWI0xL3V7"
   },
   "outputs": [],
   "source": [
    "z = np.abs(stats.zscore(df_trip[['avg_booking_invoice_amount_idr']]))\n",
    "df_trip = df_trip[(z < 3).all(axis=1)]\n",
    "z1 = np.abs(stats.zscore(df_trip[['avg_issued_invoice_amount_idr']]))\n",
    "df_trip = df_trip[(z1 < 3).all(axis=1)]\n",
    "z2 = np.abs(stats.zscore(df_trip[['count_booking']]))\n",
    "df_trip = df_trip[(z2 < 3).all(axis=1)]"
   ]
  },
  {
   "cell_type": "code",
   "execution_count": null,
   "metadata": {
    "id": "9MZEkWb_L3V7"
   },
   "outputs": [],
   "source": [
    "z = np.abs(stats.zscore(df[['avg_booking_invoice_amount_idr']]))\n",
    "df_overall = df[(z < 3).all(axis=1)]\n",
    "z1 = np.abs(stats.zscore(df_overall[['avg_issued_invoice_amount_idr']]))\n",
    "df_overall = df_overall[(z1 < 3).all(axis=1)]\n",
    "z2 = np.abs(stats.zscore(df_overall[['count_booking']]))\n",
    "df_overall = df_overall[(z2 < 3).all(axis=1)]"
   ]
  },
  {
   "cell_type": "markdown",
   "metadata": {
    "id": "xQ_kPNZ2L3V7"
   },
   "source": [
    "### Distribution of Features by Product Type After Removing Outlier"
   ]
  },
  {
   "cell_type": "code",
   "execution_count": null,
   "metadata": {
    "id": "Pydvzfb9L3V_",
    "outputId": "cb442b97-ecad-4462-8c0b-e258a5a18d8c"
   },
   "outputs": [
    {
     "data": {
      "image/png": "[encoded data removed]",
      "text/plain": [
       "<Figure size 1080x1368 with 6 Axes>"
      ]
     },
     "metadata": {
      "needs_background": "light"
     },
     "output_type": "display_data"
    }
   ],
   "source": [
    "fig, ax = plt.subplots(3, 2, figsize=(15,19))\n",
    "with sns.axes_style(style='ticks'):\n",
    "    sns.boxplot(\"primary_sales_product_type\", \"day_diff\", data=df_overall, ax = ax [0,0])\n",
    "    ax[0,0].set(xlabel='Product Type', ylabel='Days Since Last Issued Time')\n",
    "    sns.boxplot(\"primary_sales_product_type\", \"avg_booking_invoice_amount_idr\", data=df_overall, ax = ax[0,1])\n",
    "    sns.boxplot(\"primary_sales_product_type\", \"avg_issued_invoice_amount_idr\", data=df_overall, ax = ax[1, 0])\n",
    "    sns.boxplot(\"primary_sales_product_type\", \"count_booking\", data=df_overall, ax = ax[1, 1])\n",
    "    sns.boxplot(\"primary_sales_product_type\", \"count_issued\", data=df_overall, ax = ax[2, 0])\n",
    "plt.show()\n",
    "# set_axis_labels(\"Product Type\", \"Days of Churned Customers\")"
   ]
  },
  {
   "cell_type": "markdown",
   "metadata": {
    "id": "m76jyGgoL3WA"
   },
   "source": [
    "### Feature Distribution Between Churn vs No Churn (FLIGHT)"
   ]
  },
  {
   "cell_type": "code",
   "execution_count": null,
   "metadata": {
    "id": "TNgtoPTgL3WA",
    "outputId": "9e7296a6-4c21-4e0b-ab12-105f1b8317e7"
   },
   "outputs": [
    {
     "data": {
      "text/plain": [
       "array([<matplotlib.axes._subplots.AxesSubplot object at 0x000001F4B1DFBBC8>,\n",
       "       <matplotlib.axes._subplots.AxesSubplot object at 0x000001F4A6A16348>,\n",
       "       <matplotlib.axes._subplots.AxesSubplot object at 0x000001F4A8EC7848>,\n",
       "       <matplotlib.axes._subplots.AxesSubplot object at 0x000001F4A6A4A348>,\n",
       "       <matplotlib.axes._subplots.AxesSubplot object at 0x000001F4A6A7FD48>,\n",
       "       <matplotlib.axes._subplots.AxesSubplot object at 0x000001F4A6AB6F48>],\n",
       "      dtype=object)"
      ]
     },
     "execution_count": 339,
     "metadata": {},
     "output_type": "execute_result"
    },
    {
     "data": {
      "image/png": "[encoded data removed]",
      "text/plain": [
       "<Figure size 1080x648 with 6 Axes>"
      ]
     },
     "metadata": {
      "needs_background": "light"
     },
     "output_type": "display_data"
    }
   ],
   "source": [
    "numerical_features = ['avg_booking_invoice_amount_idr', 'avg_issued_invoice_amount_idr', 'count_booking', 'count_issued', 'cvr', 'day_diff']\n",
    "fig, ax = plt.subplots(3, 2, figsize=(15, 9))\n",
    "df_flight[(df_flight.label == 0) & (df_flight.primary_sales_product_type == 'FLIGHT')][numerical_features].hist(bins=20, color=\"blue\", alpha=0.5, ax=ax)\n",
    "df_flight[(df_flight.label == 1) & (df_flight.primary_sales_product_type == 'FLIGHT')][numerical_features].hist(bins=20, color=\"orange\", alpha=0.5, ax=ax)"
   ]
  },
  {
   "cell_type": "code",
   "execution_count": null,
   "metadata": {
    "id": "APxdUPONL3WB",
    "outputId": "dcc65b8f-3555-4954-9d38-1cb0dde5d31c"
   },
   "outputs": [
    {
     "name": "stderr",
     "output_type": "stream",
     "text": [
      "C:\\Users\\Nakama\\Anaconda3\\lib\\site-packages\\ipykernel_launcher.py:3: UserWarning:\n",
      "\n",
      "Boolean Series key will be reindexed to match DataFrame index.\n",
      "\n",
      "C:\\Users\\Nakama\\Anaconda3\\lib\\site-packages\\ipykernel_launcher.py:4: UserWarning:\n",
      "\n",
      "Boolean Series key will be reindexed to match DataFrame index.\n",
      "\n"
     ]
    },
    {
     "data": {
      "text/plain": [
       "array([<matplotlib.axes._subplots.AxesSubplot object at 0x000001F4A94F3F88>,\n",
       "       <matplotlib.axes._subplots.AxesSubplot object at 0x000001F4B894C748>,\n",
       "       <matplotlib.axes._subplots.AxesSubplot object at 0x000001F4B8B63B88>,\n",
       "       <matplotlib.axes._subplots.AxesSubplot object at 0x000001F4B8B9E648>,\n",
       "       <matplotlib.axes._subplots.AxesSubplot object at 0x000001F4BE589088>,\n",
       "       <matplotlib.axes._subplots.AxesSubplot object at 0x000001F4BE5BEB08>],\n",
       "      dtype=object)"
      ]
     },
     "execution_count": 340,
     "metadata": {},
     "output_type": "execute_result"
    },
    {
     "data": {
      "image/png": "[encoded data removed]",
      "text/plain": [
       "<Figure size 1080x864 with 6 Axes>"
      ]
     },
     "metadata": {
      "needs_background": "light"
     },
     "output_type": "display_data"
    }
   ],
   "source": [
    "numerical_features = ['avg_booking_invoice_amount_idr', 'avg_issued_invoice_amount_idr', 'count_booking', 'count_issued', 'cvr','day_diff']\n",
    "fig, ax = plt.subplots(3, 2, figsize=(15, 12))\n",
    "df_hotel[(df.label == 0) & (df_hotel.primary_sales_product_type == 'HOTEL')][numerical_features].hist(bins=20, color=\"blue\", alpha=0.5, ax=ax)\n",
    "df_hotel[(df.label == 1) & (df_hotel.primary_sales_product_type == 'HOTEL')][numerical_features].hist(bins=20, color=\"orange\", alpha=0.5, ax=ax)"
   ]
  },
  {
   "cell_type": "code",
   "execution_count": null,
   "metadata": {
    "id": "XkaGRnwOL3WB",
    "outputId": "bdc32708-e5fe-4762-b022-c82015effcd7"
   },
   "outputs": [
    {
     "name": "stderr",
     "output_type": "stream",
     "text": [
      "C:\\Users\\Nakama\\Anaconda3\\lib\\site-packages\\ipykernel_launcher.py:3: UserWarning:\n",
      "\n",
      "Boolean Series key will be reindexed to match DataFrame index.\n",
      "\n",
      "C:\\Users\\Nakama\\Anaconda3\\lib\\site-packages\\ipykernel_launcher.py:4: UserWarning:\n",
      "\n",
      "Boolean Series key will be reindexed to match DataFrame index.\n",
      "\n"
     ]
    },
    {
     "data": {
      "text/plain": [
       "array([<matplotlib.axes._subplots.AxesSubplot object at 0x000001F4C13D3888>,\n",
       "       <matplotlib.axes._subplots.AxesSubplot object at 0x000001F4C13FE348>,\n",
       "       <matplotlib.axes._subplots.AxesSubplot object at 0x000001F4C141E6C8>,\n",
       "       <matplotlib.axes._subplots.AxesSubplot object at 0x000001F4C1456148>,\n",
       "       <matplotlib.axes._subplots.AxesSubplot object at 0x000001F4C148BBC8>,\n",
       "       <matplotlib.axes._subplots.AxesSubplot object at 0x000001F4C14C6688>],\n",
       "      dtype=object)"
      ]
     },
     "execution_count": 341,
     "metadata": {},
     "output_type": "execute_result"
    },
    {
     "data": {
      "image/png": "[encoded data removed]",
      "text/plain": [
       "<Figure size 1080x864 with 6 Axes>"
      ]
     },
     "metadata": {
      "needs_background": "light"
     },
     "output_type": "display_data"
    }
   ],
   "source": [
    "numerical_features = ['avg_booking_invoice_amount_idr', 'avg_issued_invoice_amount_idr', 'count_booking', 'count_issued', 'cvr', 'day_diff']\n",
    "fig, ax = plt.subplots(3, 2, figsize=(15, 12))\n",
    "df_train[(df.label == 0) & (df_train.primary_sales_product_type == 'TRAIN')][numerical_features].hist(bins=20, color=\"blue\", alpha=0.5, ax=ax)\n",
    "df_train[(df.label == 1) & (df_train.primary_sales_product_type == 'TRAIN')][numerical_features].hist(bins=20, color=\"orange\", alpha=0.5, ax=ax)"
   ]
  },
  {
   "cell_type": "code",
   "execution_count": null,
   "metadata": {
    "id": "V3tL5i7nL3WB",
    "outputId": "d62ca7f0-9cd4-4b09-f349-4e58e776e9cb"
   },
   "outputs": [
    {
     "name": "stderr",
     "output_type": "stream",
     "text": [
      "C:\\Users\\Nakama\\Anaconda3\\lib\\site-packages\\ipykernel_launcher.py:3: UserWarning:\n",
      "\n",
      "Boolean Series key will be reindexed to match DataFrame index.\n",
      "\n",
      "C:\\Users\\Nakama\\Anaconda3\\lib\\site-packages\\ipykernel_launcher.py:4: UserWarning:\n",
      "\n",
      "Boolean Series key will be reindexed to match DataFrame index.\n",
      "\n"
     ]
    },
    {
     "data": {
      "text/plain": [
       "array([<matplotlib.axes._subplots.AxesSubplot object at 0x000001F4CB86DC48>,\n",
       "       <matplotlib.axes._subplots.AxesSubplot object at 0x000001F4CB896608>,\n",
       "       <matplotlib.axes._subplots.AxesSubplot object at 0x000001F4CB8B7D48>,\n",
       "       <matplotlib.axes._subplots.AxesSubplot object at 0x000001F4CB8EE7C8>,\n",
       "       <matplotlib.axes._subplots.AxesSubplot object at 0x000001F4CC88C188>,\n",
       "       <matplotlib.axes._subplots.AxesSubplot object at 0x000001F4CC8C0BC8>],\n",
       "      dtype=object)"
      ]
     },
     "execution_count": 342,
     "metadata": {},
     "output_type": "execute_result"
    },
    {
     "data": {
      "image/png": "[encoded data removed]",
      "text/plain": [
       "<Figure size 1080x864 with 6 Axes>"
      ]
     },
     "metadata": {
      "needs_background": "light"
     },
     "output_type": "display_data"
    }
   ],
   "source": [
    "numerical_features = ['avg_booking_invoice_amount_idr', 'avg_issued_invoice_amount_idr', 'count_booking', 'count_issued', 'cvr', 'day_diff']\n",
    "fig, ax = plt.subplots(3, 2, figsize=(15, 12))\n",
    "df_trip[(df.label == 0) & (df_trip.primary_sales_product_type == 'TRIP')][numerical_features].hist(bins=20, color=\"blue\", alpha=0.5, ax=ax)\n",
    "df_trip[(df.label == 1) & (df_trip.primary_sales_product_type == 'TRIP')][numerical_features].hist(bins=20, color=\"orange\", alpha=0.5, ax=ax)"
   ]
  },
  {
   "cell_type": "code",
   "execution_count": null,
   "metadata": {
    "id": "WwR6AYCeL3WC",
    "outputId": "17807dc8-f6b4-420e-daff-d3ea1e62968d"
   },
   "outputs": [
    {
     "data": {
      "text/html": [
       "<div>\n",
       "<style scoped>\n",
       "    .dataframe tbody tr th:only-of-type {\n",
       "        vertical-align: middle;\n",
       "    }\n",
       "\n",
       "    .dataframe tbody tr th {\n",
       "        vertical-align: top;\n",
       "    }\n",
       "\n",
       "    .dataframe thead tr th {\n",
       "        text-align: left;\n",
       "    }\n",
       "</style>\n",
       "<table border=\"1\" class=\"dataframe\">\n",
       "  <thead>\n",
       "    <tr>\n",
       "      <th></th>\n",
       "      <th>primary_sales_product_type</th>\n",
       "      <th colspan=\"2\" halign=\"left\">FLIGHT</th>\n",
       "    </tr>\n",
       "    <tr>\n",
       "      <th></th>\n",
       "      <th>label</th>\n",
       "      <th>0</th>\n",
       "      <th>1</th>\n",
       "    </tr>\n",
       "  </thead>\n",
       "  <tbody>\n",
       "    <tr>\n",
       "      <th rowspan=\"8\" valign=\"top\">avg_booking_invoice_amount_idr</th>\n",
       "      <th>count</th>\n",
       "      <td>54343.00000</td>\n",
       "      <td>44382.00000</td>\n",
       "    </tr>\n",
       "    <tr>\n",
       "      <th>mean</th>\n",
       "      <td>1386498.35281</td>\n",
       "      <td>1234629.09860</td>\n",
       "    </tr>\n",
       "    <tr>\n",
       "      <th>std</th>\n",
       "      <td>830328.18992</td>\n",
       "      <td>811274.83969</td>\n",
       "    </tr>\n",
       "    <tr>\n",
       "      <th>min</th>\n",
       "      <td>77414.00000</td>\n",
       "      <td>134299.25187</td>\n",
       "    </tr>\n",
       "    <tr>\n",
       "      <th>25%</th>\n",
       "      <td>816458.65848</td>\n",
       "      <td>672424.25000</td>\n",
       "    </tr>\n",
       "    <tr>\n",
       "      <th>50%</th>\n",
       "      <td>1159969.00000</td>\n",
       "      <td>1000053.30000</td>\n",
       "    </tr>\n",
       "    <tr>\n",
       "      <th>75%</th>\n",
       "      <td>1710097.87500</td>\n",
       "      <td>1530413.33333</td>\n",
       "    </tr>\n",
       "    <tr>\n",
       "      <th>max</th>\n",
       "      <td>6575500.00000</td>\n",
       "      <td>6507602.42857</td>\n",
       "    </tr>\n",
       "    <tr>\n",
       "      <th rowspan=\"8\" valign=\"top\">avg_issued_invoice_amount_idr</th>\n",
       "      <th>count</th>\n",
       "      <td>54343.00000</td>\n",
       "      <td>44382.00000</td>\n",
       "    </tr>\n",
       "    <tr>\n",
       "      <th>mean</th>\n",
       "      <td>1317068.17131</td>\n",
       "      <td>1176212.24801</td>\n",
       "    </tr>\n",
       "    <tr>\n",
       "      <th>std</th>\n",
       "      <td>763986.25941</td>\n",
       "      <td>770256.21601</td>\n",
       "    </tr>\n",
       "    <tr>\n",
       "      <th>min</th>\n",
       "      <td>77414.00000</td>\n",
       "      <td>0.00000</td>\n",
       "    </tr>\n",
       "    <tr>\n",
       "      <th>25%</th>\n",
       "      <td>776803.00357</td>\n",
       "      <td>635378.25000</td>\n",
       "    </tr>\n",
       "    <tr>\n",
       "      <th>50%</th>\n",
       "      <td>1112412.00000</td>\n",
       "      <td>950758.75000</td>\n",
       "    </tr>\n",
       "    <tr>\n",
       "      <th>75%</th>\n",
       "      <td>1634457.23333</td>\n",
       "      <td>1467455.62500</td>\n",
       "    </tr>\n",
       "    <tr>\n",
       "      <th>max</th>\n",
       "      <td>4335345.00000</td>\n",
       "      <td>4334981.00000</td>\n",
       "    </tr>\n",
       "    <tr>\n",
       "      <th rowspan=\"8\" valign=\"top\">count_booking</th>\n",
       "      <th>count</th>\n",
       "      <td>54343.00000</td>\n",
       "      <td>44382.00000</td>\n",
       "    </tr>\n",
       "    <tr>\n",
       "      <th>mean</th>\n",
       "      <td>17.37841</td>\n",
       "      <td>7.98743</td>\n",
       "    </tr>\n",
       "    <tr>\n",
       "      <th>std</th>\n",
       "      <td>22.90672</td>\n",
       "      <td>12.70968</td>\n",
       "    </tr>\n",
       "    <tr>\n",
       "      <th>min</th>\n",
       "      <td>1.00000</td>\n",
       "      <td>1.00000</td>\n",
       "    </tr>\n",
       "    <tr>\n",
       "      <th>25%</th>\n",
       "      <td>3.00000</td>\n",
       "      <td>2.00000</td>\n",
       "    </tr>\n",
       "    <tr>\n",
       "      <th>50%</th>\n",
       "      <td>8.00000</td>\n",
       "      <td>4.00000</td>\n",
       "    </tr>\n",
       "    <tr>\n",
       "      <th>75%</th>\n",
       "      <td>22.00000</td>\n",
       "      <td>9.00000</td>\n",
       "    </tr>\n",
       "    <tr>\n",
       "      <th>max</th>\n",
       "      <td>138.00000</td>\n",
       "      <td>138.00000</td>\n",
       "    </tr>\n",
       "    <tr>\n",
       "      <th rowspan=\"8\" valign=\"top\">count_issued</th>\n",
       "      <th>count</th>\n",
       "      <td>54343.00000</td>\n",
       "      <td>44382.00000</td>\n",
       "    </tr>\n",
       "    <tr>\n",
       "      <th>mean</th>\n",
       "      <td>10.34529</td>\n",
       "      <td>4.04355</td>\n",
       "    </tr>\n",
       "    <tr>\n",
       "      <th>std</th>\n",
       "      <td>14.84676</td>\n",
       "      <td>6.79273</td>\n",
       "    </tr>\n",
       "    <tr>\n",
       "      <th>min</th>\n",
       "      <td>1.00000</td>\n",
       "      <td>1.00000</td>\n",
       "    </tr>\n",
       "    <tr>\n",
       "      <th>25%</th>\n",
       "      <td>2.00000</td>\n",
       "      <td>1.00000</td>\n",
       "    </tr>\n",
       "    <tr>\n",
       "      <th>50%</th>\n",
       "      <td>5.00000</td>\n",
       "      <td>2.00000</td>\n",
       "    </tr>\n",
       "    <tr>\n",
       "      <th>75%</th>\n",
       "      <td>12.00000</td>\n",
       "      <td>4.00000</td>\n",
       "    </tr>\n",
       "    <tr>\n",
       "      <th>max</th>\n",
       "      <td>132.00000</td>\n",
       "      <td>122.00000</td>\n",
       "    </tr>\n",
       "    <tr>\n",
       "      <th rowspan=\"8\" valign=\"top\">day_diff</th>\n",
       "      <th>count</th>\n",
       "      <td>54343.00000</td>\n",
       "      <td>44382.00000</td>\n",
       "    </tr>\n",
       "    <tr>\n",
       "      <th>mean</th>\n",
       "      <td>140.02878</td>\n",
       "      <td>747.00430</td>\n",
       "    </tr>\n",
       "    <tr>\n",
       "      <th>std</th>\n",
       "      <td>107.30284</td>\n",
       "      <td>306.29725</td>\n",
       "    </tr>\n",
       "    <tr>\n",
       "      <th>min</th>\n",
       "      <td>0.00000</td>\n",
       "      <td>366.00000</td>\n",
       "    </tr>\n",
       "    <tr>\n",
       "      <th>25%</th>\n",
       "      <td>42.00000</td>\n",
       "      <td>511.00000</td>\n",
       "    </tr>\n",
       "    <tr>\n",
       "      <th>50%</th>\n",
       "      <td>121.00000</td>\n",
       "      <td>674.00000</td>\n",
       "    </tr>\n",
       "    <tr>\n",
       "      <th>75%</th>\n",
       "      <td>226.00000</td>\n",
       "      <td>913.00000</td>\n",
       "    </tr>\n",
       "    <tr>\n",
       "      <th>max</th>\n",
       "      <td>365.00000</td>\n",
       "      <td>2115.00000</td>\n",
       "    </tr>\n",
       "    <tr>\n",
       "      <th rowspan=\"8\" valign=\"top\">day_diff_booking_time</th>\n",
       "      <th>count</th>\n",
       "      <td>54343.00000</td>\n",
       "      <td>44382.00000</td>\n",
       "    </tr>\n",
       "    <tr>\n",
       "      <th>mean</th>\n",
       "      <td>504.68557</td>\n",
       "      <td>244.32748</td>\n",
       "    </tr>\n",
       "    <tr>\n",
       "      <th>std</th>\n",
       "      <td>493.65774</td>\n",
       "      <td>348.26874</td>\n",
       "    </tr>\n",
       "    <tr>\n",
       "      <th>min</th>\n",
       "      <td>0.00000</td>\n",
       "      <td>0.00000</td>\n",
       "    </tr>\n",
       "    <tr>\n",
       "      <th>25%</th>\n",
       "      <td>42.00000</td>\n",
       "      <td>0.00000</td>\n",
       "    </tr>\n",
       "    <tr>\n",
       "      <th>50%</th>\n",
       "      <td>379.00000</td>\n",
       "      <td>70.00000</td>\n",
       "    </tr>\n",
       "    <tr>\n",
       "      <th>75%</th>\n",
       "      <td>821.00000</td>\n",
       "      <td>372.00000</td>\n",
       "    </tr>\n",
       "    <tr>\n",
       "      <th>max</th>\n",
       "      <td>2093.00000</td>\n",
       "      <td>2051.00000</td>\n",
       "    </tr>\n",
       "    <tr>\n",
       "      <th rowspan=\"8\" valign=\"top\">day_diff_issue_time</th>\n",
       "      <th>count</th>\n",
       "      <td>54343.00000</td>\n",
       "      <td>44382.00000</td>\n",
       "    </tr>\n",
       "    <tr>\n",
       "      <th>mean</th>\n",
       "      <td>439.04586</td>\n",
       "      <td>155.79046</td>\n",
       "    </tr>\n",
       "    <tr>\n",
       "      <th>std</th>\n",
       "      <td>463.64785</td>\n",
       "      <td>268.66807</td>\n",
       "    </tr>\n",
       "    <tr>\n",
       "      <th>min</th>\n",
       "      <td>0.00000</td>\n",
       "      <td>0.00000</td>\n",
       "    </tr>\n",
       "    <tr>\n",
       "      <th>25%</th>\n",
       "      <td>3.00000</td>\n",
       "      <td>0.00000</td>\n",
       "    </tr>\n",
       "    <tr>\n",
       "      <th>50%</th>\n",
       "      <td>306.00000</td>\n",
       "      <td>5.00000</td>\n",
       "    </tr>\n",
       "    <tr>\n",
       "      <th>75%</th>\n",
       "      <td>723.00000</td>\n",
       "      <td>207.00000</td>\n",
       "    </tr>\n",
       "    <tr>\n",
       "      <th>max</th>\n",
       "      <td>2084.00000</td>\n",
       "      <td>1672.00000</td>\n",
       "    </tr>\n",
       "  </tbody>\n",
       "</table>\n",
       "</div>"
      ],
      "text/plain": [
       "primary_sales_product_type                  FLIGHT              \n",
       "label                                            0             1\n",
       "avg_booking_invoice_amount_idr count   54343.00000   44382.00000\n",
       "                               mean  1386498.35281 1234629.09860\n",
       "                               std    830328.18992  811274.83969\n",
       "                               min     77414.00000  134299.25187\n",
       "                               25%    816458.65848  672424.25000\n",
       "                               50%   1159969.00000 1000053.30000\n",
       "                               75%   1710097.87500 1530413.33333\n",
       "                               max   6575500.00000 6507602.42857\n",
       "avg_issued_invoice_amount_idr  count   54343.00000   44382.00000\n",
       "                               mean  1317068.17131 1176212.24801\n",
       "                               std    763986.25941  770256.21601\n",
       "                               min     77414.00000       0.00000\n",
       "                               25%    776803.00357  635378.25000\n",
       "                               50%   1112412.00000  950758.75000\n",
       "                               75%   1634457.23333 1467455.62500\n",
       "                               max   4335345.00000 4334981.00000\n",
       "count_booking                  count   54343.00000   44382.00000\n",
       "                               mean       17.37841       7.98743\n",
       "                               std        22.90672      12.70968\n",
       "                               min         1.00000       1.00000\n",
       "                               25%         3.00000       2.00000\n",
       "                               50%         8.00000       4.00000\n",
       "                               75%        22.00000       9.00000\n",
       "                               max       138.00000     138.00000\n",
       "count_issued                   count   54343.00000   44382.00000\n",
       "                               mean       10.34529       4.04355\n",
       "                               std        14.84676       6.79273\n",
       "                               min         1.00000       1.00000\n",
       "                               25%         2.00000       1.00000\n",
       "                               50%         5.00000       2.00000\n",
       "                               75%        12.00000       4.00000\n",
       "                               max       132.00000     122.00000\n",
       "day_diff                       count   54343.00000   44382.00000\n",
       "                               mean      140.02878     747.00430\n",
       "                               std       107.30284     306.29725\n",
       "                               min         0.00000     366.00000\n",
       "                               25%        42.00000     511.00000\n",
       "                               50%       121.00000     674.00000\n",
       "                               75%       226.00000     913.00000\n",
       "                               max       365.00000    2115.00000\n",
       "day_diff_booking_time          count   54343.00000   44382.00000\n",
       "                               mean      504.68557     244.32748\n",
       "                               std       493.65774     348.26874\n",
       "                               min         0.00000       0.00000\n",
       "                               25%        42.00000       0.00000\n",
       "                               50%       379.00000      70.00000\n",
       "                               75%       821.00000     372.00000\n",
       "                               max      2093.00000    2051.00000\n",
       "day_diff_issue_time            count   54343.00000   44382.00000\n",
       "                               mean      439.04586     155.79046\n",
       "                               std       463.64785     268.66807\n",
       "                               min         0.00000       0.00000\n",
       "                               25%         3.00000       0.00000\n",
       "                               50%       306.00000       5.00000\n",
       "                               75%       723.00000     207.00000\n",
       "                               max      2084.00000    1672.00000"
      ]
     },
     "execution_count": 343,
     "metadata": {},
     "output_type": "execute_result"
    }
   ],
   "source": [
    "df_flight_describe = df_flight.groupby([\"primary_sales_product_type\", 'label']).describe().transpose().drop(['profile_id', 'random_number','cvr'])\n",
    "df_flight_describe"
   ]
  },
  {
   "cell_type": "code",
   "execution_count": null,
   "metadata": {
    "id": "8SzV5PO5L3WC",
    "outputId": "8badb525-d31d-4134-962e-4c66387fdd32"
   },
   "outputs": [
    {
     "data": {
      "text/html": [
       "<div>\n",
       "<style scoped>\n",
       "    .dataframe tbody tr th:only-of-type {\n",
       "        vertical-align: middle;\n",
       "    }\n",
       "\n",
       "    .dataframe tbody tr th {\n",
       "        vertical-align: top;\n",
       "    }\n",
       "\n",
       "    .dataframe thead tr th {\n",
       "        text-align: left;\n",
       "    }\n",
       "</style>\n",
       "<table border=\"1\" class=\"dataframe\">\n",
       "  <thead>\n",
       "    <tr>\n",
       "      <th></th>\n",
       "      <th>primary_sales_product_type</th>\n",
       "      <th colspan=\"2\" halign=\"left\">HOTEL</th>\n",
       "    </tr>\n",
       "    <tr>\n",
       "      <th></th>\n",
       "      <th>label</th>\n",
       "      <th>0</th>\n",
       "      <th>1</th>\n",
       "    </tr>\n",
       "  </thead>\n",
       "  <tbody>\n",
       "    <tr>\n",
       "      <th rowspan=\"8\" valign=\"top\">avg_booking_invoice_amount_idr</th>\n",
       "      <th>count</th>\n",
       "      <td>38253.00000</td>\n",
       "      <td>24880.00000</td>\n",
       "    </tr>\n",
       "    <tr>\n",
       "      <th>mean</th>\n",
       "      <td>738311.66826</td>\n",
       "      <td>725265.31985</td>\n",
       "    </tr>\n",
       "    <tr>\n",
       "      <th>std</th>\n",
       "      <td>536446.58501</td>\n",
       "      <td>543653.00850</td>\n",
       "    </tr>\n",
       "    <tr>\n",
       "      <th>min</th>\n",
       "      <td>30462.00000</td>\n",
       "      <td>4173.96916</td>\n",
       "    </tr>\n",
       "    <tr>\n",
       "      <th>25%</th>\n",
       "      <td>379165.67742</td>\n",
       "      <td>364092.91667</td>\n",
       "    </tr>\n",
       "    <tr>\n",
       "      <th>50%</th>\n",
       "      <td>577920.83784</td>\n",
       "      <td>551905.32308</td>\n",
       "    </tr>\n",
       "    <tr>\n",
       "      <th>75%</th>\n",
       "      <td>921275.00000</td>\n",
       "      <td>904388.47368</td>\n",
       "    </tr>\n",
       "    <tr>\n",
       "      <th>max</th>\n",
       "      <td>5197393.75199</td>\n",
       "      <td>5137783.60000</td>\n",
       "    </tr>\n",
       "    <tr>\n",
       "      <th rowspan=\"8\" valign=\"top\">avg_issued_invoice_amount_idr</th>\n",
       "      <th>count</th>\n",
       "      <td>38253.00000</td>\n",
       "      <td>24880.00000</td>\n",
       "    </tr>\n",
       "    <tr>\n",
       "      <th>mean</th>\n",
       "      <td>681230.50173</td>\n",
       "      <td>670588.61077</td>\n",
       "    </tr>\n",
       "    <tr>\n",
       "      <th>std</th>\n",
       "      <td>478885.31519</td>\n",
       "      <td>490090.86846</td>\n",
       "    </tr>\n",
       "    <tr>\n",
       "      <th>min</th>\n",
       "      <td>0.00000</td>\n",
       "      <td>0.00000</td>\n",
       "    </tr>\n",
       "    <tr>\n",
       "      <th>25%</th>\n",
       "      <td>349306.22222</td>\n",
       "      <td>336265.25000</td>\n",
       "    </tr>\n",
       "    <tr>\n",
       "      <th>50%</th>\n",
       "      <td>535340.57143</td>\n",
       "      <td>509792.23501</td>\n",
       "    </tr>\n",
       "    <tr>\n",
       "      <th>75%</th>\n",
       "      <td>857778.75000</td>\n",
       "      <td>840566.50000</td>\n",
       "    </tr>\n",
       "    <tr>\n",
       "      <th>max</th>\n",
       "      <td>2782757.94153</td>\n",
       "      <td>2779590.00000</td>\n",
       "    </tr>\n",
       "    <tr>\n",
       "      <th rowspan=\"8\" valign=\"top\">count_booking</th>\n",
       "      <th>count</th>\n",
       "      <td>38253.00000</td>\n",
       "      <td>24880.00000</td>\n",
       "    </tr>\n",
       "    <tr>\n",
       "      <th>mean</th>\n",
       "      <td>13.16501</td>\n",
       "      <td>6.87528</td>\n",
       "    </tr>\n",
       "    <tr>\n",
       "      <th>std</th>\n",
       "      <td>15.08459</td>\n",
       "      <td>8.74143</td>\n",
       "    </tr>\n",
       "    <tr>\n",
       "      <th>min</th>\n",
       "      <td>1.00000</td>\n",
       "      <td>1.00000</td>\n",
       "    </tr>\n",
       "    <tr>\n",
       "      <th>25%</th>\n",
       "      <td>3.00000</td>\n",
       "      <td>2.00000</td>\n",
       "    </tr>\n",
       "    <tr>\n",
       "      <th>50%</th>\n",
       "      <td>7.00000</td>\n",
       "      <td>4.00000</td>\n",
       "    </tr>\n",
       "    <tr>\n",
       "      <th>75%</th>\n",
       "      <td>17.00000</td>\n",
       "      <td>8.00000</td>\n",
       "    </tr>\n",
       "    <tr>\n",
       "      <th>max</th>\n",
       "      <td>84.00000</td>\n",
       "      <td>83.00000</td>\n",
       "    </tr>\n",
       "    <tr>\n",
       "      <th rowspan=\"8\" valign=\"top\">count_issued</th>\n",
       "      <th>count</th>\n",
       "      <td>38253.00000</td>\n",
       "      <td>24880.00000</td>\n",
       "    </tr>\n",
       "    <tr>\n",
       "      <th>mean</th>\n",
       "      <td>5.91308</td>\n",
       "      <td>2.63850</td>\n",
       "    </tr>\n",
       "    <tr>\n",
       "      <th>std</th>\n",
       "      <td>7.72492</td>\n",
       "      <td>3.55741</td>\n",
       "    </tr>\n",
       "    <tr>\n",
       "      <th>min</th>\n",
       "      <td>1.00000</td>\n",
       "      <td>1.00000</td>\n",
       "    </tr>\n",
       "    <tr>\n",
       "      <th>25%</th>\n",
       "      <td>1.00000</td>\n",
       "      <td>1.00000</td>\n",
       "    </tr>\n",
       "    <tr>\n",
       "      <th>50%</th>\n",
       "      <td>3.00000</td>\n",
       "      <td>1.00000</td>\n",
       "    </tr>\n",
       "    <tr>\n",
       "      <th>75%</th>\n",
       "      <td>7.00000</td>\n",
       "      <td>3.00000</td>\n",
       "    </tr>\n",
       "    <tr>\n",
       "      <th>max</th>\n",
       "      <td>76.00000</td>\n",
       "      <td>65.00000</td>\n",
       "    </tr>\n",
       "    <tr>\n",
       "      <th rowspan=\"8\" valign=\"top\">day_diff</th>\n",
       "      <th>count</th>\n",
       "      <td>38253.00000</td>\n",
       "      <td>24880.00000</td>\n",
       "    </tr>\n",
       "    <tr>\n",
       "      <th>mean</th>\n",
       "      <td>134.71597</td>\n",
       "      <td>685.79128</td>\n",
       "    </tr>\n",
       "    <tr>\n",
       "      <th>std</th>\n",
       "      <td>104.47500</td>\n",
       "      <td>251.00973</td>\n",
       "    </tr>\n",
       "    <tr>\n",
       "      <th>min</th>\n",
       "      <td>0.00000</td>\n",
       "      <td>366.00000</td>\n",
       "    </tr>\n",
       "    <tr>\n",
       "      <th>25%</th>\n",
       "      <td>42.00000</td>\n",
       "      <td>482.00000</td>\n",
       "    </tr>\n",
       "    <tr>\n",
       "      <th>50%</th>\n",
       "      <td>110.00000</td>\n",
       "      <td>630.00000</td>\n",
       "    </tr>\n",
       "    <tr>\n",
       "      <th>75%</th>\n",
       "      <td>217.00000</td>\n",
       "      <td>835.00000</td>\n",
       "    </tr>\n",
       "    <tr>\n",
       "      <th>max</th>\n",
       "      <td>365.00000</td>\n",
       "      <td>1652.00000</td>\n",
       "    </tr>\n",
       "    <tr>\n",
       "      <th rowspan=\"8\" valign=\"top\">day_diff_booking_time</th>\n",
       "      <th>count</th>\n",
       "      <td>38253.00000</td>\n",
       "      <td>24880.00000</td>\n",
       "    </tr>\n",
       "    <tr>\n",
       "      <th>mean</th>\n",
       "      <td>398.29386</td>\n",
       "      <td>193.81226</td>\n",
       "    </tr>\n",
       "    <tr>\n",
       "      <th>std</th>\n",
       "      <td>400.32138</td>\n",
       "      <td>275.79364</td>\n",
       "    </tr>\n",
       "    <tr>\n",
       "      <th>min</th>\n",
       "      <td>0.00000</td>\n",
       "      <td>0.00000</td>\n",
       "    </tr>\n",
       "    <tr>\n",
       "      <th>25%</th>\n",
       "      <td>13.00000</td>\n",
       "      <td>0.00000</td>\n",
       "    </tr>\n",
       "    <tr>\n",
       "      <th>50%</th>\n",
       "      <td>295.00000</td>\n",
       "      <td>47.00000</td>\n",
       "    </tr>\n",
       "    <tr>\n",
       "      <th>75%</th>\n",
       "      <td>661.00000</td>\n",
       "      <td>309.00000</td>\n",
       "    </tr>\n",
       "    <tr>\n",
       "      <th>max</th>\n",
       "      <td>1646.00000</td>\n",
       "      <td>1570.00000</td>\n",
       "    </tr>\n",
       "    <tr>\n",
       "      <th rowspan=\"8\" valign=\"top\">day_diff_issue_time</th>\n",
       "      <th>count</th>\n",
       "      <td>38253.00000</td>\n",
       "      <td>24880.00000</td>\n",
       "    </tr>\n",
       "    <tr>\n",
       "      <th>mean</th>\n",
       "      <td>327.65516</td>\n",
       "      <td>101.09614</td>\n",
       "    </tr>\n",
       "    <tr>\n",
       "      <th>std</th>\n",
       "      <td>378.08383</td>\n",
       "      <td>192.80366</td>\n",
       "    </tr>\n",
       "    <tr>\n",
       "      <th>min</th>\n",
       "      <td>0.00000</td>\n",
       "      <td>0.00000</td>\n",
       "    </tr>\n",
       "    <tr>\n",
       "      <th>25%</th>\n",
       "      <td>0.00000</td>\n",
       "      <td>0.00000</td>\n",
       "    </tr>\n",
       "    <tr>\n",
       "      <th>50%</th>\n",
       "      <td>186.00000</td>\n",
       "      <td>0.00000</td>\n",
       "    </tr>\n",
       "    <tr>\n",
       "      <th>75%</th>\n",
       "      <td>559.00000</td>\n",
       "      <td>119.00000</td>\n",
       "    </tr>\n",
       "    <tr>\n",
       "      <th>max</th>\n",
       "      <td>1643.00000</td>\n",
       "      <td>1156.00000</td>\n",
       "    </tr>\n",
       "  </tbody>\n",
       "</table>\n",
       "</div>"
      ],
      "text/plain": [
       "primary_sales_product_type                   HOTEL              \n",
       "label                                            0             1\n",
       "avg_booking_invoice_amount_idr count   38253.00000   24880.00000\n",
       "                               mean   738311.66826  725265.31985\n",
       "                               std    536446.58501  543653.00850\n",
       "                               min     30462.00000    4173.96916\n",
       "                               25%    379165.67742  364092.91667\n",
       "                               50%    577920.83784  551905.32308\n",
       "                               75%    921275.00000  904388.47368\n",
       "                               max   5197393.75199 5137783.60000\n",
       "avg_issued_invoice_amount_idr  count   38253.00000   24880.00000\n",
       "                               mean   681230.50173  670588.61077\n",
       "                               std    478885.31519  490090.86846\n",
       "                               min         0.00000       0.00000\n",
       "                               25%    349306.22222  336265.25000\n",
       "                               50%    535340.57143  509792.23501\n",
       "                               75%    857778.75000  840566.50000\n",
       "                               max   2782757.94153 2779590.00000\n",
       "count_booking                  count   38253.00000   24880.00000\n",
       "                               mean       13.16501       6.87528\n",
       "                               std        15.08459       8.74143\n",
       "                               min         1.00000       1.00000\n",
       "                               25%         3.00000       2.00000\n",
       "                               50%         7.00000       4.00000\n",
       "                               75%        17.00000       8.00000\n",
       "                               max        84.00000      83.00000\n",
       "count_issued                   count   38253.00000   24880.00000\n",
       "                               mean        5.91308       2.63850\n",
       "                               std         7.72492       3.55741\n",
       "                               min         1.00000       1.00000\n",
       "                               25%         1.00000       1.00000\n",
       "                               50%         3.00000       1.00000\n",
       "                               75%         7.00000       3.00000\n",
       "                               max        76.00000      65.00000\n",
       "day_diff                       count   38253.00000   24880.00000\n",
       "                               mean      134.71597     685.79128\n",
       "                               std       104.47500     251.00973\n",
       "                               min         0.00000     366.00000\n",
       "                               25%        42.00000     482.00000\n",
       "                               50%       110.00000     630.00000\n",
       "                               75%       217.00000     835.00000\n",
       "                               max       365.00000    1652.00000\n",
       "day_diff_booking_time          count   38253.00000   24880.00000\n",
       "                               mean      398.29386     193.81226\n",
       "                               std       400.32138     275.79364\n",
       "                               min         0.00000       0.00000\n",
       "                               25%        13.00000       0.00000\n",
       "                               50%       295.00000      47.00000\n",
       "                               75%       661.00000     309.00000\n",
       "                               max      1646.00000    1570.00000\n",
       "day_diff_issue_time            count   38253.00000   24880.00000\n",
       "                               mean      327.65516     101.09614\n",
       "                               std       378.08383     192.80366\n",
       "                               min         0.00000       0.00000\n",
       "                               25%         0.00000       0.00000\n",
       "                               50%       186.00000       0.00000\n",
       "                               75%       559.00000     119.00000\n",
       "                               max      1643.00000    1156.00000"
      ]
     },
     "execution_count": 344,
     "metadata": {},
     "output_type": "execute_result"
    }
   ],
   "source": [
    "df_hotel_describe = df_hotel.groupby([\"primary_sales_product_type\", 'label']).describe().transpose().drop(['profile_id', 'random_number','cvr'])\n",
    "df_hotel_describe"
   ]
  },
  {
   "cell_type": "code",
   "execution_count": null,
   "metadata": {
    "id": "0rymQW24L3WC",
    "outputId": "8957fba0-0f77-49b0-87b4-5e963c800678"
   },
   "outputs": [
    {
     "data": {
      "text/html": [
       "<div>\n",
       "<style scoped>\n",
       "    .dataframe tbody tr th:only-of-type {\n",
       "        vertical-align: middle;\n",
       "    }\n",
       "\n",
       "    .dataframe tbody tr th {\n",
       "        vertical-align: top;\n",
       "    }\n",
       "\n",
       "    .dataframe thead tr th {\n",
       "        text-align: left;\n",
       "    }\n",
       "</style>\n",
       "<table border=\"1\" class=\"dataframe\">\n",
       "  <thead>\n",
       "    <tr>\n",
       "      <th></th>\n",
       "      <th>primary_sales_product_type</th>\n",
       "      <th colspan=\"2\" halign=\"left\">TRAIN</th>\n",
       "    </tr>\n",
       "    <tr>\n",
       "      <th></th>\n",
       "      <th>label</th>\n",
       "      <th>0</th>\n",
       "      <th>1</th>\n",
       "    </tr>\n",
       "  </thead>\n",
       "  <tbody>\n",
       "    <tr>\n",
       "      <th rowspan=\"8\" valign=\"top\">avg_booking_invoice_amount_idr</th>\n",
       "      <th>count</th>\n",
       "      <td>22173.00000</td>\n",
       "      <td>8670.00000</td>\n",
       "    </tr>\n",
       "    <tr>\n",
       "      <th>mean</th>\n",
       "      <td>293262.13833</td>\n",
       "      <td>291779.87699</td>\n",
       "    </tr>\n",
       "    <tr>\n",
       "      <th>std</th>\n",
       "      <td>194088.34281</td>\n",
       "      <td>200280.92105</td>\n",
       "    </tr>\n",
       "    <tr>\n",
       "      <th>min</th>\n",
       "      <td>9986.33333</td>\n",
       "      <td>16744.00000</td>\n",
       "    </tr>\n",
       "    <tr>\n",
       "      <th>25%</th>\n",
       "      <td>154018.00000</td>\n",
       "      <td>146886.35811</td>\n",
       "    </tr>\n",
       "    <tr>\n",
       "      <th>50%</th>\n",
       "      <td>241673.41176</td>\n",
       "      <td>234204.00000</td>\n",
       "    </tr>\n",
       "    <tr>\n",
       "      <th>75%</th>\n",
       "      <td>374847.00000</td>\n",
       "      <td>379457.37500</td>\n",
       "    </tr>\n",
       "    <tr>\n",
       "      <th>max</th>\n",
       "      <td>1239984.55556</td>\n",
       "      <td>1257464.14286</td>\n",
       "    </tr>\n",
       "    <tr>\n",
       "      <th rowspan=\"8\" valign=\"top\">avg_issued_invoice_amount_idr</th>\n",
       "      <th>count</th>\n",
       "      <td>22173.00000</td>\n",
       "      <td>8670.00000</td>\n",
       "    </tr>\n",
       "    <tr>\n",
       "      <th>mean</th>\n",
       "      <td>287350.68767</td>\n",
       "      <td>286463.50155</td>\n",
       "    </tr>\n",
       "    <tr>\n",
       "      <th>std</th>\n",
       "      <td>191807.82974</td>\n",
       "      <td>201397.39686</td>\n",
       "    </tr>\n",
       "    <tr>\n",
       "      <th>min</th>\n",
       "      <td>9986.33333</td>\n",
       "      <td>16920.33333</td>\n",
       "    </tr>\n",
       "    <tr>\n",
       "      <th>25%</th>\n",
       "      <td>148520.00000</td>\n",
       "      <td>134713.12500</td>\n",
       "    </tr>\n",
       "    <tr>\n",
       "      <th>50%</th>\n",
       "      <td>234835.50000</td>\n",
       "      <td>228951.50000</td>\n",
       "    </tr>\n",
       "    <tr>\n",
       "      <th>75%</th>\n",
       "      <td>372894.66667</td>\n",
       "      <td>379456.50000</td>\n",
       "    </tr>\n",
       "    <tr>\n",
       "      <th>max</th>\n",
       "      <td>998209.00000</td>\n",
       "      <td>996864.00000</td>\n",
       "    </tr>\n",
       "    <tr>\n",
       "      <th rowspan=\"8\" valign=\"top\">count_booking</th>\n",
       "      <th>count</th>\n",
       "      <td>22173.00000</td>\n",
       "      <td>8670.00000</td>\n",
       "    </tr>\n",
       "    <tr>\n",
       "      <th>mean</th>\n",
       "      <td>11.48568</td>\n",
       "      <td>5.55006</td>\n",
       "    </tr>\n",
       "    <tr>\n",
       "      <th>std</th>\n",
       "      <td>14.35553</td>\n",
       "      <td>7.60374</td>\n",
       "    </tr>\n",
       "    <tr>\n",
       "      <th>min</th>\n",
       "      <td>1.00000</td>\n",
       "      <td>1.00000</td>\n",
       "    </tr>\n",
       "    <tr>\n",
       "      <th>25%</th>\n",
       "      <td>2.00000</td>\n",
       "      <td>1.00000</td>\n",
       "    </tr>\n",
       "    <tr>\n",
       "      <th>50%</th>\n",
       "      <td>6.00000</td>\n",
       "      <td>3.00000</td>\n",
       "    </tr>\n",
       "    <tr>\n",
       "      <th>75%</th>\n",
       "      <td>14.00000</td>\n",
       "      <td>6.00000</td>\n",
       "    </tr>\n",
       "    <tr>\n",
       "      <th>max</th>\n",
       "      <td>85.00000</td>\n",
       "      <td>84.00000</td>\n",
       "    </tr>\n",
       "    <tr>\n",
       "      <th rowspan=\"8\" valign=\"top\">count_issued</th>\n",
       "      <th>count</th>\n",
       "      <td>22173.00000</td>\n",
       "      <td>8670.00000</td>\n",
       "    </tr>\n",
       "    <tr>\n",
       "      <th>mean</th>\n",
       "      <td>4.91097</td>\n",
       "      <td>2.02549</td>\n",
       "    </tr>\n",
       "    <tr>\n",
       "      <th>std</th>\n",
       "      <td>6.47806</td>\n",
       "      <td>2.13878</td>\n",
       "    </tr>\n",
       "    <tr>\n",
       "      <th>min</th>\n",
       "      <td>1.00000</td>\n",
       "      <td>1.00000</td>\n",
       "    </tr>\n",
       "    <tr>\n",
       "      <th>25%</th>\n",
       "      <td>1.00000</td>\n",
       "      <td>1.00000</td>\n",
       "    </tr>\n",
       "    <tr>\n",
       "      <th>50%</th>\n",
       "      <td>2.00000</td>\n",
       "      <td>1.00000</td>\n",
       "    </tr>\n",
       "    <tr>\n",
       "      <th>75%</th>\n",
       "      <td>6.00000</td>\n",
       "      <td>2.00000</td>\n",
       "    </tr>\n",
       "    <tr>\n",
       "      <th>max</th>\n",
       "      <td>75.00000</td>\n",
       "      <td>38.00000</td>\n",
       "    </tr>\n",
       "    <tr>\n",
       "      <th rowspan=\"8\" valign=\"top\">day_diff</th>\n",
       "      <th>count</th>\n",
       "      <td>22173.00000</td>\n",
       "      <td>8670.00000</td>\n",
       "    </tr>\n",
       "    <tr>\n",
       "      <th>mean</th>\n",
       "      <td>137.57493</td>\n",
       "      <td>518.72584</td>\n",
       "    </tr>\n",
       "    <tr>\n",
       "      <th>std</th>\n",
       "      <td>105.09874</td>\n",
       "      <td>98.25180</td>\n",
       "    </tr>\n",
       "    <tr>\n",
       "      <th>min</th>\n",
       "      <td>0.00000</td>\n",
       "      <td>366.00000</td>\n",
       "    </tr>\n",
       "    <tr>\n",
       "      <th>25%</th>\n",
       "      <td>45.00000</td>\n",
       "      <td>436.00000</td>\n",
       "    </tr>\n",
       "    <tr>\n",
       "      <th>50%</th>\n",
       "      <td>116.00000</td>\n",
       "      <td>508.00000</td>\n",
       "    </tr>\n",
       "    <tr>\n",
       "      <th>75%</th>\n",
       "      <td>218.00000</td>\n",
       "      <td>592.00000</td>\n",
       "    </tr>\n",
       "    <tr>\n",
       "      <th>max</th>\n",
       "      <td>365.00000</td>\n",
       "      <td>738.00000</td>\n",
       "    </tr>\n",
       "    <tr>\n",
       "      <th rowspan=\"8\" valign=\"top\">day_diff_booking_time</th>\n",
       "      <th>count</th>\n",
       "      <td>22173.00000</td>\n",
       "      <td>8670.00000</td>\n",
       "    </tr>\n",
       "    <tr>\n",
       "      <th>mean</th>\n",
       "      <td>209.61480</td>\n",
       "      <td>76.90358</td>\n",
       "    </tr>\n",
       "    <tr>\n",
       "      <th>std</th>\n",
       "      <td>216.90399</td>\n",
       "      <td>134.44947</td>\n",
       "    </tr>\n",
       "    <tr>\n",
       "      <th>min</th>\n",
       "      <td>0.00000</td>\n",
       "      <td>0.00000</td>\n",
       "    </tr>\n",
       "    <tr>\n",
       "      <th>25%</th>\n",
       "      <td>1.00000</td>\n",
       "      <td>0.00000</td>\n",
       "    </tr>\n",
       "    <tr>\n",
       "      <th>50%</th>\n",
       "      <td>143.00000</td>\n",
       "      <td>3.00000</td>\n",
       "    </tr>\n",
       "    <tr>\n",
       "      <th>75%</th>\n",
       "      <td>382.00000</td>\n",
       "      <td>102.00000</td>\n",
       "    </tr>\n",
       "    <tr>\n",
       "      <th>max</th>\n",
       "      <td>735.00000</td>\n",
       "      <td>728.00000</td>\n",
       "    </tr>\n",
       "    <tr>\n",
       "      <th rowspan=\"8\" valign=\"top\">day_diff_issue_time</th>\n",
       "      <th>count</th>\n",
       "      <td>22173.00000</td>\n",
       "      <td>8670.00000</td>\n",
       "    </tr>\n",
       "    <tr>\n",
       "      <th>mean</th>\n",
       "      <td>173.80896</td>\n",
       "      <td>27.67866</td>\n",
       "    </tr>\n",
       "    <tr>\n",
       "      <th>std</th>\n",
       "      <td>205.39771</td>\n",
       "      <td>61.30970</td>\n",
       "    </tr>\n",
       "    <tr>\n",
       "      <th>min</th>\n",
       "      <td>0.00000</td>\n",
       "      <td>0.00000</td>\n",
       "    </tr>\n",
       "    <tr>\n",
       "      <th>25%</th>\n",
       "      <td>0.00000</td>\n",
       "      <td>0.00000</td>\n",
       "    </tr>\n",
       "    <tr>\n",
       "      <th>50%</th>\n",
       "      <td>73.00000</td>\n",
       "      <td>0.00000</td>\n",
       "    </tr>\n",
       "    <tr>\n",
       "      <th>75%</th>\n",
       "      <td>331.00000</td>\n",
       "      <td>13.00000</td>\n",
       "    </tr>\n",
       "    <tr>\n",
       "      <th>max</th>\n",
       "      <td>735.00000</td>\n",
       "      <td>364.00000</td>\n",
       "    </tr>\n",
       "  </tbody>\n",
       "</table>\n",
       "</div>"
      ],
      "text/plain": [
       "primary_sales_product_type                   TRAIN              \n",
       "label                                            0             1\n",
       "avg_booking_invoice_amount_idr count   22173.00000    8670.00000\n",
       "                               mean   293262.13833  291779.87699\n",
       "                               std    194088.34281  200280.92105\n",
       "                               min      9986.33333   16744.00000\n",
       "                               25%    154018.00000  146886.35811\n",
       "                               50%    241673.41176  234204.00000\n",
       "                               75%    374847.00000  379457.37500\n",
       "                               max   1239984.55556 1257464.14286\n",
       "avg_issued_invoice_amount_idr  count   22173.00000    8670.00000\n",
       "                               mean   287350.68767  286463.50155\n",
       "                               std    191807.82974  201397.39686\n",
       "                               min      9986.33333   16920.33333\n",
       "                               25%    148520.00000  134713.12500\n",
       "                               50%    234835.50000  228951.50000\n",
       "                               75%    372894.66667  379456.50000\n",
       "                               max    998209.00000  996864.00000\n",
       "count_booking                  count   22173.00000    8670.00000\n",
       "                               mean       11.48568       5.55006\n",
       "                               std        14.35553       7.60374\n",
       "                               min         1.00000       1.00000\n",
       "                               25%         2.00000       1.00000\n",
       "                               50%         6.00000       3.00000\n",
       "                               75%        14.00000       6.00000\n",
       "                               max        85.00000      84.00000\n",
       "count_issued                   count   22173.00000    8670.00000\n",
       "                               mean        4.91097       2.02549\n",
       "                               std         6.47806       2.13878\n",
       "                               min         1.00000       1.00000\n",
       "                               25%         1.00000       1.00000\n",
       "                               50%         2.00000       1.00000\n",
       "                               75%         6.00000       2.00000\n",
       "                               max        75.00000      38.00000\n",
       "day_diff                       count   22173.00000    8670.00000\n",
       "                               mean      137.57493     518.72584\n",
       "                               std       105.09874      98.25180\n",
       "                               min         0.00000     366.00000\n",
       "                               25%        45.00000     436.00000\n",
       "                               50%       116.00000     508.00000\n",
       "                               75%       218.00000     592.00000\n",
       "                               max       365.00000     738.00000\n",
       "day_diff_booking_time          count   22173.00000    8670.00000\n",
       "                               mean      209.61480      76.90358\n",
       "                               std       216.90399     134.44947\n",
       "                               min         0.00000       0.00000\n",
       "                               25%         1.00000       0.00000\n",
       "                               50%       143.00000       3.00000\n",
       "                               75%       382.00000     102.00000\n",
       "                               max       735.00000     728.00000\n",
       "day_diff_issue_time            count   22173.00000    8670.00000\n",
       "                               mean      173.80896      27.67866\n",
       "                               std       205.39771      61.30970\n",
       "                               min         0.00000       0.00000\n",
       "                               25%         0.00000       0.00000\n",
       "                               50%        73.00000       0.00000\n",
       "                               75%       331.00000      13.00000\n",
       "                               max       735.00000     364.00000"
      ]
     },
     "execution_count": 345,
     "metadata": {},
     "output_type": "execute_result"
    }
   ],
   "source": [
    "df_train_describe = df_train.groupby([\"primary_sales_product_type\", 'label']).describe().transpose().drop(['profile_id', 'random_number','cvr'])\n",
    "df_train_describe"
   ]
  },
  {
   "cell_type": "code",
   "execution_count": null,
   "metadata": {
    "id": "RhXuDKYJL3WD",
    "outputId": "7e32e011-817e-4fbb-9fec-3080c0309f60"
   },
   "outputs": [
    {
     "data": {
      "text/html": [
       "<div>\n",
       "<style scoped>\n",
       "    .dataframe tbody tr th:only-of-type {\n",
       "        vertical-align: middle;\n",
       "    }\n",
       "\n",
       "    .dataframe tbody tr th {\n",
       "        vertical-align: top;\n",
       "    }\n",
       "\n",
       "    .dataframe thead tr th {\n",
       "        text-align: left;\n",
       "    }\n",
       "</style>\n",
       "<table border=\"1\" class=\"dataframe\">\n",
       "  <thead>\n",
       "    <tr>\n",
       "      <th></th>\n",
       "      <th>primary_sales_product_type</th>\n",
       "      <th colspan=\"2\" halign=\"left\">TRIP</th>\n",
       "    </tr>\n",
       "    <tr>\n",
       "      <th></th>\n",
       "      <th>label</th>\n",
       "      <th>0</th>\n",
       "      <th>1</th>\n",
       "    </tr>\n",
       "  </thead>\n",
       "  <tbody>\n",
       "    <tr>\n",
       "      <th rowspan=\"8\" valign=\"top\">avg_booking_invoice_amount_idr</th>\n",
       "      <th>count</th>\n",
       "      <td>2560.00000</td>\n",
       "      <td>1018.00000</td>\n",
       "    </tr>\n",
       "    <tr>\n",
       "      <th>mean</th>\n",
       "      <td>3316657.98122</td>\n",
       "      <td>3115514.01077</td>\n",
       "    </tr>\n",
       "    <tr>\n",
       "      <th>std</th>\n",
       "      <td>2021294.27676</td>\n",
       "      <td>1853030.70639</td>\n",
       "    </tr>\n",
       "    <tr>\n",
       "      <th>min</th>\n",
       "      <td>389396.00000</td>\n",
       "      <td>414254.00000</td>\n",
       "    </tr>\n",
       "    <tr>\n",
       "      <th>25%</th>\n",
       "      <td>1849474.25000</td>\n",
       "      <td>1826447.25000</td>\n",
       "    </tr>\n",
       "    <tr>\n",
       "      <th>50%</th>\n",
       "      <td>2746439.73529</td>\n",
       "      <td>2622027.66667</td>\n",
       "    </tr>\n",
       "    <tr>\n",
       "      <th>75%</th>\n",
       "      <td>4257305.93250</td>\n",
       "      <td>3930118.25000</td>\n",
       "    </tr>\n",
       "    <tr>\n",
       "      <th>max</th>\n",
       "      <td>14486045.50000</td>\n",
       "      <td>11594207.40000</td>\n",
       "    </tr>\n",
       "    <tr>\n",
       "      <th rowspan=\"8\" valign=\"top\">avg_issued_invoice_amount_idr</th>\n",
       "      <th>count</th>\n",
       "      <td>2560.00000</td>\n",
       "      <td>1018.00000</td>\n",
       "    </tr>\n",
       "    <tr>\n",
       "      <th>mean</th>\n",
       "      <td>3201928.51815</td>\n",
       "      <td>2963398.43679</td>\n",
       "    </tr>\n",
       "    <tr>\n",
       "      <th>std</th>\n",
       "      <td>1964538.92833</td>\n",
       "      <td>1823005.93383</td>\n",
       "    </tr>\n",
       "    <tr>\n",
       "      <th>min</th>\n",
       "      <td>389396.00000</td>\n",
       "      <td>414254.00000</td>\n",
       "    </tr>\n",
       "    <tr>\n",
       "      <th>25%</th>\n",
       "      <td>1792402.50000</td>\n",
       "      <td>1696896.50000</td>\n",
       "    </tr>\n",
       "    <tr>\n",
       "      <th>50%</th>\n",
       "      <td>2630978.50000</td>\n",
       "      <td>2414747.00000</td>\n",
       "    </tr>\n",
       "    <tr>\n",
       "      <th>75%</th>\n",
       "      <td>4191354.55997</td>\n",
       "      <td>3699416.50000</td>\n",
       "    </tr>\n",
       "    <tr>\n",
       "      <th>max</th>\n",
       "      <td>10410476.00000</td>\n",
       "      <td>10237337.00000</td>\n",
       "    </tr>\n",
       "    <tr>\n",
       "      <th rowspan=\"8\" valign=\"top\">count_booking</th>\n",
       "      <th>count</th>\n",
       "      <td>2560.00000</td>\n",
       "      <td>1018.00000</td>\n",
       "    </tr>\n",
       "    <tr>\n",
       "      <th>mean</th>\n",
       "      <td>3.95234</td>\n",
       "      <td>3.81729</td>\n",
       "    </tr>\n",
       "    <tr>\n",
       "      <th>std</th>\n",
       "      <td>4.60135</td>\n",
       "      <td>4.05372</td>\n",
       "    </tr>\n",
       "    <tr>\n",
       "      <th>min</th>\n",
       "      <td>1.00000</td>\n",
       "      <td>1.00000</td>\n",
       "    </tr>\n",
       "    <tr>\n",
       "      <th>25%</th>\n",
       "      <td>1.00000</td>\n",
       "      <td>1.00000</td>\n",
       "    </tr>\n",
       "    <tr>\n",
       "      <th>50%</th>\n",
       "      <td>2.00000</td>\n",
       "      <td>2.00000</td>\n",
       "    </tr>\n",
       "    <tr>\n",
       "      <th>75%</th>\n",
       "      <td>5.00000</td>\n",
       "      <td>5.00000</td>\n",
       "    </tr>\n",
       "    <tr>\n",
       "      <th>max</th>\n",
       "      <td>31.00000</td>\n",
       "      <td>28.00000</td>\n",
       "    </tr>\n",
       "    <tr>\n",
       "      <th rowspan=\"8\" valign=\"top\">count_issued</th>\n",
       "      <th>count</th>\n",
       "      <td>2560.00000</td>\n",
       "      <td>1018.00000</td>\n",
       "    </tr>\n",
       "    <tr>\n",
       "      <th>mean</th>\n",
       "      <td>1.62539</td>\n",
       "      <td>1.21316</td>\n",
       "    </tr>\n",
       "    <tr>\n",
       "      <th>std</th>\n",
       "      <td>1.47266</td>\n",
       "      <td>0.60051</td>\n",
       "    </tr>\n",
       "    <tr>\n",
       "      <th>min</th>\n",
       "      <td>1.00000</td>\n",
       "      <td>1.00000</td>\n",
       "    </tr>\n",
       "    <tr>\n",
       "      <th>25%</th>\n",
       "      <td>1.00000</td>\n",
       "      <td>1.00000</td>\n",
       "    </tr>\n",
       "    <tr>\n",
       "      <th>50%</th>\n",
       "      <td>1.00000</td>\n",
       "      <td>1.00000</td>\n",
       "    </tr>\n",
       "    <tr>\n",
       "      <th>75%</th>\n",
       "      <td>2.00000</td>\n",
       "      <td>1.00000</td>\n",
       "    </tr>\n",
       "    <tr>\n",
       "      <th>max</th>\n",
       "      <td>23.00000</td>\n",
       "      <td>6.00000</td>\n",
       "    </tr>\n",
       "    <tr>\n",
       "      <th rowspan=\"8\" valign=\"top\">day_diff</th>\n",
       "      <th>count</th>\n",
       "      <td>2560.00000</td>\n",
       "      <td>1018.00000</td>\n",
       "    </tr>\n",
       "    <tr>\n",
       "      <th>mean</th>\n",
       "      <td>159.76094</td>\n",
       "      <td>493.20334</td>\n",
       "    </tr>\n",
       "    <tr>\n",
       "      <th>std</th>\n",
       "      <td>105.88841</td>\n",
       "      <td>77.97127</td>\n",
       "    </tr>\n",
       "    <tr>\n",
       "      <th>min</th>\n",
       "      <td>0.00000</td>\n",
       "      <td>366.00000</td>\n",
       "    </tr>\n",
       "    <tr>\n",
       "      <th>25%</th>\n",
       "      <td>66.00000</td>\n",
       "      <td>425.25000</td>\n",
       "    </tr>\n",
       "    <tr>\n",
       "      <th>50%</th>\n",
       "      <td>148.00000</td>\n",
       "      <td>491.00000</td>\n",
       "    </tr>\n",
       "    <tr>\n",
       "      <th>75%</th>\n",
       "      <td>249.00000</td>\n",
       "      <td>556.00000</td>\n",
       "    </tr>\n",
       "    <tr>\n",
       "      <th>max</th>\n",
       "      <td>365.00000</td>\n",
       "      <td>639.00000</td>\n",
       "    </tr>\n",
       "    <tr>\n",
       "      <th rowspan=\"8\" valign=\"top\">day_diff_booking_time</th>\n",
       "      <th>count</th>\n",
       "      <td>2560.00000</td>\n",
       "      <td>1018.00000</td>\n",
       "    </tr>\n",
       "    <tr>\n",
       "      <th>mean</th>\n",
       "      <td>84.57852</td>\n",
       "      <td>55.54813</td>\n",
       "    </tr>\n",
       "    <tr>\n",
       "      <th>std</th>\n",
       "      <td>144.09473</td>\n",
       "      <td>115.45668</td>\n",
       "    </tr>\n",
       "    <tr>\n",
       "      <th>min</th>\n",
       "      <td>0.00000</td>\n",
       "      <td>0.00000</td>\n",
       "    </tr>\n",
       "    <tr>\n",
       "      <th>25%</th>\n",
       "      <td>0.00000</td>\n",
       "      <td>0.00000</td>\n",
       "    </tr>\n",
       "    <tr>\n",
       "      <th>50%</th>\n",
       "      <td>0.00000</td>\n",
       "      <td>0.00000</td>\n",
       "    </tr>\n",
       "    <tr>\n",
       "      <th>75%</th>\n",
       "      <td>122.50000</td>\n",
       "      <td>44.75000</td>\n",
       "    </tr>\n",
       "    <tr>\n",
       "      <th>max</th>\n",
       "      <td>635.00000</td>\n",
       "      <td>622.00000</td>\n",
       "    </tr>\n",
       "    <tr>\n",
       "      <th rowspan=\"8\" valign=\"top\">day_diff_issue_time</th>\n",
       "      <th>count</th>\n",
       "      <td>2560.00000</td>\n",
       "      <td>1018.00000</td>\n",
       "    </tr>\n",
       "    <tr>\n",
       "      <th>mean</th>\n",
       "      <td>54.88750</td>\n",
       "      <td>9.78193</td>\n",
       "    </tr>\n",
       "    <tr>\n",
       "      <th>std</th>\n",
       "      <td>119.73053</td>\n",
       "      <td>34.42255</td>\n",
       "    </tr>\n",
       "    <tr>\n",
       "      <th>min</th>\n",
       "      <td>0.00000</td>\n",
       "      <td>0.00000</td>\n",
       "    </tr>\n",
       "    <tr>\n",
       "      <th>25%</th>\n",
       "      <td>0.00000</td>\n",
       "      <td>0.00000</td>\n",
       "    </tr>\n",
       "    <tr>\n",
       "      <th>50%</th>\n",
       "      <td>0.00000</td>\n",
       "      <td>0.00000</td>\n",
       "    </tr>\n",
       "    <tr>\n",
       "      <th>75%</th>\n",
       "      <td>22.00000</td>\n",
       "      <td>0.00000</td>\n",
       "    </tr>\n",
       "    <tr>\n",
       "      <th>max</th>\n",
       "      <td>625.00000</td>\n",
       "      <td>249.00000</td>\n",
       "    </tr>\n",
       "  </tbody>\n",
       "</table>\n",
       "</div>"
      ],
      "text/plain": [
       "primary_sales_product_type                     TRIP               \n",
       "label                                             0              1\n",
       "avg_booking_invoice_amount_idr count     2560.00000     1018.00000\n",
       "                               mean   3316657.98122  3115514.01077\n",
       "                               std    2021294.27676  1853030.70639\n",
       "                               min     389396.00000   414254.00000\n",
       "                               25%    1849474.25000  1826447.25000\n",
       "                               50%    2746439.73529  2622027.66667\n",
       "                               75%    4257305.93250  3930118.25000\n",
       "                               max   14486045.50000 11594207.40000\n",
       "avg_issued_invoice_amount_idr  count     2560.00000     1018.00000\n",
       "                               mean   3201928.51815  2963398.43679\n",
       "                               std    1964538.92833  1823005.93383\n",
       "                               min     389396.00000   414254.00000\n",
       "                               25%    1792402.50000  1696896.50000\n",
       "                               50%    2630978.50000  2414747.00000\n",
       "                               75%    4191354.55997  3699416.50000\n",
       "                               max   10410476.00000 10237337.00000\n",
       "count_booking                  count     2560.00000     1018.00000\n",
       "                               mean         3.95234        3.81729\n",
       "                               std          4.60135        4.05372\n",
       "                               min          1.00000        1.00000\n",
       "                               25%          1.00000        1.00000\n",
       "                               50%          2.00000        2.00000\n",
       "                               75%          5.00000        5.00000\n",
       "                               max         31.00000       28.00000\n",
       "count_issued                   count     2560.00000     1018.00000\n",
       "                               mean         1.62539        1.21316\n",
       "                               std          1.47266        0.60051\n",
       "                               min          1.00000        1.00000\n",
       "                               25%          1.00000        1.00000\n",
       "                               50%          1.00000        1.00000\n",
       "                               75%          2.00000        1.00000\n",
       "                               max         23.00000        6.00000\n",
       "day_diff                       count     2560.00000     1018.00000\n",
       "                               mean       159.76094      493.20334\n",
       "                               std        105.88841       77.97127\n",
       "                               min          0.00000      366.00000\n",
       "                               25%         66.00000      425.25000\n",
       "                               50%        148.00000      491.00000\n",
       "                               75%        249.00000      556.00000\n",
       "                               max        365.00000      639.00000\n",
       "day_diff_booking_time          count     2560.00000     1018.00000\n",
       "                               mean        84.57852       55.54813\n",
       "                               std        144.09473      115.45668\n",
       "                               min          0.00000        0.00000\n",
       "                               25%          0.00000        0.00000\n",
       "                               50%          0.00000        0.00000\n",
       "                               75%        122.50000       44.75000\n",
       "                               max        635.00000      622.00000\n",
       "day_diff_issue_time            count     2560.00000     1018.00000\n",
       "                               mean        54.88750        9.78193\n",
       "                               std        119.73053       34.42255\n",
       "                               min          0.00000        0.00000\n",
       "                               25%          0.00000        0.00000\n",
       "                               50%          0.00000        0.00000\n",
       "                               75%         22.00000        0.00000\n",
       "                               max        625.00000      249.00000"
      ]
     },
     "execution_count": 346,
     "metadata": {},
     "output_type": "execute_result"
    }
   ],
   "source": [
    "df_trip_describe = df_trip.groupby([\"primary_sales_product_type\", 'label']).describe().transpose().drop(['profile_id', 'random_number','cvr'])\n",
    "df_trip_describe"
   ]
  },
  {
   "cell_type": "markdown",
   "metadata": {
    "id": "2DhYZY4nL3WE"
   },
   "source": [
    "###  Pearson Correlation between Independent Variables"
   ]
  },
  {
   "cell_type": "code",
   "execution_count": null,
   "metadata": {
    "id": "Uq_8hsWpL3WE",
    "outputId": "92a80f4d-3c6a-4af7-862c-1cd1850e1e74"
   },
   "outputs": [
    {
     "name": "stderr",
     "output_type": "stream",
     "text": [
      "C:\\Users\\Nakama\\Anaconda3\\lib\\site-packages\\ipykernel_launcher.py:4: DeprecationWarning:\n",
      "\n",
      "`np.bool` is a deprecated alias for the builtin `bool`. To silence this warning, use `bool` by itself. Doing this will not modify any behavior and is safe. If you specifically wanted the numpy scalar type, use `np.bool_` here.\n",
      "Deprecated in NumPy 1.20; for more details and guidance: https://numpy.org/devdocs/release/1.20.0-notes.html#deprecations\n",
      "\n"
     ]
    },
    {
     "data": {
      "text/plain": [
       "(8.0, 0.0)"
      ]
     },
     "execution_count": 347,
     "metadata": {},
     "output_type": "execute_result"
    },
    {
     "data": {
      "image/png": "[encoded data removed]",
      "text/plain": [
       "<Figure size 1152x432 with 2 Axes>"
      ]
     },
     "metadata": {
      "needs_background": "light"
     },
     "output_type": "display_data"
    }
   ],
   "source": [
    "## Correlation between Days Diff and Churn\n",
    "plt.figure(figsize=(16, 6))\n",
    "# define the mask to set the values in the upper triangle to True\n",
    "mask = np.triu(np.ones_like(df.drop([ 'profile_id', 'random_number', 'label'], axis = 1).corr(), dtype=np.bool))\n",
    "heatmap = sns.heatmap(df.drop([ 'profile_id', 'random_number', 'label'], axis = 1).corr(), mask=mask, vmin=-1, vmax=1, annot=True, cmap='BrBG')\n",
    "heatmap.set_title('Triangle Correlation Heatmap', fontdict={'fontsize':18}, pad=16)\n",
    "bottom, top = heatmap.get_ylim()\n",
    "heatmap.set_ylim(bottom + 0.5, top - 0.5)"
   ]
  },
  {
   "cell_type": "markdown",
   "metadata": {
    "id": "FaDuALfTL3WE"
   },
   "source": [
    "### Point-Biserial Correlation between Independent Variables and Churn Label"
   ]
  },
  {
   "cell_type": "code",
   "execution_count": null,
   "metadata": {
    "id": "A0qJKQj9L3WF"
   },
   "outputs": [],
   "source": [
    "metrics = ['avg_booking_invoice_amount_idr', 'avg_issued_invoice_amount_idr', 'count_booking', 'count_issued', 'day_diff','day_diff_booking_time', 'day_diff_issue_time', 'cvr']\n",
    "result = [['Metrics', 'Point Biserial Correlation', 'P-value',  'Conclusion']]\n",
    "for i in range(len(metrics)):\n",
    "    a = list(stats.pointbiserialr(df[metrics[i]], df['label']))\n",
    "    if a[1] < 0.05:\n",
    "        z0 = 'significant'\n",
    "    else:\n",
    "        z0 = 'not significant'\n",
    "    y = [metrics[i], a[0], a[1], z0]\n",
    "    result.append(y)\n",
    "\n",
    "fig = ff.create_table(result, index=True)"
   ]
  },
  {
   "cell_type": "code",
   "execution_count": null,
   "metadata": {
    "id": "Xtb7uDzXL3WF",
    "outputId": "4caecfe5-12a9-4458-ab9a-dca06e62d4d8"
   },
   "outputs": [
    {
     "data": {
      "application/vnd.plotly.v1+json": {
       "config": {
        "plotlyServerURL": "https://plot.ly"
       },
       "data": [
        {
         "colorscale": [
          [
           0,
           "#00083e"
          ],
          [
           0.5,
           "#ededee"
          ],
          [
           1,
           "#ffffff"
          ]
         ],
         "hoverinfo": "none",
         "opacity": 0.75,
         "showscale": false,
         "type": "heatmap",
         "z": [
          [
           0,
           0,
           0,
           0
          ],
          [
           0,
           0.5,
           0.5,
           0.5
          ],
          [
           0,
           1,
           1,
           1
          ],
          [
           0,
           0.5,
           0.5,
           0.5
          ],
          [
           0,
           1,
           1,
           1
          ],
          [
           0,
           0.5,
           0.5,
           0.5
          ],
          [
           0,
           1,
           1,
           1
          ],
          [
           0,
           0.5,
           0.5,
           0.5
          ],
          [
           0,
           1,
           1,
           1
          ]
         ]
        }
       ],
       "layout": {
        "annotations": [
         {
          "align": "left",
          "font": {
           "color": "#ffffff"
          },
          "showarrow": false,
          "text": "<b>Metrics</b>",
          "x": -0.45,
          "xanchor": "left",
          "xref": "x",
          "y": 0,
          "yref": "y"
         },
         {
          "align": "left",
          "font": {
           "color": "#ffffff"
          },
          "showarrow": false,
          "text": "<b>Point Biserial Correlation</b>",
          "x": 0.55,
          "xanchor": "left",
          "xref": "x",
          "y": 0,
          "yref": "y"
         },
         {
          "align": "left",
          "font": {
           "color": "#ffffff"
          },
          "showarrow": false,
          "text": "<b>P-value</b>",
          "x": 1.55,
          "xanchor": "left",
          "xref": "x",
          "y": 0,
          "yref": "y"
         },
         {
          "align": "left",
          "font": {
           "color": "#ffffff"
          },
          "showarrow": false,
          "text": "<b>Conclusion</b>",
          "x": 2.55,
          "xanchor": "left",
          "xref": "x",
          "y": 0,
          "yref": "y"
         },
         {
          "align": "left",
          "font": {
           "color": "#ffffff"
          },
          "showarrow": false,
          "text": "<b>avg_booking_invoice_amount_idr</b>",
          "x": -0.45,
          "xanchor": "left",
          "xref": "x",
          "y": 1,
          "yref": "y"
         },
         {
          "align": "left",
          "font": {
           "color": "#000000"
          },
          "showarrow": false,
          "text": "-0.0001068101118167852",
          "x": 0.55,
          "xanchor": "left",
          "xref": "x",
          "y": 1,
          "yref": "y"
         },
         {
          "align": "left",
          "font": {
           "color": "#000000"
          },
          "showarrow": false,
          "text": "0.961284250951796",
          "x": 1.55,
          "xanchor": "left",
          "xref": "x",
          "y": 1,
          "yref": "y"
         },
         {
          "align": "left",
          "font": {
           "color": "#000000"
          },
          "showarrow": false,
          "text": "not significant",
          "x": 2.55,
          "xanchor": "left",
          "xref": "x",
          "y": 1,
          "yref": "y"
         },
         {
          "align": "left",
          "font": {
           "color": "#ffffff"
          },
          "showarrow": false,
          "text": "<b>avg_issued_invoice_amount_idr</b>",
          "x": -0.45,
          "xanchor": "left",
          "xref": "x",
          "y": 2,
          "yref": "y"
         },
         {
          "align": "left",
          "font": {
           "color": "#000000"
          },
          "showarrow": false,
          "text": "0.0018568966191009903",
          "x": 0.55,
          "xanchor": "left",
          "xref": "x",
          "y": 2,
          "yref": "y"
         },
         {
          "align": "left",
          "font": {
           "color": "#000000"
          },
          "showarrow": false,
          "text": "0.39872216184903597",
          "x": 1.55,
          "xanchor": "left",
          "xref": "x",
          "y": 2,
          "yref": "y"
         },
         {
          "align": "left",
          "font": {
           "color": "#000000"
          },
          "showarrow": false,
          "text": "not significant",
          "x": 2.55,
          "xanchor": "left",
          "xref": "x",
          "y": 2,
          "yref": "y"
         },
         {
          "align": "left",
          "font": {
           "color": "#ffffff"
          },
          "showarrow": false,
          "text": "<b>count_booking</b>",
          "x": -0.45,
          "xanchor": "left",
          "xref": "x",
          "y": 3,
          "yref": "y"
         },
         {
          "align": "left",
          "font": {
           "color": "#000000"
          },
          "showarrow": false,
          "text": "-0.15494995195161937",
          "x": 0.55,
          "xanchor": "left",
          "xref": "x",
          "y": 3,
          "yref": "y"
         },
         {
          "align": "left",
          "font": {
           "color": "#000000"
          },
          "showarrow": false,
          "text": "0.0",
          "x": 1.55,
          "xanchor": "left",
          "xref": "x",
          "y": 3,
          "yref": "y"
         },
         {
          "align": "left",
          "font": {
           "color": "#000000"
          },
          "showarrow": false,
          "text": "significant",
          "x": 2.55,
          "xanchor": "left",
          "xref": "x",
          "y": 3,
          "yref": "y"
         },
         {
          "align": "left",
          "font": {
           "color": "#ffffff"
          },
          "showarrow": false,
          "text": "<b>count_issued</b>",
          "x": -0.45,
          "xanchor": "left",
          "xref": "x",
          "y": 4,
          "yref": "y"
         },
         {
          "align": "left",
          "font": {
           "color": "#000000"
          },
          "showarrow": false,
          "text": "-0.14261794248247048",
          "x": 0.55,
          "xanchor": "left",
          "xref": "x",
          "y": 4,
          "yref": "y"
         },
         {
          "align": "left",
          "font": {
           "color": "#000000"
          },
          "showarrow": false,
          "text": "0.0",
          "x": 1.55,
          "xanchor": "left",
          "xref": "x",
          "y": 4,
          "yref": "y"
         },
         {
          "align": "left",
          "font": {
           "color": "#000000"
          },
          "showarrow": false,
          "text": "significant",
          "x": 2.55,
          "xanchor": "left",
          "xref": "x",
          "y": 4,
          "yref": "y"
         },
         {
          "align": "left",
          "font": {
           "color": "#ffffff"
          },
          "showarrow": false,
          "text": "<b>day_diff</b>",
          "x": -0.45,
          "xanchor": "left",
          "xref": "x",
          "y": 5,
          "yref": "y"
         },
         {
          "align": "left",
          "font": {
           "color": "#000000"
          },
          "showarrow": false,
          "text": "0.8149590471064513",
          "x": 0.55,
          "xanchor": "left",
          "xref": "x",
          "y": 5,
          "yref": "y"
         },
         {
          "align": "left",
          "font": {
           "color": "#000000"
          },
          "showarrow": false,
          "text": "0.0",
          "x": 1.55,
          "xanchor": "left",
          "xref": "x",
          "y": 5,
          "yref": "y"
         },
         {
          "align": "left",
          "font": {
           "color": "#000000"
          },
          "showarrow": false,
          "text": "significant",
          "x": 2.55,
          "xanchor": "left",
          "xref": "x",
          "y": 5,
          "yref": "y"
         },
         {
          "align": "left",
          "font": {
           "color": "#ffffff"
          },
          "showarrow": false,
          "text": "<b>day_diff_booking_time</b>",
          "x": -0.45,
          "xanchor": "left",
          "xref": "x",
          "y": 6,
          "yref": "y"
         },
         {
          "align": "left",
          "font": {
           "color": "#000000"
          },
          "showarrow": false,
          "text": "-0.2475990959887132",
          "x": 0.55,
          "xanchor": "left",
          "xref": "x",
          "y": 6,
          "yref": "y"
         },
         {
          "align": "left",
          "font": {
           "color": "#000000"
          },
          "showarrow": false,
          "text": "0.0",
          "x": 1.55,
          "xanchor": "left",
          "xref": "x",
          "y": 6,
          "yref": "y"
         },
         {
          "align": "left",
          "font": {
           "color": "#000000"
          },
          "showarrow": false,
          "text": "significant",
          "x": 2.55,
          "xanchor": "left",
          "xref": "x",
          "y": 6,
          "yref": "y"
         },
         {
          "align": "left",
          "font": {
           "color": "#ffffff"
          },
          "showarrow": false,
          "text": "<b>day_diff_issue_time</b>",
          "x": -0.45,
          "xanchor": "left",
          "xref": "x",
          "y": 7,
          "yref": "y"
         },
         {
          "align": "left",
          "font": {
           "color": "#000000"
          },
          "showarrow": false,
          "text": "-0.3030953353139475",
          "x": 0.55,
          "xanchor": "left",
          "xref": "x",
          "y": 7,
          "yref": "y"
         },
         {
          "align": "left",
          "font": {
           "color": "#000000"
          },
          "showarrow": false,
          "text": "0.0",
          "x": 1.55,
          "xanchor": "left",
          "xref": "x",
          "y": 7,
          "yref": "y"
         },
         {
          "align": "left",
          "font": {
           "color": "#000000"
          },
          "showarrow": false,
          "text": "significant",
          "x": 2.55,
          "xanchor": "left",
          "xref": "x",
          "y": 7,
          "yref": "y"
         },
         {
          "align": "left",
          "font": {
           "color": "#ffffff"
          },
          "showarrow": false,
          "text": "<b>cvr</b>",
          "x": -0.45,
          "xanchor": "left",
          "xref": "x",
          "y": 8,
          "yref": "y"
         },
         {
          "align": "left",
          "font": {
           "color": "#000000"
          },
          "showarrow": false,
          "text": "0.012190548201347906",
          "x": 0.55,
          "xanchor": "left",
          "xref": "x",
          "y": 8,
          "yref": "y"
         },
         {
          "align": "left",
          "font": {
           "color": "#000000"
          },
          "showarrow": false,
          "text": "3.016932138836265e-08",
          "x": 1.55,
          "xanchor": "left",
          "xref": "x",
          "y": 8,
          "yref": "y"
         },
         {
          "align": "left",
          "font": {
           "color": "#000000"
          },
          "showarrow": false,
          "text": "significant",
          "x": 2.55,
          "xanchor": "left",
          "xref": "x",
          "y": 8,
          "yref": "y"
         }
        ],
        "height": 320,
        "margin": {
         "b": 0,
         "l": 0,
         "r": 0,
         "t": 0
        },
        "template": {
         "data": {
          "bar": [
           {
            "error_x": {
             "color": "#2a3f5f"
            },
            "error_y": {
             "color": "#2a3f5f"
            },
            "marker": {
             "line": {
              "color": "#E5ECF6",
              "width": 0.5
             }
            },
            "type": "bar"
           }
          ],
          "barpolar": [
           {
            "marker": {
             "line": {
              "color": "#E5ECF6",
              "width": 0.5
             }
            },
            "type": "barpolar"
           }
          ],
          "carpet": [
           {
            "aaxis": {
             "endlinecolor": "#2a3f5f",
             "gridcolor": "white",
             "linecolor": "white",
             "minorgridcolor": "white",
             "startlinecolor": "#2a3f5f"
            },
            "baxis": {
             "endlinecolor": "#2a3f5f",
             "gridcolor": "white",
             "linecolor": "white",
             "minorgridcolor": "white",
             "startlinecolor": "#2a3f5f"
            },
            "type": "carpet"
           }
          ],
          "choropleth": [
           {
            "colorbar": {
             "outlinewidth": 0,
             "ticks": ""
            },
            "type": "choropleth"
           }
          ],
          "contour": [
           {
            "colorbar": {
             "outlinewidth": 0,
             "ticks": ""
            },
            "colorscale": [
             [
              0,
              "#0d0887"
             ],
             [
              0.1111111111111111,
              "#46039f"
             ],
             [
              0.2222222222222222,
              "#7201a8"
             ],
             [
              0.3333333333333333,
              "#9c179e"
             ],
             [
              0.4444444444444444,
              "#bd3786"
             ],
             [
              0.5555555555555556,
              "#d8576b"
             ],
             [
              0.6666666666666666,
              "#ed7953"
             ],
             [
              0.7777777777777778,
              "#fb9f3a"
             ],
             [
              0.8888888888888888,
              "#fdca26"
             ],
             [
              1,
              "#f0f921"
             ]
            ],
            "type": "contour"
           }
          ],
          "contourcarpet": [
           {
            "colorbar": {
             "outlinewidth": 0,
             "ticks": ""
            },
            "type": "contourcarpet"
           }
          ],
          "heatmap": [
           {
            "colorbar": {
             "outlinewidth": 0,
             "ticks": ""
            },
            "colorscale": [
             [
              0,
              "#0d0887"
             ],
             [
              0.1111111111111111,
              "#46039f"
             ],
             [
              0.2222222222222222,
              "#7201a8"
             ],
             [
              0.3333333333333333,
              "#9c179e"
             ],
             [
              0.4444444444444444,
              "#bd3786"
             ],
             [
              0.5555555555555556,
              "#d8576b"
             ],
             [
              0.6666666666666666,
              "#ed7953"
             ],
             [
              0.7777777777777778,
              "#fb9f3a"
             ],
             [
              0.8888888888888888,
              "#fdca26"
             ],
             [
              1,
              "#f0f921"
             ]
            ],
            "type": "heatmap"
           }
          ],
          "heatmapgl": [
           {
            "colorbar": {
             "outlinewidth": 0,
             "ticks": ""
            },
            "colorscale": [
             [
              0,
              "#0d0887"
             ],
             [
              0.1111111111111111,
              "#46039f"
             ],
             [
              0.2222222222222222,
              "#7201a8"
             ],
             [
              0.3333333333333333,
              "#9c179e"
             ],
             [
              0.4444444444444444,
              "#bd3786"
             ],
             [
              0.5555555555555556,
              "#d8576b"
             ],
             [
              0.6666666666666666,
              "#ed7953"
             ],
             [
              0.7777777777777778,
              "#fb9f3a"
             ],
             [
              0.8888888888888888,
              "#fdca26"
             ],
             [
              1,
              "#f0f921"
             ]
            ],
            "type": "heatmapgl"
           }
          ],
          "histogram": [
           {
            "marker": {
             "colorbar": {
              "outlinewidth": 0,
              "ticks": ""
             }
            },
            "type": "histogram"
           }
          ],
          "histogram2d": [
           {
            "colorbar": {
             "outlinewidth": 0,
             "ticks": ""
            },
            "colorscale": [
             [
              0,
              "#0d0887"
             ],
             [
              0.1111111111111111,
              "#46039f"
             ],
             [
              0.2222222222222222,
              "#7201a8"
             ],
             [
              0.3333333333333333,
              "#9c179e"
             ],
             [
              0.4444444444444444,
              "#bd3786"
             ],
             [
              0.5555555555555556,
              "#d8576b"
             ],
             [
              0.6666666666666666,
              "#ed7953"
             ],
             [
              0.7777777777777778,
              "#fb9f3a"
             ],
             [
              0.8888888888888888,
              "#fdca26"
             ],
             [
              1,
              "#f0f921"
             ]
            ],
            "type": "histogram2d"
           }
          ],
          "histogram2dcontour": [
           {
            "colorbar": {
             "outlinewidth": 0,
             "ticks": ""
            },
            "colorscale": [
             [
              0,
              "#0d0887"
             ],
             [
              0.1111111111111111,
              "#46039f"
             ],
             [
              0.2222222222222222,
              "#7201a8"
             ],
             [
              0.3333333333333333,
              "#9c179e"
             ],
             [
              0.4444444444444444,
              "#bd3786"
             ],
             [
              0.5555555555555556,
              "#d8576b"
             ],
             [
              0.6666666666666666,
              "#ed7953"
             ],
             [
              0.7777777777777778,
              "#fb9f3a"
             ],
             [
              0.8888888888888888,
              "#fdca26"
             ],
             [
              1,
              "#f0f921"
             ]
            ],
            "type": "histogram2dcontour"
           }
          ],
          "mesh3d": [
           {
            "colorbar": {
             "outlinewidth": 0,
             "ticks": ""
            },
            "type": "mesh3d"
           }
          ],
          "parcoords": [
           {
            "line": {
             "colorbar": {
              "outlinewidth": 0,
              "ticks": ""
             }
            },
            "type": "parcoords"
           }
          ],
          "pie": [
           {
            "automargin": true,
            "type": "pie"
           }
          ],
          "scatter": [
           {
            "marker": {
             "colorbar": {
              "outlinewidth": 0,
              "ticks": ""
             }
            },
            "type": "scatter"
           }
          ],
          "scatter3d": [
           {
            "line": {
             "colorbar": {
              "outlinewidth": 0,
              "ticks": ""
             }
            },
            "marker": {
             "colorbar": {
              "outlinewidth": 0,
              "ticks": ""
             }
            },
            "type": "scatter3d"
           }
          ],
          "scattercarpet": [
           {
            "marker": {
             "colorbar": {
              "outlinewidth": 0,
              "ticks": ""
             }
            },
            "type": "scattercarpet"
           }
          ],
          "scattergeo": [
           {
            "marker": {
             "colorbar": {
              "outlinewidth": 0,
              "ticks": ""
             }
            },
            "type": "scattergeo"
           }
          ],
          "scattergl": [
           {
            "marker": {
             "colorbar": {
              "outlinewidth": 0,
              "ticks": ""
             }
            },
            "type": "scattergl"
           }
          ],
          "scattermapbox": [
           {
            "marker": {
             "colorbar": {
              "outlinewidth": 0,
              "ticks": ""
             }
            },
            "type": "scattermapbox"
           }
          ],
          "scatterpolar": [
           {
            "marker": {
             "colorbar": {
              "outlinewidth": 0,
              "ticks": ""
             }
            },
            "type": "scatterpolar"
           }
          ],
          "scatterpolargl": [
           {
            "marker": {
             "colorbar": {
              "outlinewidth": 0,
              "ticks": ""
             }
            },
            "type": "scatterpolargl"
           }
          ],
          "scatterternary": [
           {
            "marker": {
             "colorbar": {
              "outlinewidth": 0,
              "ticks": ""
             }
            },
            "type": "scatterternary"
           }
          ],
          "surface": [
           {
            "colorbar": {
             "outlinewidth": 0,
             "ticks": ""
            },
            "colorscale": [
             [
              0,
              "#0d0887"
             ],
             [
              0.1111111111111111,
              "#46039f"
             ],
             [
              0.2222222222222222,
              "#7201a8"
             ],
             [
              0.3333333333333333,
              "#9c179e"
             ],
             [
              0.4444444444444444,
              "#bd3786"
             ],
             [
              0.5555555555555556,
              "#d8576b"
             ],
             [
              0.6666666666666666,
              "#ed7953"
             ],
             [
              0.7777777777777778,
              "#fb9f3a"
             ],
             [
              0.8888888888888888,
              "#fdca26"
             ],
             [
              1,
              "#f0f921"
             ]
            ],
            "type": "surface"
           }
          ],
          "table": [
           {
            "cells": {
             "fill": {
              "color": "#EBF0F8"
             },
             "line": {
              "color": "white"
             }
            },
            "header": {
             "fill": {
              "color": "#C8D4E3"
             },
             "line": {
              "color": "white"
             }
            },
            "type": "table"
           }
          ]
         },
         "layout": {
          "annotationdefaults": {
           "arrowcolor": "#2a3f5f",
           "arrowhead": 0,
           "arrowwidth": 1
          },
          "autotypenumbers": "strict",
          "coloraxis": {
           "colorbar": {
            "outlinewidth": 0,
            "ticks": ""
           }
          },
          "colorscale": {
           "diverging": [
            [
             0,
             "#8e0152"
            ],
            [
             0.1,
             "#c51b7d"
            ],
            [
             0.2,
             "#de77ae"
            ],
            [
             0.3,
             "#f1b6da"
            ],
            [
             0.4,
             "#fde0ef"
            ],
            [
             0.5,
             "#f7f7f7"
            ],
            [
             0.6,
             "#e6f5d0"
            ],
            [
             0.7,
             "#b8e186"
            ],
            [
             0.8,
             "#7fbc41"
            ],
            [
             0.9,
             "#4d9221"
            ],
            [
             1,
             "#276419"
            ]
           ],
           "sequential": [
            [
             0,
             "#0d0887"
            ],
            [
             0.1111111111111111,
             "#46039f"
            ],
            [
             0.2222222222222222,
             "#7201a8"
            ],
            [
             0.3333333333333333,
             "#9c179e"
            ],
            [
             0.4444444444444444,
             "#bd3786"
            ],
            [
             0.5555555555555556,
             "#d8576b"
            ],
            [
             0.6666666666666666,
             "#ed7953"
            ],
            [
             0.7777777777777778,
             "#fb9f3a"
            ],
            [
             0.8888888888888888,
             "#fdca26"
            ],
            [
             1,
             "#f0f921"
            ]
           ],
           "sequentialminus": [
            [
             0,
             "#0d0887"
            ],
            [
             0.1111111111111111,
             "#46039f"
            ],
            [
             0.2222222222222222,
             "#7201a8"
            ],
            [
             0.3333333333333333,
             "#9c179e"
            ],
            [
             0.4444444444444444,
             "#bd3786"
            ],
            [
             0.5555555555555556,
             "#d8576b"
            ],
            [
             0.6666666666666666,
             "#ed7953"
            ],
            [
             0.7777777777777778,
             "#fb9f3a"
            ],
            [
             0.8888888888888888,
             "#fdca26"
            ],
            [
             1,
             "#f0f921"
            ]
           ]
          },
          "colorway": [
           "#636efa",
           "#EF553B",
           "#00cc96",
           "#ab63fa",
           "#FFA15A",
           "#19d3f3",
           "#FF6692",
           "#B6E880",
           "#FF97FF",
           "#FECB52"
          ],
          "font": {
           "color": "#2a3f5f"
          },
          "geo": {
           "bgcolor": "white",
           "lakecolor": "white",
           "landcolor": "#E5ECF6",
           "showlakes": true,
           "showland": true,
           "subunitcolor": "white"
          },
          "hoverlabel": {
           "align": "left"
          },
          "hovermode": "closest",
          "mapbox": {
           "style": "light"
          },
          "paper_bgcolor": "white",
          "plot_bgcolor": "#E5ECF6",
          "polar": {
           "angularaxis": {
            "gridcolor": "white",
            "linecolor": "white",
            "ticks": ""
           },
           "bgcolor": "#E5ECF6",
           "radialaxis": {
            "gridcolor": "white",
            "linecolor": "white",
            "ticks": ""
           }
          },
          "scene": {
           "xaxis": {
            "backgroundcolor": "#E5ECF6",
            "gridcolor": "white",
            "gridwidth": 2,
            "linecolor": "white",
            "showbackground": true,
            "ticks": "",
            "zerolinecolor": "white"
           },
           "yaxis": {
            "backgroundcolor": "#E5ECF6",
            "gridcolor": "white",
            "gridwidth": 2,
            "linecolor": "white",
            "showbackground": true,
            "ticks": "",
            "zerolinecolor": "white"
           },
           "zaxis": {
            "backgroundcolor": "#E5ECF6",
            "gridcolor": "white",
            "gridwidth": 2,
            "linecolor": "white",
            "showbackground": true,
            "ticks": "",
            "zerolinecolor": "white"
           }
          },
          "shapedefaults": {
           "line": {
            "color": "#2a3f5f"
           }
          },
          "ternary": {
           "aaxis": {
            "gridcolor": "white",
            "linecolor": "white",
            "ticks": ""
           },
           "baxis": {
            "gridcolor": "white",
            "linecolor": "white",
            "ticks": ""
           },
           "bgcolor": "#E5ECF6",
           "caxis": {
            "gridcolor": "white",
            "linecolor": "white",
            "ticks": ""
           }
          },
          "title": {
           "x": 0.05
          },
          "xaxis": {
           "automargin": true,
           "gridcolor": "white",
           "linecolor": "white",
           "ticks": "",
           "title": {
            "standoff": 15
           },
           "zerolinecolor": "white",
           "zerolinewidth": 2
          },
          "yaxis": {
           "automargin": true,
           "gridcolor": "white",
           "linecolor": "white",
           "ticks": "",
           "title": {
            "standoff": 15
           },
           "zerolinecolor": "white",
           "zerolinewidth": 2
          }
         }
        },
        "xaxis": {
         "dtick": 1,
         "gridwidth": 2,
         "showticklabels": false,
         "tick0": -0.5,
         "ticks": "",
         "zeroline": false
        },
        "yaxis": {
         "autorange": "reversed",
         "dtick": 1,
         "gridwidth": 2,
         "showticklabels": false,
         "tick0": 0.5,
         "ticks": "",
         "zeroline": false
        }
       }
      },
      "text/html": [
       "<div>                            <div id=\"2e2e0528-c2bd-479f-ad88-a56710a0e7dd\" class=\"plotly-graph-div\" style=\"height:320px; width:100%;\"></div>            <script type=\"text/javascript\">                require([\"plotly\"], function(Plotly) {                    window.PLOTLYENV=window.PLOTLYENV || {};                                    if (document.getElementById(\"2e2e0528-c2bd-479f-ad88-a56710a0e7dd\")) {                    Plotly.newPlot(                        \"2e2e0528-c2bd-479f-ad88-a56710a0e7dd\",                        [{\"colorscale\": [[0, \"#00083e\"], [0.5, \"#ededee\"], [1, \"#ffffff\"]], \"hoverinfo\": \"none\", \"opacity\": 0.75, \"showscale\": false, \"type\": \"heatmap\", \"z\": [[0, 0, 0, 0], [0, 0.5, 0.5, 0.5], [0, 1, 1, 1], [0, 0.5, 0.5, 0.5], [0, 1, 1, 1], [0, 0.5, 0.5, 0.5], [0, 1, 1, 1], [0, 0.5, 0.5, 0.5], [0, 1, 1, 1]]}],                        {\"annotations\": [{\"align\": \"left\", \"font\": {\"color\": \"#ffffff\"}, \"showarrow\": false, \"text\": \"<b>Metrics</b>\", \"x\": -0.45, \"xanchor\": \"left\", \"xref\": \"x\", \"y\": 0, \"yref\": \"y\"}, {\"align\": \"left\", \"font\": {\"color\": \"#ffffff\"}, \"showarrow\": false, \"text\": \"<b>Point Biserial Correlation</b>\", \"x\": 0.55, \"xanchor\": \"left\", \"xref\": \"x\", \"y\": 0, \"yref\": \"y\"}, {\"align\": \"left\", \"font\": {\"color\": \"#ffffff\"}, \"showarrow\": false, \"text\": \"<b>P-value</b>\", \"x\": 1.55, \"xanchor\": \"left\", \"xref\": \"x\", \"y\": 0, \"yref\": \"y\"}, {\"align\": \"left\", \"font\": {\"color\": \"#ffffff\"}, \"showarrow\": false, \"text\": \"<b>Conclusion</b>\", \"x\": 2.55, \"xanchor\": \"left\", \"xref\": \"x\", \"y\": 0, \"yref\": \"y\"}, {\"align\": \"left\", \"font\": {\"color\": \"#ffffff\"}, \"showarrow\": false, \"text\": \"<b>avg_booking_invoice_amount_idr</b>\", \"x\": -0.45, \"xanchor\": \"left\", \"xref\": \"x\", \"y\": 1, \"yref\": \"y\"}, {\"align\": \"left\", \"font\": {\"color\": \"#000000\"}, \"showarrow\": false, \"text\": \"-0.0001068101118167852\", \"x\": 0.55, \"xanchor\": \"left\", \"xref\": \"x\", \"y\": 1, \"yref\": \"y\"}, {\"align\": \"left\", \"font\": {\"color\": \"#000000\"}, \"showarrow\": false, \"text\": \"0.961284250951796\", \"x\": 1.55, \"xanchor\": \"left\", \"xref\": \"x\", \"y\": 1, \"yref\": \"y\"}, {\"align\": \"left\", \"font\": {\"color\": \"#000000\"}, \"showarrow\": false, \"text\": \"not significant\", \"x\": 2.55, \"xanchor\": \"left\", \"xref\": \"x\", \"y\": 1, \"yref\": \"y\"}, {\"align\": \"left\", \"font\": {\"color\": \"#ffffff\"}, \"showarrow\": false, \"text\": \"<b>avg_issued_invoice_amount_idr</b>\", \"x\": -0.45, \"xanchor\": \"left\", \"xref\": \"x\", \"y\": 2, \"yref\": \"y\"}, {\"align\": \"left\", \"font\": {\"color\": \"#000000\"}, \"showarrow\": false, \"text\": \"0.0018568966191009903\", \"x\": 0.55, \"xanchor\": \"left\", \"xref\": \"x\", \"y\": 2, \"yref\": \"y\"}, {\"align\": \"left\", \"font\": {\"color\": \"#000000\"}, \"showarrow\": false, \"text\": \"0.39872216184903597\", \"x\": 1.55, \"xanchor\": \"left\", \"xref\": \"x\", \"y\": 2, \"yref\": \"y\"}, {\"align\": \"left\", \"font\": {\"color\": \"#000000\"}, \"showarrow\": false, \"text\": \"not significant\", \"x\": 2.55, \"xanchor\": \"left\", \"xref\": \"x\", \"y\": 2, \"yref\": \"y\"}, {\"align\": \"left\", \"font\": {\"color\": \"#ffffff\"}, \"showarrow\": false, \"text\": \"<b>count_booking</b>\", \"x\": -0.45, \"xanchor\": \"left\", \"xref\": \"x\", \"y\": 3, \"yref\": \"y\"}, {\"align\": \"left\", \"font\": {\"color\": \"#000000\"}, \"showarrow\": false, \"text\": \"-0.15494995195161937\", \"x\": 0.55, \"xanchor\": \"left\", \"xref\": \"x\", \"y\": 3, \"yref\": \"y\"}, {\"align\": \"left\", \"font\": {\"color\": \"#000000\"}, \"showarrow\": false, \"text\": \"0.0\", \"x\": 1.55, \"xanchor\": \"left\", \"xref\": \"x\", \"y\": 3, \"yref\": \"y\"}, {\"align\": \"left\", \"font\": {\"color\": \"#000000\"}, \"showarrow\": false, \"text\": \"significant\", \"x\": 2.55, \"xanchor\": \"left\", \"xref\": \"x\", \"y\": 3, \"yref\": \"y\"}, {\"align\": \"left\", \"font\": {\"color\": \"#ffffff\"}, \"showarrow\": false, \"text\": \"<b>count_issued</b>\", \"x\": -0.45, \"xanchor\": \"left\", \"xref\": \"x\", \"y\": 4, \"yref\": \"y\"}, {\"align\": \"left\", \"font\": {\"color\": \"#000000\"}, \"showarrow\": false, \"text\": \"-0.14261794248247048\", \"x\": 0.55, \"xanchor\": \"left\", \"xref\": \"x\", \"y\": 4, \"yref\": \"y\"}, {\"align\": \"left\", \"font\": {\"color\": \"#000000\"}, \"showarrow\": false, \"text\": \"0.0\", \"x\": 1.55, \"xanchor\": \"left\", \"xref\": \"x\", \"y\": 4, \"yref\": \"y\"}, {\"align\": \"left\", \"font\": {\"color\": \"#000000\"}, \"showarrow\": false, \"text\": \"significant\", \"x\": 2.55, \"xanchor\": \"left\", \"xref\": \"x\", \"y\": 4, \"yref\": \"y\"}, {\"align\": \"left\", \"font\": {\"color\": \"#ffffff\"}, \"showarrow\": false, \"text\": \"<b>day_diff</b>\", \"x\": -0.45, \"xanchor\": \"left\", \"xref\": \"x\", \"y\": 5, \"yref\": \"y\"}, {\"align\": \"left\", \"font\": {\"color\": \"#000000\"}, \"showarrow\": false, \"text\": \"0.8149590471064513\", \"x\": 0.55, \"xanchor\": \"left\", \"xref\": \"x\", \"y\": 5, \"yref\": \"y\"}, {\"align\": \"left\", \"font\": {\"color\": \"#000000\"}, \"showarrow\": false, \"text\": \"0.0\", \"x\": 1.55, \"xanchor\": \"left\", \"xref\": \"x\", \"y\": 5, \"yref\": \"y\"}, {\"align\": \"left\", \"font\": {\"color\": \"#000000\"}, \"showarrow\": false, \"text\": \"significant\", \"x\": 2.55, \"xanchor\": \"left\", \"xref\": \"x\", \"y\": 5, \"yref\": \"y\"}, {\"align\": \"left\", \"font\": {\"color\": \"#ffffff\"}, \"showarrow\": false, \"text\": \"<b>day_diff_booking_time</b>\", \"x\": -0.45, \"xanchor\": \"left\", \"xref\": \"x\", \"y\": 6, \"yref\": \"y\"}, {\"align\": \"left\", \"font\": {\"color\": \"#000000\"}, \"showarrow\": false, \"text\": \"-0.2475990959887132\", \"x\": 0.55, \"xanchor\": \"left\", \"xref\": \"x\", \"y\": 6, \"yref\": \"y\"}, {\"align\": \"left\", \"font\": {\"color\": \"#000000\"}, \"showarrow\": false, \"text\": \"0.0\", \"x\": 1.55, \"xanchor\": \"left\", \"xref\": \"x\", \"y\": 6, \"yref\": \"y\"}, {\"align\": \"left\", \"font\": {\"color\": \"#000000\"}, \"showarrow\": false, \"text\": \"significant\", \"x\": 2.55, \"xanchor\": \"left\", \"xref\": \"x\", \"y\": 6, \"yref\": \"y\"}, {\"align\": \"left\", \"font\": {\"color\": \"#ffffff\"}, \"showarrow\": false, \"text\": \"<b>day_diff_issue_time</b>\", \"x\": -0.45, \"xanchor\": \"left\", \"xref\": \"x\", \"y\": 7, \"yref\": \"y\"}, {\"align\": \"left\", \"font\": {\"color\": \"#000000\"}, \"showarrow\": false, \"text\": \"-0.3030953353139475\", \"x\": 0.55, \"xanchor\": \"left\", \"xref\": \"x\", \"y\": 7, \"yref\": \"y\"}, {\"align\": \"left\", \"font\": {\"color\": \"#000000\"}, \"showarrow\": false, \"text\": \"0.0\", \"x\": 1.55, \"xanchor\": \"left\", \"xref\": \"x\", \"y\": 7, \"yref\": \"y\"}, {\"align\": \"left\", \"font\": {\"color\": \"#000000\"}, \"showarrow\": false, \"text\": \"significant\", \"x\": 2.55, \"xanchor\": \"left\", \"xref\": \"x\", \"y\": 7, \"yref\": \"y\"}, {\"align\": \"left\", \"font\": {\"color\": \"#ffffff\"}, \"showarrow\": false, \"text\": \"<b>cvr</b>\", \"x\": -0.45, \"xanchor\": \"left\", \"xref\": \"x\", \"y\": 8, \"yref\": \"y\"}, {\"align\": \"left\", \"font\": {\"color\": \"#000000\"}, \"showarrow\": false, \"text\": \"0.012190548201347906\", \"x\": 0.55, \"xanchor\": \"left\", \"xref\": \"x\", \"y\": 8, \"yref\": \"y\"}, {\"align\": \"left\", \"font\": {\"color\": \"#000000\"}, \"showarrow\": false, \"text\": \"3.016932138836265e-08\", \"x\": 1.55, \"xanchor\": \"left\", \"xref\": \"x\", \"y\": 8, \"yref\": \"y\"}, {\"align\": \"left\", \"font\": {\"color\": \"#000000\"}, \"showarrow\": false, \"text\": \"significant\", \"x\": 2.55, \"xanchor\": \"left\", \"xref\": \"x\", \"y\": 8, \"yref\": \"y\"}], \"height\": 320, \"margin\": {\"b\": 0, \"l\": 0, \"r\": 0, \"t\": 0}, \"template\": {\"data\": {\"bar\": [{\"error_x\": {\"color\": \"#2a3f5f\"}, \"error_y\": {\"color\": \"#2a3f5f\"}, \"marker\": {\"line\": {\"color\": \"#E5ECF6\", \"width\": 0.5}}, \"type\": \"bar\"}], \"barpolar\": [{\"marker\": {\"line\": {\"color\": \"#E5ECF6\", \"width\": 0.5}}, \"type\": \"barpolar\"}], \"carpet\": [{\"aaxis\": {\"endlinecolor\": \"#2a3f5f\", \"gridcolor\": \"white\", \"linecolor\": \"white\", \"minorgridcolor\": \"white\", \"startlinecolor\": \"#2a3f5f\"}, \"baxis\": {\"endlinecolor\": \"#2a3f5f\", \"gridcolor\": \"white\", \"linecolor\": \"white\", \"minorgridcolor\": \"white\", \"startlinecolor\": \"#2a3f5f\"}, \"type\": \"carpet\"}], \"choropleth\": [{\"colorbar\": {\"outlinewidth\": 0, \"ticks\": \"\"}, \"type\": \"choropleth\"}], \"contour\": [{\"colorbar\": {\"outlinewidth\": 0, \"ticks\": \"\"}, \"colorscale\": [[0.0, \"#0d0887\"], [0.1111111111111111, \"#46039f\"], [0.2222222222222222, \"#7201a8\"], [0.3333333333333333, \"#9c179e\"], [0.4444444444444444, \"#bd3786\"], [0.5555555555555556, \"#d8576b\"], [0.6666666666666666, \"#ed7953\"], [0.7777777777777778, \"#fb9f3a\"], [0.8888888888888888, \"#fdca26\"], [1.0, \"#f0f921\"]], \"type\": \"contour\"}], \"contourcarpet\": [{\"colorbar\": {\"outlinewidth\": 0, \"ticks\": \"\"}, \"type\": \"contourcarpet\"}], \"heatmap\": [{\"colorbar\": {\"outlinewidth\": 0, \"ticks\": \"\"}, \"colorscale\": [[0.0, \"#0d0887\"], [0.1111111111111111, \"#46039f\"], [0.2222222222222222, \"#7201a8\"], [0.3333333333333333, \"#9c179e\"], [0.4444444444444444, \"#bd3786\"], [0.5555555555555556, \"#d8576b\"], [0.6666666666666666, \"#ed7953\"], [0.7777777777777778, \"#fb9f3a\"], [0.8888888888888888, \"#fdca26\"], [1.0, \"#f0f921\"]], \"type\": \"heatmap\"}], \"heatmapgl\": [{\"colorbar\": {\"outlinewidth\": 0, \"ticks\": \"\"}, \"colorscale\": [[0.0, \"#0d0887\"], [0.1111111111111111, \"#46039f\"], [0.2222222222222222, \"#7201a8\"], [0.3333333333333333, \"#9c179e\"], [0.4444444444444444, \"#bd3786\"], [0.5555555555555556, \"#d8576b\"], [0.6666666666666666, \"#ed7953\"], [0.7777777777777778, \"#fb9f3a\"], [0.8888888888888888, \"#fdca26\"], [1.0, \"#f0f921\"]], \"type\": \"heatmapgl\"}], \"histogram\": [{\"marker\": {\"colorbar\": {\"outlinewidth\": 0, \"ticks\": \"\"}}, \"type\": \"histogram\"}], \"histogram2d\": [{\"colorbar\": {\"outlinewidth\": 0, \"ticks\": \"\"}, \"colorscale\": [[0.0, \"#0d0887\"], [0.1111111111111111, \"#46039f\"], [0.2222222222222222, \"#7201a8\"], [0.3333333333333333, \"#9c179e\"], [0.4444444444444444, \"#bd3786\"], [0.5555555555555556, \"#d8576b\"], [0.6666666666666666, \"#ed7953\"], [0.7777777777777778, \"#fb9f3a\"], [0.8888888888888888, \"#fdca26\"], [1.0, \"#f0f921\"]], \"type\": \"histogram2d\"}], \"histogram2dcontour\": [{\"colorbar\": {\"outlinewidth\": 0, \"ticks\": \"\"}, \"colorscale\": [[0.0, \"#0d0887\"], [0.1111111111111111, \"#46039f\"], [0.2222222222222222, \"#7201a8\"], [0.3333333333333333, \"#9c179e\"], [0.4444444444444444, \"#bd3786\"], [0.5555555555555556, \"#d8576b\"], [0.6666666666666666, \"#ed7953\"], [0.7777777777777778, \"#fb9f3a\"], [0.8888888888888888, \"#fdca26\"], [1.0, \"#f0f921\"]], \"type\": \"histogram2dcontour\"}], \"mesh3d\": [{\"colorbar\": {\"outlinewidth\": 0, \"ticks\": \"\"}, \"type\": \"mesh3d\"}], \"parcoords\": [{\"line\": {\"colorbar\": {\"outlinewidth\": 0, \"ticks\": \"\"}}, \"type\": \"parcoords\"}], \"pie\": [{\"automargin\": true, \"type\": \"pie\"}], \"scatter\": [{\"marker\": {\"colorbar\": {\"outlinewidth\": 0, \"ticks\": \"\"}}, \"type\": \"scatter\"}], \"scatter3d\": [{\"line\": {\"colorbar\": {\"outlinewidth\": 0, \"ticks\": \"\"}}, \"marker\": {\"colorbar\": {\"outlinewidth\": 0, \"ticks\": \"\"}}, \"type\": \"scatter3d\"}], \"scattercarpet\": [{\"marker\": {\"colorbar\": {\"outlinewidth\": 0, \"ticks\": \"\"}}, \"type\": \"scattercarpet\"}], \"scattergeo\": [{\"marker\": {\"colorbar\": {\"outlinewidth\": 0, \"ticks\": \"\"}}, \"type\": \"scattergeo\"}], \"scattergl\": [{\"marker\": {\"colorbar\": {\"outlinewidth\": 0, \"ticks\": \"\"}}, \"type\": \"scattergl\"}], \"scattermapbox\": [{\"marker\": {\"colorbar\": {\"outlinewidth\": 0, \"ticks\": \"\"}}, \"type\": \"scattermapbox\"}], \"scatterpolar\": [{\"marker\": {\"colorbar\": {\"outlinewidth\": 0, \"ticks\": \"\"}}, \"type\": \"scatterpolar\"}], \"scatterpolargl\": [{\"marker\": {\"colorbar\": {\"outlinewidth\": 0, \"ticks\": \"\"}}, \"type\": \"scatterpolargl\"}], \"scatterternary\": [{\"marker\": {\"colorbar\": {\"outlinewidth\": 0, \"ticks\": \"\"}}, \"type\": \"scatterternary\"}], \"surface\": [{\"colorbar\": {\"outlinewidth\": 0, \"ticks\": \"\"}, \"colorscale\": [[0.0, \"#0d0887\"], [0.1111111111111111, \"#46039f\"], [0.2222222222222222, \"#7201a8\"], [0.3333333333333333, \"#9c179e\"], [0.4444444444444444, \"#bd3786\"], [0.5555555555555556, \"#d8576b\"], [0.6666666666666666, \"#ed7953\"], [0.7777777777777778, \"#fb9f3a\"], [0.8888888888888888, \"#fdca26\"], [1.0, \"#f0f921\"]], \"type\": \"surface\"}], \"table\": [{\"cells\": {\"fill\": {\"color\": \"#EBF0F8\"}, \"line\": {\"color\": \"white\"}}, \"header\": {\"fill\": {\"color\": \"#C8D4E3\"}, \"line\": {\"color\": \"white\"}}, \"type\": \"table\"}]}, \"layout\": {\"annotationdefaults\": {\"arrowcolor\": \"#2a3f5f\", \"arrowhead\": 0, \"arrowwidth\": 1}, \"autotypenumbers\": \"strict\", \"coloraxis\": {\"colorbar\": {\"outlinewidth\": 0, \"ticks\": \"\"}}, \"colorscale\": {\"diverging\": [[0, \"#8e0152\"], [0.1, \"#c51b7d\"], [0.2, \"#de77ae\"], [0.3, \"#f1b6da\"], [0.4, \"#fde0ef\"], [0.5, \"#f7f7f7\"], [0.6, \"#e6f5d0\"], [0.7, \"#b8e186\"], [0.8, \"#7fbc41\"], [0.9, \"#4d9221\"], [1, \"#276419\"]], \"sequential\": [[0.0, \"#0d0887\"], [0.1111111111111111, \"#46039f\"], [0.2222222222222222, \"#7201a8\"], [0.3333333333333333, \"#9c179e\"], [0.4444444444444444, \"#bd3786\"], [0.5555555555555556, \"#d8576b\"], [0.6666666666666666, \"#ed7953\"], [0.7777777777777778, \"#fb9f3a\"], [0.8888888888888888, \"#fdca26\"], [1.0, \"#f0f921\"]], \"sequentialminus\": [[0.0, \"#0d0887\"], [0.1111111111111111, \"#46039f\"], [0.2222222222222222, \"#7201a8\"], [0.3333333333333333, \"#9c179e\"], [0.4444444444444444, \"#bd3786\"], [0.5555555555555556, \"#d8576b\"], [0.6666666666666666, \"#ed7953\"], [0.7777777777777778, \"#fb9f3a\"], [0.8888888888888888, \"#fdca26\"], [1.0, \"#f0f921\"]]}, \"colorway\": [\"#636efa\", \"#EF553B\", \"#00cc96\", \"#ab63fa\", \"#FFA15A\", \"#19d3f3\", \"#FF6692\", \"#B6E880\", \"#FF97FF\", \"#FECB52\"], \"font\": {\"color\": \"#2a3f5f\"}, \"geo\": {\"bgcolor\": \"white\", \"lakecolor\": \"white\", \"landcolor\": \"#E5ECF6\", \"showlakes\": true, \"showland\": true, \"subunitcolor\": \"white\"}, \"hoverlabel\": {\"align\": \"left\"}, \"hovermode\": \"closest\", \"mapbox\": {\"style\": \"light\"}, \"paper_bgcolor\": \"white\", \"plot_bgcolor\": \"#E5ECF6\", \"polar\": {\"angularaxis\": {\"gridcolor\": \"white\", \"linecolor\": \"white\", \"ticks\": \"\"}, \"bgcolor\": \"#E5ECF6\", \"radialaxis\": {\"gridcolor\": \"white\", \"linecolor\": \"white\", \"ticks\": \"\"}}, \"scene\": {\"xaxis\": {\"backgroundcolor\": \"#E5ECF6\", \"gridcolor\": \"white\", \"gridwidth\": 2, \"linecolor\": \"white\", \"showbackground\": true, \"ticks\": \"\", \"zerolinecolor\": \"white\"}, \"yaxis\": {\"backgroundcolor\": \"#E5ECF6\", \"gridcolor\": \"white\", \"gridwidth\": 2, \"linecolor\": \"white\", \"showbackground\": true, \"ticks\": \"\", \"zerolinecolor\": \"white\"}, \"zaxis\": {\"backgroundcolor\": \"#E5ECF6\", \"gridcolor\": \"white\", \"gridwidth\": 2, \"linecolor\": \"white\", \"showbackground\": true, \"ticks\": \"\", \"zerolinecolor\": \"white\"}}, \"shapedefaults\": {\"line\": {\"color\": \"#2a3f5f\"}}, \"ternary\": {\"aaxis\": {\"gridcolor\": \"white\", \"linecolor\": \"white\", \"ticks\": \"\"}, \"baxis\": {\"gridcolor\": \"white\", \"linecolor\": \"white\", \"ticks\": \"\"}, \"bgcolor\": \"#E5ECF6\", \"caxis\": {\"gridcolor\": \"white\", \"linecolor\": \"white\", \"ticks\": \"\"}}, \"title\": {\"x\": 0.05}, \"xaxis\": {\"automargin\": true, \"gridcolor\": \"white\", \"linecolor\": \"white\", \"ticks\": \"\", \"title\": {\"standoff\": 15}, \"zerolinecolor\": \"white\", \"zerolinewidth\": 2}, \"yaxis\": {\"automargin\": true, \"gridcolor\": \"white\", \"linecolor\": \"white\", \"ticks\": \"\", \"title\": {\"standoff\": 15}, \"zerolinecolor\": \"white\", \"zerolinewidth\": 2}}}, \"xaxis\": {\"dtick\": 1, \"gridwidth\": 2, \"showticklabels\": false, \"tick0\": -0.5, \"ticks\": \"\", \"zeroline\": false}, \"yaxis\": {\"autorange\": \"reversed\", \"dtick\": 1, \"gridwidth\": 2, \"showticklabels\": false, \"tick0\": 0.5, \"ticks\": \"\", \"zeroline\": false}},                        {\"responsive\": true}                    ).then(function(){\n",
       "                            \n",
       "var gd = document.getElementById('2e2e0528-c2bd-479f-ad88-a56710a0e7dd');\n",
       "var x = new MutationObserver(function (mutations, observer) {{\n",
       "        var display = window.getComputedStyle(gd).display;\n",
       "        if (!display || display === 'none') {{\n",
       "            console.log([gd, 'removed!']);\n",
       "            Plotly.purge(gd);\n",
       "            observer.disconnect();\n",
       "        }}\n",
       "}});\n",
       "\n",
       "// Listen for the removal of the full notebook cells\n",
       "var notebookContainer = gd.closest('#notebook-container');\n",
       "if (notebookContainer) {{\n",
       "    x.observe(notebookContainer, {childList: true});\n",
       "}}\n",
       "\n",
       "// Listen for the clearing of the current output cell\n",
       "var outputEl = gd.closest('.output');\n",
       "if (outputEl) {{\n",
       "    x.observe(outputEl, {childList: true});\n",
       "}}\n",
       "\n",
       "                        })                };                });            </script>        </div>"
      ]
     },
     "metadata": {},
     "output_type": "display_data"
    }
   ],
   "source": [
    "fig"
   ]
  },
  {
   "cell_type": "markdown",
   "metadata": {
    "id": "cLRGTdVYL3WH"
   },
   "source": [
    "# Modelling - Logistic Regression"
   ]
  },
  {
   "cell_type": "code",
   "execution_count": null,
   "metadata": {
    "id": "o0KE7CNJL3WH",
    "outputId": "e80ae69e-7975-4bd4-e5fd-a18454cccc84"
   },
   "outputs": [
    {
     "data": {
      "text/html": [
       "<div>\n",
       "<style scoped>\n",
       "    .dataframe tbody tr th:only-of-type {\n",
       "        vertical-align: middle;\n",
       "    }\n",
       "\n",
       "    .dataframe tbody tr th {\n",
       "        vertical-align: top;\n",
       "    }\n",
       "\n",
       "    .dataframe thead th {\n",
       "        text-align: right;\n",
       "    }\n",
       "</style>\n",
       "<table border=\"1\" class=\"dataframe\">\n",
       "  <thead>\n",
       "    <tr style=\"text-align: right;\">\n",
       "      <th></th>\n",
       "      <th>profile_id</th>\n",
       "      <th>primary_sales_product_type</th>\n",
       "      <th>first_booking_time</th>\n",
       "      <th>first_issued_time</th>\n",
       "      <th>last_booking_time</th>\n",
       "      <th>last_issued_time</th>\n",
       "      <th>avg_booking_invoice_amount_idr</th>\n",
       "      <th>avg_issued_invoice_amount_idr</th>\n",
       "      <th>count_booking</th>\n",
       "      <th>count_issued</th>\n",
       "      <th>...</th>\n",
       "      <th>last_updated_date</th>\n",
       "      <th>last_issued_date</th>\n",
       "      <th>last_booking_date</th>\n",
       "      <th>first_issued_date</th>\n",
       "      <th>first_booking_date</th>\n",
       "      <th>day_diff</th>\n",
       "      <th>day_diff_booking_time</th>\n",
       "      <th>day_diff_issue_time</th>\n",
       "      <th>cvr</th>\n",
       "      <th>label</th>\n",
       "    </tr>\n",
       "  </thead>\n",
       "  <tbody>\n",
       "    <tr>\n",
       "      <th>0</th>\n",
       "      <td>3632279</td>\n",
       "      <td>HOTEL</td>\n",
       "      <td>2015-07-12 12:47:35.370</td>\n",
       "      <td>2016-06-19 02:44:34.396</td>\n",
       "      <td>2018-10-05 05:38:35.528</td>\n",
       "      <td>2018-10-05 05:48:02.608</td>\n",
       "      <td>2000822.71875</td>\n",
       "      <td>1193236.77778</td>\n",
       "      <td>32</td>\n",
       "      <td>18</td>\n",
       "      <td>...</td>\n",
       "      <td>2019-02-01</td>\n",
       "      <td>2018-10-05</td>\n",
       "      <td>2018-10-05</td>\n",
       "      <td>2016-06-19</td>\n",
       "      <td>2015-07-12</td>\n",
       "      <td>119.00000</td>\n",
       "      <td>1181.00000</td>\n",
       "      <td>838.00000</td>\n",
       "      <td>0.56250</td>\n",
       "      <td>0</td>\n",
       "    </tr>\n",
       "    <tr>\n",
       "      <th>1</th>\n",
       "      <td>3632279</td>\n",
       "      <td>FLIGHT</td>\n",
       "      <td>2014-07-18 12:30:47.701</td>\n",
       "      <td>2014-07-23 01:02:11.494</td>\n",
       "      <td>2018-12-25 10:56:35.212</td>\n",
       "      <td>2018-12-25 11:02:41.270</td>\n",
       "      <td>1174168.91379</td>\n",
       "      <td>1031981.66667</td>\n",
       "      <td>58</td>\n",
       "      <td>33</td>\n",
       "      <td>...</td>\n",
       "      <td>2019-02-01</td>\n",
       "      <td>2018-12-25</td>\n",
       "      <td>2018-12-25</td>\n",
       "      <td>2014-07-23</td>\n",
       "      <td>2014-07-18</td>\n",
       "      <td>38.00000</td>\n",
       "      <td>1621.00000</td>\n",
       "      <td>1616.00000</td>\n",
       "      <td>0.56897</td>\n",
       "      <td>0</td>\n",
       "    </tr>\n",
       "    <tr>\n",
       "      <th>2</th>\n",
       "      <td>17407638</td>\n",
       "      <td>TRAIN</td>\n",
       "      <td>2017-04-28 02:59:24.000</td>\n",
       "      <td>2017-04-28 03:12:27.000</td>\n",
       "      <td>2019-01-24 09:06:44.000</td>\n",
       "      <td>2019-01-24 09:40:02.000</td>\n",
       "      <td>284884.27419</td>\n",
       "      <td>252776.16667</td>\n",
       "      <td>62</td>\n",
       "      <td>24</td>\n",
       "      <td>...</td>\n",
       "      <td>2019-02-01</td>\n",
       "      <td>2019-01-24</td>\n",
       "      <td>2019-01-24</td>\n",
       "      <td>2017-04-28</td>\n",
       "      <td>2017-04-28</td>\n",
       "      <td>8.00000</td>\n",
       "      <td>636.00000</td>\n",
       "      <td>636.00000</td>\n",
       "      <td>0.38710</td>\n",
       "      <td>0</td>\n",
       "    </tr>\n",
       "    <tr>\n",
       "      <th>3</th>\n",
       "      <td>17407638</td>\n",
       "      <td>HOTEL</td>\n",
       "      <td>2017-04-28 06:44:53.998</td>\n",
       "      <td>2017-04-28 06:52:52.547</td>\n",
       "      <td>2019-01-16 12:39:53.838</td>\n",
       "      <td>2019-01-16 13:00:03.911</td>\n",
       "      <td>737447.19444</td>\n",
       "      <td>587505.95455</td>\n",
       "      <td>36</td>\n",
       "      <td>22</td>\n",
       "      <td>...</td>\n",
       "      <td>2019-02-01</td>\n",
       "      <td>2019-01-16</td>\n",
       "      <td>2019-01-16</td>\n",
       "      <td>2017-04-28</td>\n",
       "      <td>2017-04-28</td>\n",
       "      <td>16.00000</td>\n",
       "      <td>628.00000</td>\n",
       "      <td>628.00000</td>\n",
       "      <td>0.61111</td>\n",
       "      <td>0</td>\n",
       "    </tr>\n",
       "    <tr>\n",
       "      <th>4</th>\n",
       "      <td>4618047</td>\n",
       "      <td>FLIGHT</td>\n",
       "      <td>2015-01-06 02:31:13.189</td>\n",
       "      <td>2015-04-16 10:01:38.531</td>\n",
       "      <td>2019-01-06 08:31:52.498</td>\n",
       "      <td>2018-11-22 12:53:41.530</td>\n",
       "      <td>1604697.66038</td>\n",
       "      <td>1443118.30000</td>\n",
       "      <td>53</td>\n",
       "      <td>20</td>\n",
       "      <td>...</td>\n",
       "      <td>2019-02-01</td>\n",
       "      <td>2018-11-22</td>\n",
       "      <td>2019-01-06</td>\n",
       "      <td>2015-04-16</td>\n",
       "      <td>2015-01-06</td>\n",
       "      <td>71.00000</td>\n",
       "      <td>1461.00000</td>\n",
       "      <td>1316.00000</td>\n",
       "      <td>0.37736</td>\n",
       "      <td>0</td>\n",
       "    </tr>\n",
       "  </tbody>\n",
       "</table>\n",
       "<p>5 rows × 21 columns</p>\n",
       "</div>"
      ],
      "text/plain": [
       "   profile_id primary_sales_product_type      first_booking_time  \\\n",
       "0     3632279                      HOTEL 2015-07-12 12:47:35.370   \n",
       "1     3632279                     FLIGHT 2014-07-18 12:30:47.701   \n",
       "2    17407638                      TRAIN 2017-04-28 02:59:24.000   \n",
       "3    17407638                      HOTEL 2017-04-28 06:44:53.998   \n",
       "4     4618047                     FLIGHT 2015-01-06 02:31:13.189   \n",
       "\n",
       "        first_issued_time       last_booking_time        last_issued_time  \\\n",
       "0 2016-06-19 02:44:34.396 2018-10-05 05:38:35.528 2018-10-05 05:48:02.608   \n",
       "1 2014-07-23 01:02:11.494 2018-12-25 10:56:35.212 2018-12-25 11:02:41.270   \n",
       "2 2017-04-28 03:12:27.000 2019-01-24 09:06:44.000 2019-01-24 09:40:02.000   \n",
       "3 2017-04-28 06:52:52.547 2019-01-16 12:39:53.838 2019-01-16 13:00:03.911   \n",
       "4 2015-04-16 10:01:38.531 2019-01-06 08:31:52.498 2018-11-22 12:53:41.530   \n",
       "\n",
       "   avg_booking_invoice_amount_idr  avg_issued_invoice_amount_idr  \\\n",
       "0                   2000822.71875                  1193236.77778   \n",
       "1                   1174168.91379                  1031981.66667   \n",
       "2                    284884.27419                   252776.16667   \n",
       "3                    737447.19444                   587505.95455   \n",
       "4                   1604697.66038                  1443118.30000   \n",
       "\n",
       "   count_booking  count_issued  ...  last_updated_date last_issued_date  \\\n",
       "0             32            18  ...         2019-02-01       2018-10-05   \n",
       "1             58            33  ...         2019-02-01       2018-12-25   \n",
       "2             62            24  ...         2019-02-01       2019-01-24   \n",
       "3             36            22  ...         2019-02-01       2019-01-16   \n",
       "4             53            20  ...         2019-02-01       2018-11-22   \n",
       "\n",
       "  last_booking_date first_issued_date first_booking_date  day_diff  \\\n",
       "0        2018-10-05        2016-06-19         2015-07-12 119.00000   \n",
       "1        2018-12-25        2014-07-23         2014-07-18  38.00000   \n",
       "2        2019-01-24        2017-04-28         2017-04-28   8.00000   \n",
       "3        2019-01-16        2017-04-28         2017-04-28  16.00000   \n",
       "4        2019-01-06        2015-04-16         2015-01-06  71.00000   \n",
       "\n",
       "   day_diff_booking_time  day_diff_issue_time     cvr  label  \n",
       "0             1181.00000            838.00000 0.56250      0  \n",
       "1             1621.00000           1616.00000 0.56897      0  \n",
       "2              636.00000            636.00000 0.38710      0  \n",
       "3              628.00000            628.00000 0.61111      0  \n",
       "4             1461.00000           1316.00000 0.37736      0  \n",
       "\n",
       "[5 rows x 21 columns]"
      ]
     },
     "execution_count": 352,
     "metadata": {},
     "output_type": "execute_result"
    }
   ],
   "source": [
    "## Modelling - Logistic Regression\n",
    "# avg booking amount, avg invoice amt, count booking, count issued, days of churned customers\n",
    "df.head()"
   ]
  },
  {
   "cell_type": "code",
   "execution_count": null,
   "metadata": {
    "id": "vT7nlZhGL3WI"
   },
   "outputs": [],
   "source": [
    "df.drop([ 'first_booking_time', 'first_issued_time', 'last_booking_time', 'last_issued_time', 'last_updated_date', 'last_issued_date', 'last_booking_date', 'first_issued_date', 'first_booking_date', 'random_number'], axis = 1, inplace = True)"
   ]
  },
  {
   "cell_type": "code",
   "execution_count": null,
   "metadata": {
    "id": "M4sU3TDCL3WJ"
   },
   "outputs": [],
   "source": [
    "# df_flight = df_flight[df_flight['primary_sales_product_type'] == 'FLIGHT']"
   ]
  },
  {
   "cell_type": "code",
   "execution_count": null,
   "metadata": {
    "id": "F5EzDz-hL3WJ",
    "outputId": "78856852-9603-4f56-ab46-7a74b3b8a6c7"
   },
   "outputs": [
    {
     "name": "stdout",
     "output_type": "stream",
     "text": [
      "<class 'pandas.core.frame.DataFrame'>\n",
      "Int64Index: 206546 entries, 0 to 279148\n",
      "Data columns (total 11 columns):\n",
      " #   Column                          Non-Null Count   Dtype  \n",
      "---  ------                          --------------   -----  \n",
      " 0   profile_id                      206546 non-null  int64  \n",
      " 1   primary_sales_product_type      206546 non-null  object \n",
      " 2   avg_booking_invoice_amount_idr  206546 non-null  float64\n",
      " 3   avg_issued_invoice_amount_idr   206546 non-null  float64\n",
      " 4   count_booking                   206546 non-null  int64  \n",
      " 5   count_issued                    206546 non-null  int64  \n",
      " 6   day_diff                        206546 non-null  float64\n",
      " 7   day_diff_booking_time           206546 non-null  float64\n",
      " 8   day_diff_issue_time             206546 non-null  float64\n",
      " 9   cvr                             206546 non-null  float64\n",
      " 10  label                           206546 non-null  int32  \n",
      "dtypes: float64(6), int32(1), int64(3), object(1)\n",
      "memory usage: 28.1+ MB\n"
     ]
    }
   ],
   "source": [
    "df.info()"
   ]
  },
  {
   "cell_type": "code",
   "execution_count": null,
   "metadata": {
    "id": "NoGSucQTL3WJ",
    "outputId": "093a8a03-798c-46e1-ecad-aa627b8b9176"
   },
   "outputs": [
    {
     "data": {
      "text/html": [
       "<div>\n",
       "<style scoped>\n",
       "    .dataframe tbody tr th:only-of-type {\n",
       "        vertical-align: middle;\n",
       "    }\n",
       "\n",
       "    .dataframe tbody tr th {\n",
       "        vertical-align: top;\n",
       "    }\n",
       "\n",
       "    .dataframe thead th {\n",
       "        text-align: right;\n",
       "    }\n",
       "</style>\n",
       "<table border=\"1\" class=\"dataframe\">\n",
       "  <thead>\n",
       "    <tr style=\"text-align: right;\">\n",
       "      <th></th>\n",
       "      <th>profile_id</th>\n",
       "      <th>avg_booking_invoice_amount_idr</th>\n",
       "      <th>avg_issued_invoice_amount_idr</th>\n",
       "      <th>count_booking</th>\n",
       "      <th>count_issued</th>\n",
       "      <th>day_diff</th>\n",
       "      <th>day_diff_booking_time</th>\n",
       "      <th>day_diff_issue_time</th>\n",
       "      <th>cvr</th>\n",
       "    </tr>\n",
       "  </thead>\n",
       "  <tbody>\n",
       "    <tr>\n",
       "      <th>0</th>\n",
       "      <td>3632279</td>\n",
       "      <td>2000822.71875</td>\n",
       "      <td>1193236.77778</td>\n",
       "      <td>32</td>\n",
       "      <td>18</td>\n",
       "      <td>119.00000</td>\n",
       "      <td>1181.00000</td>\n",
       "      <td>838.00000</td>\n",
       "      <td>0.56250</td>\n",
       "    </tr>\n",
       "    <tr>\n",
       "      <th>1</th>\n",
       "      <td>3632279</td>\n",
       "      <td>1174168.91379</td>\n",
       "      <td>1031981.66667</td>\n",
       "      <td>58</td>\n",
       "      <td>33</td>\n",
       "      <td>38.00000</td>\n",
       "      <td>1621.00000</td>\n",
       "      <td>1616.00000</td>\n",
       "      <td>0.56897</td>\n",
       "    </tr>\n",
       "    <tr>\n",
       "      <th>2</th>\n",
       "      <td>17407638</td>\n",
       "      <td>284884.27419</td>\n",
       "      <td>252776.16667</td>\n",
       "      <td>62</td>\n",
       "      <td>24</td>\n",
       "      <td>8.00000</td>\n",
       "      <td>636.00000</td>\n",
       "      <td>636.00000</td>\n",
       "      <td>0.38710</td>\n",
       "    </tr>\n",
       "    <tr>\n",
       "      <th>3</th>\n",
       "      <td>17407638</td>\n",
       "      <td>737447.19444</td>\n",
       "      <td>587505.95455</td>\n",
       "      <td>36</td>\n",
       "      <td>22</td>\n",
       "      <td>16.00000</td>\n",
       "      <td>628.00000</td>\n",
       "      <td>628.00000</td>\n",
       "      <td>0.61111</td>\n",
       "    </tr>\n",
       "    <tr>\n",
       "      <th>4</th>\n",
       "      <td>4618047</td>\n",
       "      <td>1604697.66038</td>\n",
       "      <td>1443118.30000</td>\n",
       "      <td>53</td>\n",
       "      <td>20</td>\n",
       "      <td>71.00000</td>\n",
       "      <td>1461.00000</td>\n",
       "      <td>1316.00000</td>\n",
       "      <td>0.37736</td>\n",
       "    </tr>\n",
       "    <tr>\n",
       "      <th>...</th>\n",
       "      <td>...</td>\n",
       "      <td>...</td>\n",
       "      <td>...</td>\n",
       "      <td>...</td>\n",
       "      <td>...</td>\n",
       "      <td>...</td>\n",
       "      <td>...</td>\n",
       "      <td>...</td>\n",
       "      <td>...</td>\n",
       "    </tr>\n",
       "    <tr>\n",
       "      <th>279144</th>\n",
       "      <td>18742450</td>\n",
       "      <td>816519.05556</td>\n",
       "      <td>871852.43750</td>\n",
       "      <td>18</td>\n",
       "      <td>16</td>\n",
       "      <td>376.00000</td>\n",
       "      <td>214.00000</td>\n",
       "      <td>214.00000</td>\n",
       "      <td>0.88889</td>\n",
       "    </tr>\n",
       "    <tr>\n",
       "      <th>279145</th>\n",
       "      <td>3384069</td>\n",
       "      <td>689568.09524</td>\n",
       "      <td>621091.31250</td>\n",
       "      <td>21</td>\n",
       "      <td>16</td>\n",
       "      <td>1132.00000</td>\n",
       "      <td>362.00000</td>\n",
       "      <td>362.00000</td>\n",
       "      <td>0.76190</td>\n",
       "    </tr>\n",
       "    <tr>\n",
       "      <th>279146</th>\n",
       "      <td>14557207</td>\n",
       "      <td>164833.06897</td>\n",
       "      <td>179923.81250</td>\n",
       "      <td>29</td>\n",
       "      <td>16</td>\n",
       "      <td>0.00000</td>\n",
       "      <td>436.00000</td>\n",
       "      <td>436.00000</td>\n",
       "      <td>0.55172</td>\n",
       "    </tr>\n",
       "    <tr>\n",
       "      <th>279147</th>\n",
       "      <td>8309553</td>\n",
       "      <td>822388.14706</td>\n",
       "      <td>794472.00000</td>\n",
       "      <td>34</td>\n",
       "      <td>16</td>\n",
       "      <td>449.00000</td>\n",
       "      <td>571.00000</td>\n",
       "      <td>519.00000</td>\n",
       "      <td>0.47059</td>\n",
       "    </tr>\n",
       "    <tr>\n",
       "      <th>279148</th>\n",
       "      <td>3635036</td>\n",
       "      <td>1138062.74074</td>\n",
       "      <td>1145964.31250</td>\n",
       "      <td>27</td>\n",
       "      <td>16</td>\n",
       "      <td>149.00000</td>\n",
       "      <td>1510.00000</td>\n",
       "      <td>1493.00000</td>\n",
       "      <td>0.59259</td>\n",
       "    </tr>\n",
       "  </tbody>\n",
       "</table>\n",
       "<p>206546 rows × 9 columns</p>\n",
       "</div>"
      ],
      "text/plain": [
       "        profile_id  avg_booking_invoice_amount_idr  \\\n",
       "0          3632279                   2000822.71875   \n",
       "1          3632279                   1174168.91379   \n",
       "2         17407638                    284884.27419   \n",
       "3         17407638                    737447.19444   \n",
       "4          4618047                   1604697.66038   \n",
       "...            ...                             ...   \n",
       "279144    18742450                    816519.05556   \n",
       "279145     3384069                    689568.09524   \n",
       "279146    14557207                    164833.06897   \n",
       "279147     8309553                    822388.14706   \n",
       "279148     3635036                   1138062.74074   \n",
       "\n",
       "        avg_issued_invoice_amount_idr  count_booking  count_issued   day_diff  \\\n",
       "0                       1193236.77778             32            18  119.00000   \n",
       "1                       1031981.66667             58            33   38.00000   \n",
       "2                        252776.16667             62            24    8.00000   \n",
       "3                        587505.95455             36            22   16.00000   \n",
       "4                       1443118.30000             53            20   71.00000   \n",
       "...                               ...            ...           ...        ...   \n",
       "279144                   871852.43750             18            16  376.00000   \n",
       "279145                   621091.31250             21            16 1132.00000   \n",
       "279146                   179923.81250             29            16    0.00000   \n",
       "279147                   794472.00000             34            16  449.00000   \n",
       "279148                  1145964.31250             27            16  149.00000   \n",
       "\n",
       "        day_diff_booking_time  day_diff_issue_time     cvr  \n",
       "0                  1181.00000            838.00000 0.56250  \n",
       "1                  1621.00000           1616.00000 0.56897  \n",
       "2                   636.00000            636.00000 0.38710  \n",
       "3                   628.00000            628.00000 0.61111  \n",
       "4                  1461.00000           1316.00000 0.37736  \n",
       "...                       ...                  ...     ...  \n",
       "279144              214.00000            214.00000 0.88889  \n",
       "279145              362.00000            362.00000 0.76190  \n",
       "279146              436.00000            436.00000 0.55172  \n",
       "279147              571.00000            519.00000 0.47059  \n",
       "279148             1510.00000           1493.00000 0.59259  \n",
       "\n",
       "[206546 rows x 9 columns]"
      ]
     },
     "execution_count": 356,
     "metadata": {},
     "output_type": "execute_result"
    }
   ],
   "source": [
    "X = df.loc[:, (df.columns != 'label') & (df.columns != 'primary_sales_product_type')]\n",
    "X"
   ]
  },
  {
   "cell_type": "markdown",
   "metadata": {
    "id": "jYS-aRLBL3WK"
   },
   "source": [
    "## Check Multicollinearity"
   ]
  },
  {
   "cell_type": "code",
   "execution_count": null,
   "metadata": {
    "id": "Nk1APIlsL3WK",
    "outputId": "cd2ce0fc-dee1-43d3-92e1-6ed01734f235"
   },
   "outputs": [
    {
     "data": {
      "text/html": [
       "<div>\n",
       "<style scoped>\n",
       "    .dataframe tbody tr th:only-of-type {\n",
       "        vertical-align: middle;\n",
       "    }\n",
       "\n",
       "    .dataframe tbody tr th {\n",
       "        vertical-align: top;\n",
       "    }\n",
       "\n",
       "    .dataframe thead th {\n",
       "        text-align: right;\n",
       "    }\n",
       "</style>\n",
       "<table border=\"1\" class=\"dataframe\">\n",
       "  <thead>\n",
       "    <tr style=\"text-align: right;\">\n",
       "      <th></th>\n",
       "      <th>variables</th>\n",
       "      <th>VIF</th>\n",
       "    </tr>\n",
       "  </thead>\n",
       "  <tbody>\n",
       "    <tr>\n",
       "      <th>0</th>\n",
       "      <td>profile_id</td>\n",
       "      <td>2.10851</td>\n",
       "    </tr>\n",
       "    <tr>\n",
       "      <th>1</th>\n",
       "      <td>avg_booking_invoice_amount_idr</td>\n",
       "      <td>6.30647</td>\n",
       "    </tr>\n",
       "    <tr>\n",
       "      <th>2</th>\n",
       "      <td>avg_issued_invoice_amount_idr</td>\n",
       "      <td>6.56013</td>\n",
       "    </tr>\n",
       "    <tr>\n",
       "      <th>3</th>\n",
       "      <td>count_booking</td>\n",
       "      <td>6.78771</td>\n",
       "    </tr>\n",
       "    <tr>\n",
       "      <th>4</th>\n",
       "      <td>count_issued</td>\n",
       "      <td>6.22977</td>\n",
       "    </tr>\n",
       "    <tr>\n",
       "      <th>5</th>\n",
       "      <td>day_diff</td>\n",
       "      <td>2.22991</td>\n",
       "    </tr>\n",
       "    <tr>\n",
       "      <th>6</th>\n",
       "      <td>day_diff_booking_time</td>\n",
       "      <td>8.92878</td>\n",
       "    </tr>\n",
       "    <tr>\n",
       "      <th>7</th>\n",
       "      <td>day_diff_issue_time</td>\n",
       "      <td>9.43290</td>\n",
       "    </tr>\n",
       "    <tr>\n",
       "      <th>8</th>\n",
       "      <td>cvr</td>\n",
       "      <td>4.44098</td>\n",
       "    </tr>\n",
       "  </tbody>\n",
       "</table>\n",
       "</div>"
      ],
      "text/plain": [
       "                        variables     VIF\n",
       "0                      profile_id 2.10851\n",
       "1  avg_booking_invoice_amount_idr 6.30647\n",
       "2   avg_issued_invoice_amount_idr 6.56013\n",
       "3                   count_booking 6.78771\n",
       "4                    count_issued 6.22977\n",
       "5                        day_diff 2.22991\n",
       "6           day_diff_booking_time 8.92878\n",
       "7             day_diff_issue_time 9.43290\n",
       "8                             cvr 4.44098"
      ]
     },
     "execution_count": 357,
     "metadata": {},
     "output_type": "execute_result"
    }
   ],
   "source": [
    "def calc_vif(X):\n",
    "# Calculating VIF\n",
    "    vif = pd.DataFrame()\n",
    "    vif[\"variables\"] = X.columns\n",
    "    vif[\"VIF\"] = [variance_inflation_factor(X.values, i)\n",
    "    for i in range(X.shape[1])]\n",
    "    return(vif)\n",
    "\n",
    "calc_vif(X)"
   ]
  },
  {
   "cell_type": "code",
   "execution_count": null,
   "metadata": {
    "id": "Gtn2oU63L3WT",
    "outputId": "475332c6-61bc-4b54-f952-c582c3b186d0"
   },
   "outputs": [
    {
     "data": {
      "text/html": [
       "<div>\n",
       "<style scoped>\n",
       "    .dataframe tbody tr th:only-of-type {\n",
       "        vertical-align: middle;\n",
       "    }\n",
       "\n",
       "    .dataframe tbody tr th {\n",
       "        vertical-align: top;\n",
       "    }\n",
       "\n",
       "    .dataframe thead th {\n",
       "        text-align: right;\n",
       "    }\n",
       "</style>\n",
       "<table border=\"1\" class=\"dataframe\">\n",
       "  <thead>\n",
       "    <tr style=\"text-align: right;\">\n",
       "      <th></th>\n",
       "      <th>variables</th>\n",
       "      <th>VIF</th>\n",
       "    </tr>\n",
       "  </thead>\n",
       "  <tbody>\n",
       "    <tr>\n",
       "      <th>0</th>\n",
       "      <td>avg_issued_invoice_amount_idr</td>\n",
       "      <td>1.51436</td>\n",
       "    </tr>\n",
       "    <tr>\n",
       "      <th>1</th>\n",
       "      <td>count_issued</td>\n",
       "      <td>1.36140</td>\n",
       "    </tr>\n",
       "    <tr>\n",
       "      <th>2</th>\n",
       "      <td>day_diff</td>\n",
       "      <td>1.86376</td>\n",
       "    </tr>\n",
       "    <tr>\n",
       "      <th>3</th>\n",
       "      <td>day_diff_issue_time</td>\n",
       "      <td>1.68853</td>\n",
       "    </tr>\n",
       "    <tr>\n",
       "      <th>4</th>\n",
       "      <td>cvr</td>\n",
       "      <td>2.57408</td>\n",
       "    </tr>\n",
       "  </tbody>\n",
       "</table>\n",
       "</div>"
      ],
      "text/plain": [
       "                       variables     VIF\n",
       "0  avg_issued_invoice_amount_idr 1.51436\n",
       "1                   count_issued 1.36140\n",
       "2                       day_diff 1.86376\n",
       "3            day_diff_issue_time 1.68853\n",
       "4                            cvr 2.57408"
      ]
     },
     "execution_count": 358,
     "metadata": {},
     "output_type": "execute_result"
    }
   ],
   "source": [
    "X_new = X.drop(columns=['profile_id','day_diff_booking_time', 'avg_booking_invoice_amount_idr', 'count_booking'])\n",
    "def calc_vif(X):\n",
    "# Calculating VIF\n",
    "    vif = pd.DataFrame()\n",
    "    vif[\"variables\"] = X.columns\n",
    "    vif[\"VIF\"] = [variance_inflation_factor(X.values, i)\n",
    "    for i in range(X.shape[1])]\n",
    "    return(vif)\n",
    "\n",
    "calc_vif(X_new)"
   ]
  },
  {
   "cell_type": "markdown",
   "metadata": {
    "id": "xFjSUMNWL3WT"
   },
   "source": [
    "### One Hot Encoding"
   ]
  },
  {
   "cell_type": "code",
   "execution_count": null,
   "metadata": {
    "id": "eiXQEdAiL3WT",
    "outputId": "adb7e176-8c24-40bf-e552-a12a7e9063b3"
   },
   "outputs": [
    {
     "data": {
      "text/html": [
       "<div>\n",
       "<style scoped>\n",
       "    .dataframe tbody tr th:only-of-type {\n",
       "        vertical-align: middle;\n",
       "    }\n",
       "\n",
       "    .dataframe tbody tr th {\n",
       "        vertical-align: top;\n",
       "    }\n",
       "\n",
       "    .dataframe thead th {\n",
       "        text-align: right;\n",
       "    }\n",
       "</style>\n",
       "<table border=\"1\" class=\"dataframe\">\n",
       "  <thead>\n",
       "    <tr style=\"text-align: right;\">\n",
       "      <th></th>\n",
       "      <th>profile_id</th>\n",
       "      <th>avg_booking_invoice_amount_idr</th>\n",
       "      <th>avg_issued_invoice_amount_idr</th>\n",
       "      <th>count_booking</th>\n",
       "      <th>count_issued</th>\n",
       "      <th>day_diff</th>\n",
       "      <th>day_diff_booking_time</th>\n",
       "      <th>day_diff_issue_time</th>\n",
       "      <th>cvr</th>\n",
       "      <th>label</th>\n",
       "      <th>primary_sales_product_type_FLIGHT</th>\n",
       "      <th>primary_sales_product_type_HOTEL</th>\n",
       "      <th>primary_sales_product_type_TRAIN</th>\n",
       "      <th>primary_sales_product_type_TRIP</th>\n",
       "    </tr>\n",
       "  </thead>\n",
       "  <tbody>\n",
       "    <tr>\n",
       "      <th>0</th>\n",
       "      <td>3632279</td>\n",
       "      <td>2000822.71875</td>\n",
       "      <td>1193236.77778</td>\n",
       "      <td>32</td>\n",
       "      <td>18</td>\n",
       "      <td>119.00000</td>\n",
       "      <td>1181.00000</td>\n",
       "      <td>838.00000</td>\n",
       "      <td>0.56250</td>\n",
       "      <td>0</td>\n",
       "      <td>0</td>\n",
       "      <td>1</td>\n",
       "      <td>0</td>\n",
       "      <td>0</td>\n",
       "    </tr>\n",
       "    <tr>\n",
       "      <th>1</th>\n",
       "      <td>3632279</td>\n",
       "      <td>1174168.91379</td>\n",
       "      <td>1031981.66667</td>\n",
       "      <td>58</td>\n",
       "      <td>33</td>\n",
       "      <td>38.00000</td>\n",
       "      <td>1621.00000</td>\n",
       "      <td>1616.00000</td>\n",
       "      <td>0.56897</td>\n",
       "      <td>0</td>\n",
       "      <td>1</td>\n",
       "      <td>0</td>\n",
       "      <td>0</td>\n",
       "      <td>0</td>\n",
       "    </tr>\n",
       "    <tr>\n",
       "      <th>2</th>\n",
       "      <td>17407638</td>\n",
       "      <td>284884.27419</td>\n",
       "      <td>252776.16667</td>\n",
       "      <td>62</td>\n",
       "      <td>24</td>\n",
       "      <td>8.00000</td>\n",
       "      <td>636.00000</td>\n",
       "      <td>636.00000</td>\n",
       "      <td>0.38710</td>\n",
       "      <td>0</td>\n",
       "      <td>0</td>\n",
       "      <td>0</td>\n",
       "      <td>1</td>\n",
       "      <td>0</td>\n",
       "    </tr>\n",
       "    <tr>\n",
       "      <th>3</th>\n",
       "      <td>17407638</td>\n",
       "      <td>737447.19444</td>\n",
       "      <td>587505.95455</td>\n",
       "      <td>36</td>\n",
       "      <td>22</td>\n",
       "      <td>16.00000</td>\n",
       "      <td>628.00000</td>\n",
       "      <td>628.00000</td>\n",
       "      <td>0.61111</td>\n",
       "      <td>0</td>\n",
       "      <td>0</td>\n",
       "      <td>1</td>\n",
       "      <td>0</td>\n",
       "      <td>0</td>\n",
       "    </tr>\n",
       "    <tr>\n",
       "      <th>4</th>\n",
       "      <td>4618047</td>\n",
       "      <td>1604697.66038</td>\n",
       "      <td>1443118.30000</td>\n",
       "      <td>53</td>\n",
       "      <td>20</td>\n",
       "      <td>71.00000</td>\n",
       "      <td>1461.00000</td>\n",
       "      <td>1316.00000</td>\n",
       "      <td>0.37736</td>\n",
       "      <td>0</td>\n",
       "      <td>1</td>\n",
       "      <td>0</td>\n",
       "      <td>0</td>\n",
       "      <td>0</td>\n",
       "    </tr>\n",
       "  </tbody>\n",
       "</table>\n",
       "</div>"
      ],
      "text/plain": [
       "   profile_id  avg_booking_invoice_amount_idr  avg_issued_invoice_amount_idr  \\\n",
       "0     3632279                   2000822.71875                  1193236.77778   \n",
       "1     3632279                   1174168.91379                  1031981.66667   \n",
       "2    17407638                    284884.27419                   252776.16667   \n",
       "3    17407638                    737447.19444                   587505.95455   \n",
       "4     4618047                   1604697.66038                  1443118.30000   \n",
       "\n",
       "   count_booking  count_issued  day_diff  day_diff_booking_time  \\\n",
       "0             32            18 119.00000             1181.00000   \n",
       "1             58            33  38.00000             1621.00000   \n",
       "2             62            24   8.00000              636.00000   \n",
       "3             36            22  16.00000              628.00000   \n",
       "4             53            20  71.00000             1461.00000   \n",
       "\n",
       "   day_diff_issue_time     cvr  label  primary_sales_product_type_FLIGHT  \\\n",
       "0            838.00000 0.56250      0                                  0   \n",
       "1           1616.00000 0.56897      0                                  1   \n",
       "2            636.00000 0.38710      0                                  0   \n",
       "3            628.00000 0.61111      0                                  0   \n",
       "4           1316.00000 0.37736      0                                  1   \n",
       "\n",
       "   primary_sales_product_type_HOTEL  primary_sales_product_type_TRAIN  \\\n",
       "0                                 1                                 0   \n",
       "1                                 0                                 0   \n",
       "2                                 0                                 1   \n",
       "3                                 1                                 0   \n",
       "4                                 0                                 0   \n",
       "\n",
       "   primary_sales_product_type_TRIP  \n",
       "0                                0  \n",
       "1                                0  \n",
       "2                                0  \n",
       "3                                0  \n",
       "4                                0  "
      ]
     },
     "execution_count": 418,
     "metadata": {},
     "output_type": "execute_result"
    }
   ],
   "source": [
    "## One Hot Encoding\n",
    "df = pd.get_dummies(df)\n",
    "df.head()"
   ]
  },
  {
   "cell_type": "code",
   "execution_count": null,
   "metadata": {
    "id": "60O92QujL3WU"
   },
   "outputs": [],
   "source": [
    "X = df.loc[:, df.columns != 'label'].drop(['avg_issued_invoice_amount_idr', 'avg_booking_invoice_amount_idr', 'cvr', 'day_diff', 'count_booking', 'day_diff_booking_time'], axis = 1)\n",
    "y = df['label']"
   ]
  },
  {
   "cell_type": "code",
   "execution_count": null,
   "metadata": {
    "id": "jbMUsYfHL3WV",
    "outputId": "03eaeeff-158d-4656-fe46-308a21cbe929"
   },
   "outputs": [
    {
     "data": {
      "text/html": [
       "<div>\n",
       "<style scoped>\n",
       "    .dataframe tbody tr th:only-of-type {\n",
       "        vertical-align: middle;\n",
       "    }\n",
       "\n",
       "    .dataframe tbody tr th {\n",
       "        vertical-align: top;\n",
       "    }\n",
       "\n",
       "    .dataframe thead th {\n",
       "        text-align: right;\n",
       "    }\n",
       "</style>\n",
       "<table border=\"1\" class=\"dataframe\">\n",
       "  <thead>\n",
       "    <tr style=\"text-align: right;\">\n",
       "      <th></th>\n",
       "      <th>profile_id</th>\n",
       "      <th>count_issued</th>\n",
       "      <th>day_diff_issue_time</th>\n",
       "      <th>primary_sales_product_type_FLIGHT</th>\n",
       "      <th>primary_sales_product_type_HOTEL</th>\n",
       "      <th>primary_sales_product_type_TRAIN</th>\n",
       "      <th>primary_sales_product_type_TRIP</th>\n",
       "    </tr>\n",
       "  </thead>\n",
       "  <tbody>\n",
       "    <tr>\n",
       "      <th>0</th>\n",
       "      <td>3632279</td>\n",
       "      <td>18</td>\n",
       "      <td>838.00000</td>\n",
       "      <td>0</td>\n",
       "      <td>1</td>\n",
       "      <td>0</td>\n",
       "      <td>0</td>\n",
       "    </tr>\n",
       "    <tr>\n",
       "      <th>1</th>\n",
       "      <td>3632279</td>\n",
       "      <td>33</td>\n",
       "      <td>1616.00000</td>\n",
       "      <td>1</td>\n",
       "      <td>0</td>\n",
       "      <td>0</td>\n",
       "      <td>0</td>\n",
       "    </tr>\n",
       "    <tr>\n",
       "      <th>2</th>\n",
       "      <td>17407638</td>\n",
       "      <td>24</td>\n",
       "      <td>636.00000</td>\n",
       "      <td>0</td>\n",
       "      <td>0</td>\n",
       "      <td>1</td>\n",
       "      <td>0</td>\n",
       "    </tr>\n",
       "    <tr>\n",
       "      <th>3</th>\n",
       "      <td>17407638</td>\n",
       "      <td>22</td>\n",
       "      <td>628.00000</td>\n",
       "      <td>0</td>\n",
       "      <td>1</td>\n",
       "      <td>0</td>\n",
       "      <td>0</td>\n",
       "    </tr>\n",
       "    <tr>\n",
       "      <th>4</th>\n",
       "      <td>4618047</td>\n",
       "      <td>20</td>\n",
       "      <td>1316.00000</td>\n",
       "      <td>1</td>\n",
       "      <td>0</td>\n",
       "      <td>0</td>\n",
       "      <td>0</td>\n",
       "    </tr>\n",
       "    <tr>\n",
       "      <th>...</th>\n",
       "      <td>...</td>\n",
       "      <td>...</td>\n",
       "      <td>...</td>\n",
       "      <td>...</td>\n",
       "      <td>...</td>\n",
       "      <td>...</td>\n",
       "      <td>...</td>\n",
       "    </tr>\n",
       "    <tr>\n",
       "      <th>279144</th>\n",
       "      <td>18742450</td>\n",
       "      <td>16</td>\n",
       "      <td>214.00000</td>\n",
       "      <td>1</td>\n",
       "      <td>0</td>\n",
       "      <td>0</td>\n",
       "      <td>0</td>\n",
       "    </tr>\n",
       "    <tr>\n",
       "      <th>279145</th>\n",
       "      <td>3384069</td>\n",
       "      <td>16</td>\n",
       "      <td>362.00000</td>\n",
       "      <td>0</td>\n",
       "      <td>1</td>\n",
       "      <td>0</td>\n",
       "      <td>0</td>\n",
       "    </tr>\n",
       "    <tr>\n",
       "      <th>279146</th>\n",
       "      <td>14557207</td>\n",
       "      <td>16</td>\n",
       "      <td>436.00000</td>\n",
       "      <td>0</td>\n",
       "      <td>0</td>\n",
       "      <td>1</td>\n",
       "      <td>0</td>\n",
       "    </tr>\n",
       "    <tr>\n",
       "      <th>279147</th>\n",
       "      <td>8309553</td>\n",
       "      <td>16</td>\n",
       "      <td>519.00000</td>\n",
       "      <td>1</td>\n",
       "      <td>0</td>\n",
       "      <td>0</td>\n",
       "      <td>0</td>\n",
       "    </tr>\n",
       "    <tr>\n",
       "      <th>279148</th>\n",
       "      <td>3635036</td>\n",
       "      <td>16</td>\n",
       "      <td>1493.00000</td>\n",
       "      <td>1</td>\n",
       "      <td>0</td>\n",
       "      <td>0</td>\n",
       "      <td>0</td>\n",
       "    </tr>\n",
       "  </tbody>\n",
       "</table>\n",
       "<p>206546 rows × 7 columns</p>\n",
       "</div>"
      ],
      "text/plain": [
       "        profile_id  count_issued  day_diff_issue_time  \\\n",
       "0          3632279            18            838.00000   \n",
       "1          3632279            33           1616.00000   \n",
       "2         17407638            24            636.00000   \n",
       "3         17407638            22            628.00000   \n",
       "4          4618047            20           1316.00000   \n",
       "...            ...           ...                  ...   \n",
       "279144    18742450            16            214.00000   \n",
       "279145     3384069            16            362.00000   \n",
       "279146    14557207            16            436.00000   \n",
       "279147     8309553            16            519.00000   \n",
       "279148     3635036            16           1493.00000   \n",
       "\n",
       "        primary_sales_product_type_FLIGHT  primary_sales_product_type_HOTEL  \\\n",
       "0                                       0                                 1   \n",
       "1                                       1                                 0   \n",
       "2                                       0                                 0   \n",
       "3                                       0                                 1   \n",
       "4                                       1                                 0   \n",
       "...                                   ...                               ...   \n",
       "279144                                  1                                 0   \n",
       "279145                                  0                                 1   \n",
       "279146                                  0                                 0   \n",
       "279147                                  1                                 0   \n",
       "279148                                  1                                 0   \n",
       "\n",
       "        primary_sales_product_type_TRAIN  primary_sales_product_type_TRIP  \n",
       "0                                      0                                0  \n",
       "1                                      0                                0  \n",
       "2                                      1                                0  \n",
       "3                                      0                                0  \n",
       "4                                      0                                0  \n",
       "...                                  ...                              ...  \n",
       "279144                                 0                                0  \n",
       "279145                                 0                                0  \n",
       "279146                                 1                                0  \n",
       "279147                                 0                                0  \n",
       "279148                                 0                                0  \n",
       "\n",
       "[206546 rows x 7 columns]"
      ]
     },
     "execution_count": 457,
     "metadata": {},
     "output_type": "execute_result"
    }
   ],
   "source": [
    "cols = list(X.columns)\n",
    "X"
   ]
  },
  {
   "cell_type": "code",
   "execution_count": null,
   "metadata": {
    "id": "bbUew0-RL3WV"
   },
   "outputs": [],
   "source": [
    "X = X.drop('day_diff', axis = 1)"
   ]
  },
  {
   "cell_type": "code",
   "execution_count": null,
   "metadata": {
    "id": "1HZtxUgHL3WW",
    "outputId": "e0c4e543-fd1e-4d2e-d8d3-2248596713d4"
   },
   "outputs": [
    {
     "data": {
      "text/html": [
       "<div>\n",
       "<style scoped>\n",
       "    .dataframe tbody tr th:only-of-type {\n",
       "        vertical-align: middle;\n",
       "    }\n",
       "\n",
       "    .dataframe tbody tr th {\n",
       "        vertical-align: top;\n",
       "    }\n",
       "\n",
       "    .dataframe thead th {\n",
       "        text-align: right;\n",
       "    }\n",
       "</style>\n",
       "<table border=\"1\" class=\"dataframe\">\n",
       "  <thead>\n",
       "    <tr style=\"text-align: right;\">\n",
       "      <th></th>\n",
       "      <th>profile_id</th>\n",
       "      <th>count_booking</th>\n",
       "      <th>count_issued</th>\n",
       "      <th>day_diff_booking_time</th>\n",
       "      <th>day_diff_issue_time</th>\n",
       "      <th>primary_sales_product_type_FLIGHT</th>\n",
       "      <th>primary_sales_product_type_HOTEL</th>\n",
       "      <th>primary_sales_product_type_TRAIN</th>\n",
       "      <th>primary_sales_product_type_TRIP</th>\n",
       "    </tr>\n",
       "  </thead>\n",
       "  <tbody>\n",
       "    <tr>\n",
       "      <th>0</th>\n",
       "      <td>3632279</td>\n",
       "      <td>32</td>\n",
       "      <td>18</td>\n",
       "      <td>1181.00000</td>\n",
       "      <td>838.00000</td>\n",
       "      <td>0</td>\n",
       "      <td>1</td>\n",
       "      <td>0</td>\n",
       "      <td>0</td>\n",
       "    </tr>\n",
       "    <tr>\n",
       "      <th>1</th>\n",
       "      <td>3632279</td>\n",
       "      <td>58</td>\n",
       "      <td>33</td>\n",
       "      <td>1621.00000</td>\n",
       "      <td>1616.00000</td>\n",
       "      <td>1</td>\n",
       "      <td>0</td>\n",
       "      <td>0</td>\n",
       "      <td>0</td>\n",
       "    </tr>\n",
       "    <tr>\n",
       "      <th>2</th>\n",
       "      <td>17407638</td>\n",
       "      <td>62</td>\n",
       "      <td>24</td>\n",
       "      <td>636.00000</td>\n",
       "      <td>636.00000</td>\n",
       "      <td>0</td>\n",
       "      <td>0</td>\n",
       "      <td>1</td>\n",
       "      <td>0</td>\n",
       "    </tr>\n",
       "    <tr>\n",
       "      <th>3</th>\n",
       "      <td>17407638</td>\n",
       "      <td>36</td>\n",
       "      <td>22</td>\n",
       "      <td>628.00000</td>\n",
       "      <td>628.00000</td>\n",
       "      <td>0</td>\n",
       "      <td>1</td>\n",
       "      <td>0</td>\n",
       "      <td>0</td>\n",
       "    </tr>\n",
       "    <tr>\n",
       "      <th>4</th>\n",
       "      <td>4618047</td>\n",
       "      <td>53</td>\n",
       "      <td>20</td>\n",
       "      <td>1461.00000</td>\n",
       "      <td>1316.00000</td>\n",
       "      <td>1</td>\n",
       "      <td>0</td>\n",
       "      <td>0</td>\n",
       "      <td>0</td>\n",
       "    </tr>\n",
       "    <tr>\n",
       "      <th>...</th>\n",
       "      <td>...</td>\n",
       "      <td>...</td>\n",
       "      <td>...</td>\n",
       "      <td>...</td>\n",
       "      <td>...</td>\n",
       "      <td>...</td>\n",
       "      <td>...</td>\n",
       "      <td>...</td>\n",
       "      <td>...</td>\n",
       "    </tr>\n",
       "    <tr>\n",
       "      <th>279144</th>\n",
       "      <td>18742450</td>\n",
       "      <td>18</td>\n",
       "      <td>16</td>\n",
       "      <td>214.00000</td>\n",
       "      <td>214.00000</td>\n",
       "      <td>1</td>\n",
       "      <td>0</td>\n",
       "      <td>0</td>\n",
       "      <td>0</td>\n",
       "    </tr>\n",
       "    <tr>\n",
       "      <th>279145</th>\n",
       "      <td>3384069</td>\n",
       "      <td>21</td>\n",
       "      <td>16</td>\n",
       "      <td>362.00000</td>\n",
       "      <td>362.00000</td>\n",
       "      <td>0</td>\n",
       "      <td>1</td>\n",
       "      <td>0</td>\n",
       "      <td>0</td>\n",
       "    </tr>\n",
       "    <tr>\n",
       "      <th>279146</th>\n",
       "      <td>14557207</td>\n",
       "      <td>29</td>\n",
       "      <td>16</td>\n",
       "      <td>436.00000</td>\n",
       "      <td>436.00000</td>\n",
       "      <td>0</td>\n",
       "      <td>0</td>\n",
       "      <td>1</td>\n",
       "      <td>0</td>\n",
       "    </tr>\n",
       "    <tr>\n",
       "      <th>279147</th>\n",
       "      <td>8309553</td>\n",
       "      <td>34</td>\n",
       "      <td>16</td>\n",
       "      <td>571.00000</td>\n",
       "      <td>519.00000</td>\n",
       "      <td>1</td>\n",
       "      <td>0</td>\n",
       "      <td>0</td>\n",
       "      <td>0</td>\n",
       "    </tr>\n",
       "    <tr>\n",
       "      <th>279148</th>\n",
       "      <td>3635036</td>\n",
       "      <td>27</td>\n",
       "      <td>16</td>\n",
       "      <td>1510.00000</td>\n",
       "      <td>1493.00000</td>\n",
       "      <td>1</td>\n",
       "      <td>0</td>\n",
       "      <td>0</td>\n",
       "      <td>0</td>\n",
       "    </tr>\n",
       "  </tbody>\n",
       "</table>\n",
       "<p>206546 rows × 9 columns</p>\n",
       "</div>"
      ],
      "text/plain": [
       "        profile_id  count_booking  count_issued  day_diff_booking_time  \\\n",
       "0          3632279             32            18             1181.00000   \n",
       "1          3632279             58            33             1621.00000   \n",
       "2         17407638             62            24              636.00000   \n",
       "3         17407638             36            22              628.00000   \n",
       "4          4618047             53            20             1461.00000   \n",
       "...            ...            ...           ...                    ...   \n",
       "279144    18742450             18            16              214.00000   \n",
       "279145     3384069             21            16              362.00000   \n",
       "279146    14557207             29            16              436.00000   \n",
       "279147     8309553             34            16              571.00000   \n",
       "279148     3635036             27            16             1510.00000   \n",
       "\n",
       "        day_diff_issue_time  primary_sales_product_type_FLIGHT  \\\n",
       "0                 838.00000                                  0   \n",
       "1                1616.00000                                  1   \n",
       "2                 636.00000                                  0   \n",
       "3                 628.00000                                  0   \n",
       "4                1316.00000                                  1   \n",
       "...                     ...                                ...   \n",
       "279144            214.00000                                  1   \n",
       "279145            362.00000                                  0   \n",
       "279146            436.00000                                  0   \n",
       "279147            519.00000                                  1   \n",
       "279148           1493.00000                                  1   \n",
       "\n",
       "        primary_sales_product_type_HOTEL  primary_sales_product_type_TRAIN  \\\n",
       "0                                      1                                 0   \n",
       "1                                      0                                 0   \n",
       "2                                      0                                 1   \n",
       "3                                      1                                 0   \n",
       "4                                      0                                 0   \n",
       "...                                  ...                               ...   \n",
       "279144                                 0                                 0   \n",
       "279145                                 1                                 0   \n",
       "279146                                 0                                 1   \n",
       "279147                                 0                                 0   \n",
       "279148                                 0                                 0   \n",
       "\n",
       "        primary_sales_product_type_TRIP  \n",
       "0                                     0  \n",
       "1                                     0  \n",
       "2                                     0  \n",
       "3                                     0  \n",
       "4                                     0  \n",
       "...                                 ...  \n",
       "279144                                0  \n",
       "279145                                0  \n",
       "279146                                0  \n",
       "279147                                0  \n",
       "279148                                0  \n",
       "\n",
       "[206546 rows x 9 columns]"
      ]
     },
     "execution_count": 405,
     "metadata": {},
     "output_type": "execute_result"
    }
   ],
   "source": [
    "X"
   ]
  },
  {
   "cell_type": "markdown",
   "metadata": {
    "id": "Aw-DLtKxL3WW"
   },
   "source": [
    "### Train and Test Data"
   ]
  },
  {
   "cell_type": "code",
   "execution_count": null,
   "metadata": {
    "id": "0FnnoKCmL3WW"
   },
   "outputs": [],
   "source": [
    "X_train, X_test, y_train, y_test = train_test_split(X, y, test_size = 0.3, random_state = 0)"
   ]
  },
  {
   "cell_type": "code",
   "execution_count": null,
   "metadata": {
    "id": "hzvD2HH2L3WX"
   },
   "outputs": [],
   "source": [
    "train_identity = X_train['profile_id']\n",
    "X_train = X_train.drop(columns = ['profile_id'])\n",
    "\n",
    "test_identity = X_test['profile_id']\n",
    "X_test = X_test.drop(columns = ['profile_id'])"
   ]
  },
  {
   "cell_type": "markdown",
   "metadata": {
    "id": "6nr1ryFVL3WX"
   },
   "source": [
    "### Feature Scaling"
   ]
  },
  {
   "cell_type": "code",
   "execution_count": null,
   "metadata": {
    "id": "4PvpcEdfL3WX"
   },
   "outputs": [],
   "source": [
    "## Normalize the variables\n",
    "# from sklearn.preprocessing import MinMaxScaler\n",
    "# mm = MinMaxScaler()\n",
    "# X = pd.DataFrame(mm.fit_transform(X))\n",
    "\n",
    "#X = StandardScaler().fit(X).transform(X)\n",
    "# X\n",
    "\n",
    "sc_X = StandardScaler()\n",
    "X_train2 = pd.DataFrame(sc_X.fit_transform(X_train))\n",
    "X_train2.columns = X_train.columns.values\n",
    "X_train2.index = X_train.index.values\n",
    "X_train = X_train2\n",
    "\n",
    "X_test2 = pd.DataFrame(sc_X.transform(X_test))\n",
    "X_test2.columns = X_test.columns.values\n",
    "X_test2.index = X_test.index.values\n",
    "X_test = X_test2"
   ]
  },
  {
   "cell_type": "markdown",
   "metadata": {
    "id": "MHIWNnUlL3WX"
   },
   "source": [
    "### Modelling"
   ]
  },
  {
   "cell_type": "code",
   "execution_count": null,
   "metadata": {
    "id": "k8XncRlQL3WY",
    "outputId": "d5b2131f-0982-4fc6-f916-faaebb4ab900"
   },
   "outputs": [
    {
     "data": {
      "text/html": [
       "<div>\n",
       "<style scoped>\n",
       "    .dataframe tbody tr th:only-of-type {\n",
       "        vertical-align: middle;\n",
       "    }\n",
       "\n",
       "    .dataframe tbody tr th {\n",
       "        vertical-align: top;\n",
       "    }\n",
       "\n",
       "    .dataframe thead th {\n",
       "        text-align: right;\n",
       "    }\n",
       "</style>\n",
       "<table border=\"1\" class=\"dataframe\">\n",
       "  <thead>\n",
       "    <tr style=\"text-align: right;\">\n",
       "      <th></th>\n",
       "      <th>count_issued</th>\n",
       "      <th>day_diff_issue_time</th>\n",
       "      <th>primary_sales_product_type_FLIGHT</th>\n",
       "      <th>primary_sales_product_type_HOTEL</th>\n",
       "      <th>primary_sales_product_type_TRAIN</th>\n",
       "      <th>primary_sales_product_type_TRIP</th>\n",
       "    </tr>\n",
       "  </thead>\n",
       "  <tbody>\n",
       "    <tr>\n",
       "      <th>261673</th>\n",
       "      <td>9</td>\n",
       "      <td>430.00000</td>\n",
       "      <td>1</td>\n",
       "      <td>0</td>\n",
       "      <td>0</td>\n",
       "      <td>0</td>\n",
       "    </tr>\n",
       "    <tr>\n",
       "      <th>18719</th>\n",
       "      <td>17</td>\n",
       "      <td>693.00000</td>\n",
       "      <td>1</td>\n",
       "      <td>0</td>\n",
       "      <td>0</td>\n",
       "      <td>0</td>\n",
       "    </tr>\n",
       "    <tr>\n",
       "      <th>122374</th>\n",
       "      <td>1</td>\n",
       "      <td>0.00000</td>\n",
       "      <td>0</td>\n",
       "      <td>1</td>\n",
       "      <td>0</td>\n",
       "      <td>0</td>\n",
       "    </tr>\n",
       "    <tr>\n",
       "      <th>208458</th>\n",
       "      <td>3</td>\n",
       "      <td>55.00000</td>\n",
       "      <td>1</td>\n",
       "      <td>0</td>\n",
       "      <td>0</td>\n",
       "      <td>0</td>\n",
       "    </tr>\n",
       "    <tr>\n",
       "      <th>234969</th>\n",
       "      <td>5</td>\n",
       "      <td>619.00000</td>\n",
       "      <td>0</td>\n",
       "      <td>1</td>\n",
       "      <td>0</td>\n",
       "      <td>0</td>\n",
       "    </tr>\n",
       "    <tr>\n",
       "      <th>...</th>\n",
       "      <td>...</td>\n",
       "      <td>...</td>\n",
       "      <td>...</td>\n",
       "      <td>...</td>\n",
       "      <td>...</td>\n",
       "      <td>...</td>\n",
       "    </tr>\n",
       "    <tr>\n",
       "      <th>249566</th>\n",
       "      <td>7</td>\n",
       "      <td>475.00000</td>\n",
       "      <td>1</td>\n",
       "      <td>0</td>\n",
       "      <td>0</td>\n",
       "      <td>0</td>\n",
       "    </tr>\n",
       "    <tr>\n",
       "      <th>190555</th>\n",
       "      <td>2</td>\n",
       "      <td>286.00000</td>\n",
       "      <td>0</td>\n",
       "      <td>0</td>\n",
       "      <td>0</td>\n",
       "      <td>1</td>\n",
       "    </tr>\n",
       "    <tr>\n",
       "      <th>246288</th>\n",
       "      <td>6</td>\n",
       "      <td>1231.00000</td>\n",
       "      <td>1</td>\n",
       "      <td>0</td>\n",
       "      <td>0</td>\n",
       "      <td>0</td>\n",
       "    </tr>\n",
       "    <tr>\n",
       "      <th>116164</th>\n",
       "      <td>1</td>\n",
       "      <td>0.00000</td>\n",
       "      <td>0</td>\n",
       "      <td>0</td>\n",
       "      <td>0</td>\n",
       "      <td>1</td>\n",
       "    </tr>\n",
       "    <tr>\n",
       "      <th>271943</th>\n",
       "      <td>12</td>\n",
       "      <td>382.00000</td>\n",
       "      <td>1</td>\n",
       "      <td>0</td>\n",
       "      <td>0</td>\n",
       "      <td>0</td>\n",
       "    </tr>\n",
       "  </tbody>\n",
       "</table>\n",
       "<p>144582 rows × 6 columns</p>\n",
       "</div>"
      ],
      "text/plain": [
       "        count_issued  day_diff_issue_time  primary_sales_product_type_FLIGHT  \\\n",
       "261673             9            430.00000                                  1   \n",
       "18719             17            693.00000                                  1   \n",
       "122374             1              0.00000                                  0   \n",
       "208458             3             55.00000                                  1   \n",
       "234969             5            619.00000                                  0   \n",
       "...              ...                  ...                                ...   \n",
       "249566             7            475.00000                                  1   \n",
       "190555             2            286.00000                                  0   \n",
       "246288             6           1231.00000                                  1   \n",
       "116164             1              0.00000                                  0   \n",
       "271943            12            382.00000                                  1   \n",
       "\n",
       "        primary_sales_product_type_HOTEL  primary_sales_product_type_TRAIN  \\\n",
       "261673                                 0                                 0   \n",
       "18719                                  0                                 0   \n",
       "122374                                 1                                 0   \n",
       "208458                                 0                                 0   \n",
       "234969                                 1                                 0   \n",
       "...                                  ...                               ...   \n",
       "249566                                 0                                 0   \n",
       "190555                                 0                                 0   \n",
       "246288                                 0                                 0   \n",
       "116164                                 0                                 0   \n",
       "271943                                 0                                 0   \n",
       "\n",
       "        primary_sales_product_type_TRIP  \n",
       "261673                                0  \n",
       "18719                                 0  \n",
       "122374                                0  \n",
       "208458                                0  \n",
       "234969                                0  \n",
       "...                                 ...  \n",
       "249566                                0  \n",
       "190555                                1  \n",
       "246288                                0  \n",
       "116164                                1  \n",
       "271943                                0  \n",
       "\n",
       "[144582 rows x 6 columns]"
      ]
     },
     "execution_count": 460,
     "metadata": {},
     "output_type": "execute_result"
    }
   ],
   "source": [
    "X_train"
   ]
  },
  {
   "cell_type": "code",
   "execution_count": null,
   "metadata": {
    "id": "Ygniv9TyL3WY",
    "outputId": "9d7d4136-6980-47e5-de49-8b1eae4686f6"
   },
   "outputs": [
    {
     "name": "stderr",
     "output_type": "stream",
     "text": [
      "C:\\Users\\Nakama\\Anaconda3\\lib\\site-packages\\sklearn\\linear_model\\logistic.py:432: FutureWarning:\n",
      "\n",
      "Default solver will be changed to 'lbfgs' in 0.22. Specify a solver to silence this warning.\n",
      "\n",
      "C:\\Users\\Nakama\\Anaconda3\\lib\\site-packages\\sklearn\\linear_model\\base.py:291: DeprecationWarning:\n",
      "\n",
      "`np.int` is a deprecated alias for the builtin `int`. To silence this warning, use `int` by itself. Doing this will not modify any behavior and is safe. When replacing `np.int`, you may wish to use e.g. `np.int64` or `np.int32` to specify the precision. If you wish to review your current use, check the release note link for additional information.\n",
      "Deprecated in NumPy 1.20; for more details and guidance: https://numpy.org/devdocs/release/1.20.0-notes.html#deprecations\n",
      "\n"
     ]
    }
   ],
   "source": [
    "classifier = LogisticRegression(random_state =123)\n",
    "classifier.fit(X_train, y_train)\n",
    "\n",
    "y_pred = classifier.predict(X_test)\n"
   ]
  },
  {
   "cell_type": "code",
   "execution_count": null,
   "metadata": {
    "id": "bWnEmqCjL3WY",
    "outputId": "1b898a96-2971-43cd-c58a-b99a84688bfe"
   },
   "outputs": [
    {
     "data": {
      "text/plain": [
       "array([[-0.02007025, -0.00219529,  0.65739024,  0.25996281, -0.44959416,\n",
       "        -0.64366183]])"
      ]
     },
     "execution_count": 462,
     "metadata": {},
     "output_type": "execute_result"
    }
   ],
   "source": [
    "classifier.coef_"
   ]
  },
  {
   "cell_type": "markdown",
   "metadata": {
    "id": "yDPX2vPFL3WZ"
   },
   "source": [
    "### Evaluation Metrics"
   ]
  },
  {
   "cell_type": "code",
   "execution_count": null,
   "metadata": {
    "id": "kWL5qU1OL3WZ",
    "outputId": "f482a0bc-455c-414d-dd06-29a73b97932c"
   },
   "outputs": [
    {
     "data": {
      "text/plain": [
       "array([[26078, 11302],\n",
       "       [ 9703, 14881]], dtype=int64)"
      ]
     },
     "execution_count": 463,
     "metadata": {},
     "output_type": "execute_result"
    }
   ],
   "source": [
    "cm = confusion_matrix(y_test, y_pred)\n",
    "cm"
   ]
  },
  {
   "cell_type": "code",
   "execution_count": null,
   "metadata": {
    "id": "eEfszp8EL3Wa",
    "outputId": "241885fc-3dc3-4c23-ab78-77b8f2657952"
   },
   "outputs": [
    {
     "name": "stdout",
     "output_type": "stream",
     "text": [
      "              precision    recall  f1-score   support\n",
      "\n",
      "           0       0.73      0.70      0.71     37380\n",
      "           1       0.57      0.61      0.59     24584\n",
      "\n",
      "    accuracy                           0.66     61964\n",
      "   macro avg       0.65      0.65      0.65     61964\n",
      "weighted avg       0.67      0.66      0.66     61964\n",
      "\n"
     ]
    }
   ],
   "source": [
    "print(classification_report(y_test, y_pred))\n"
   ]
  },
  {
   "cell_type": "code",
   "execution_count": null,
   "metadata": {
    "id": "CfCKE4APL3Wa",
    "outputId": "9140eaeb-1c16-4dde-8fff-59f43eeadc8e"
   },
   "outputs": [
    {
     "name": "stdout",
     "output_type": "stream",
     "text": [
      "Confucion Matrix : \n",
      " [[26078 11302]\n",
      " [ 9703 14881]]\n",
      "Accuracy:  0.6610128461687431\n",
      "Sensitivity:  0.6053123983078424\n",
      "Specificity:  0.6976457998929909\n",
      "Precision:  0.5683458732765535\n"
     ]
    }
   ],
   "source": [
    "total = sum(sum(cm))\n",
    "accuracy = (cm[0,0]+cm[1,1])/total\n",
    "sensitivity = cm[1,1]/(cm[1,0]+cm[1,1])\n",
    "specificity = cm[0,0]/(cm[0,0]+cm[0,1])\n",
    "precision = cm[1,1]/(cm[0,1]+cm[1,1])\n",
    "\n",
    "print('Confucion Matrix : \\n', cm)\n",
    "print('Accuracy: ', accuracy)\n",
    "print('Sensitivity: ', sensitivity)\n",
    "print('Specificity: ', specificity)\n",
    "print('Precision: ', precision)\n",
    "\n",
    "# cm[0,0] --> false negative\n",
    "# cm[0,1] --> false positive\n",
    "# cm[1,0] --> "
   ]
  },
  {
   "cell_type": "code",
   "execution_count": null,
   "metadata": {
    "id": "8f8CV02DL3Wb"
   },
   "outputs": [],
   "source": [
    "# sensivity = dr yg actually churn, % yg predicted correctly churn\n",
    "# precision = dr yang terpredidiksi churn, % yg predicted correctly churn"
   ]
  },
  {
   "cell_type": "markdown",
   "metadata": {
    "id": "F2_IcpWUL3Wc"
   },
   "source": [
    "### Using Statsmodel"
   ]
  },
  {
   "cell_type": "code",
   "execution_count": null,
   "metadata": {
    "id": "jdxZu9MQL3Wc",
    "outputId": "85aafcd6-9c8f-490f-9081-596aba545613"
   },
   "outputs": [
    {
     "name": "stdout",
     "output_type": "stream",
     "text": [
      "Optimization terminated successfully.\n",
      "         Current function value: 0.597860\n",
      "         Iterations 7\n"
     ]
    }
   ],
   "source": [
    " # importing libraries\n",
    "import statsmodels.api as sm\n",
    "\n",
    "# building the model and fitting the data\n",
    "log_reg = sm.Logit(y_train, X_train).fit()\n"
   ]
  },
  {
   "cell_type": "code",
   "execution_count": null,
   "metadata": {
    "id": "0t5tMCMjL3Wc",
    "outputId": "cb41401b-bca1-43a2-a6f9-c89ebe0026e5"
   },
   "outputs": [
    {
     "name": "stdout",
     "output_type": "stream",
     "text": [
      "                           Logit Regression Results                           \n",
      "==============================================================================\n",
      "Dep. Variable:                  label   No. Observations:               144582\n",
      "Model:                          Logit   Df Residuals:                   144576\n",
      "Method:                           MLE   Df Model:                            5\n",
      "Date:                Fri, 14 May 2021   Pseudo R-squ.:                  0.1106\n",
      "Time:                        19:58:20   Log-Likelihood:                -86440.\n",
      "converged:                       True   LL-Null:                       -97191.\n",
      "Covariance Type:            nonrobust   LLR p-value:                     0.000\n",
      "=====================================================================================================\n",
      "                                        coef    std err          z      P>|z|      [0.025      0.975]\n",
      "-----------------------------------------------------------------------------------------------------\n",
      "count_issued                         -0.0201      0.001    -19.131      0.000      -0.022      -0.018\n",
      "day_diff_issue_time                  -0.0022   2.73e-05    -80.269      0.000      -0.002      -0.002\n",
      "primary_sales_product_type_FLIGHT     0.4816      0.010     50.560      0.000       0.463       0.500\n",
      "primary_sales_product_type_HOTEL      0.0841      0.011      7.880      0.000       0.063       0.105\n",
      "primary_sales_product_type_TRAIN     -0.6258      0.015    -40.917      0.000      -0.656      -0.596\n",
      "primary_sales_product_type_TRIP      -0.8341      0.044    -19.035      0.000      -0.920      -0.748\n",
      "=====================================================================================================\n"
     ]
    }
   ],
   "source": [
    "# printing the summary table\n",
    "print(log_reg.summary())"
   ]
  },
  {
   "cell_type": "markdown",
   "metadata": {
    "id": "cv-o1r2XL3Wd"
   },
   "source": [
    "### Plot ROC AUC Curve"
   ]
  },
  {
   "cell_type": "code",
   "execution_count": null,
   "metadata": {
    "id": "IMH_rPW5L3Wd",
    "outputId": "56f100eb-4c42-4e91-be55-7f4884ed3f09"
   },
   "outputs": [
    {
     "name": "stderr",
     "output_type": "stream",
     "text": [
      "C:\\Users\\Nakama\\Anaconda3\\lib\\site-packages\\sklearn\\linear_model\\base.py:291: DeprecationWarning:\n",
      "\n",
      "`np.int` is a deprecated alias for the builtin `int`. To silence this warning, use `int` by itself. Doing this will not modify any behavior and is safe. When replacing `np.int`, you may wish to use e.g. `np.int64` or `np.int32` to specify the precision. If you wish to review your current use, check the release note link for additional information.\n",
      "Deprecated in NumPy 1.20; for more details and guidance: https://numpy.org/devdocs/release/1.20.0-notes.html#deprecations\n",
      "\n"
     ]
    },
    {
     "data": {
      "image/png": "[encoded data removed]",
      "text/plain": [
       "<Figure size 432x288 with 1 Axes>"
      ]
     },
     "metadata": {
      "needs_background": "light"
     },
     "output_type": "display_data"
    }
   ],
   "source": [
    "# Building ROC curve\n",
    "rf_roc_auc = roc_auc_score(y_test, classifier.predict(X_test))\n",
    "fpr, tpr, thresholds = roc_curve(y_test, classifier.predict_proba(X_test)[:,1])\n",
    "plt.figure()\n",
    "plt.plot(fpr, tpr, label='Logistic Regression (area = %0.3f)' % rf_roc_auc)\n",
    "plt.plot([0, 1], [0, 1],'r--')\n",
    "plt.xlim([0.0, 1.0])\n",
    "plt.ylim([0.0, 1.05])\n",
    "plt.xlabel('False Positive Rate', fontsize=14)\n",
    "plt.ylabel('True Positive Rate', fontsize=14)\n",
    "plt.title('Receiver Operating Characteristic (ROC)', fontsize=16)\n",
    "plt.legend(loc=\"lower right\", fontsize=14)\n",
    "plt.savefig('RF_ROC', fontsize=14)\n",
    "plt.show();"
   ]
  },
  {
   "cell_type": "code",
   "execution_count": null,
   "metadata": {
    "id": "__si3bdTL3Wd"
   },
   "outputs": [],
   "source": [
    "pd.set_option('display.float_format', lambda x: '%.10f' % x)"
   ]
  },
  {
   "cell_type": "markdown",
   "metadata": {
    "id": "JvDckVvRL3We"
   },
   "source": [
    "### Feature Importance"
   ]
  },
  {
   "cell_type": "code",
   "execution_count": null,
   "metadata": {
    "id": "KTKnEL1oL3We",
    "outputId": "9aed176b-89f0-4533-872a-3096dcfe0241"
   },
   "outputs": [
    {
     "data": {
      "text/html": [
       "<div>\n",
       "<style scoped>\n",
       "    .dataframe tbody tr th:only-of-type {\n",
       "        vertical-align: middle;\n",
       "    }\n",
       "\n",
       "    .dataframe tbody tr th {\n",
       "        vertical-align: top;\n",
       "    }\n",
       "\n",
       "    .dataframe thead th {\n",
       "        text-align: right;\n",
       "    }\n",
       "</style>\n",
       "<table border=\"1\" class=\"dataframe\">\n",
       "  <thead>\n",
       "    <tr style=\"text-align: right;\">\n",
       "      <th></th>\n",
       "      <th>features</th>\n",
       "      <th>coef</th>\n",
       "    </tr>\n",
       "  </thead>\n",
       "  <tbody>\n",
       "    <tr>\n",
       "      <th>2</th>\n",
       "      <td>primary_sales_product_type_FLIGHT</td>\n",
       "      <td>0.65739</td>\n",
       "    </tr>\n",
       "    <tr>\n",
       "      <th>3</th>\n",
       "      <td>primary_sales_product_type_HOTEL</td>\n",
       "      <td>0.25996</td>\n",
       "    </tr>\n",
       "    <tr>\n",
       "      <th>1</th>\n",
       "      <td>day_diff_issue_time</td>\n",
       "      <td>-0.00220</td>\n",
       "    </tr>\n",
       "    <tr>\n",
       "      <th>0</th>\n",
       "      <td>count_issued</td>\n",
       "      <td>-0.02007</td>\n",
       "    </tr>\n",
       "    <tr>\n",
       "      <th>4</th>\n",
       "      <td>primary_sales_product_type_TRAIN</td>\n",
       "      <td>-0.44959</td>\n",
       "    </tr>\n",
       "    <tr>\n",
       "      <th>5</th>\n",
       "      <td>primary_sales_product_type_TRIP</td>\n",
       "      <td>-0.64366</td>\n",
       "    </tr>\n",
       "  </tbody>\n",
       "</table>\n",
       "</div>"
      ],
      "text/plain": [
       "                            features     coef\n",
       "2  primary_sales_product_type_FLIGHT  0.65739\n",
       "3   primary_sales_product_type_HOTEL  0.25996\n",
       "1                day_diff_issue_time -0.00220\n",
       "0                       count_issued -0.02007\n",
       "4   primary_sales_product_type_TRAIN -0.44959\n",
       "5    primary_sales_product_type_TRIP -0.64366"
      ]
     },
     "execution_count": 469,
     "metadata": {},
     "output_type": "execute_result"
    }
   ],
   "source": [
    "# Analyzing Coefficients\n",
    "feature_importances = pd.concat([pd.DataFrame(X.drop(columns = ['profile_id']).columns, columns = [\"features\"]),\n",
    "           pd.DataFrame(np.transpose(classifier.coef_), columns = [\"coef\"])\n",
    "           ],axis = 1)\n",
    "\n",
    "feature_importances.sort_values(\"coef\", ascending = False)"
   ]
  },
  {
   "cell_type": "code",
   "execution_count": null,
   "metadata": {
    "id": "WJb6wzSwL3We"
   },
   "outputs": [],
   "source": []
  },
  {
   "cell_type": "code",
   "execution_count": null,
   "metadata": {
    "id": "0-jMpK3-L3Wf",
    "outputId": "69a3f7ef-ddfe-4c57-fa5b-74bfc110ed56"
   },
   "outputs": [
    {
     "data": {
      "text/html": [
       "<div>\n",
       "<style scoped>\n",
       "    .dataframe tbody tr th:only-of-type {\n",
       "        vertical-align: middle;\n",
       "    }\n",
       "\n",
       "    .dataframe tbody tr th {\n",
       "        vertical-align: top;\n",
       "    }\n",
       "\n",
       "    .dataframe thead th {\n",
       "        text-align: right;\n",
       "    }\n",
       "</style>\n",
       "<table border=\"1\" class=\"dataframe\">\n",
       "  <thead>\n",
       "    <tr style=\"text-align: right;\">\n",
       "      <th></th>\n",
       "      <th>profile_id</th>\n",
       "      <th>avg_issued_invoice_amount_idr</th>\n",
       "      <th>count_issued</th>\n",
       "      <th>day_diff</th>\n",
       "      <th>day_diff_issue_time</th>\n",
       "      <th>cvr</th>\n",
       "      <th>primary_sales_product_type_FLIGHT</th>\n",
       "      <th>primary_sales_product_type_HOTEL</th>\n",
       "      <th>primary_sales_product_type_TRAIN</th>\n",
       "      <th>primary_sales_product_type_TRIP</th>\n",
       "    </tr>\n",
       "  </thead>\n",
       "  <tbody>\n",
       "    <tr>\n",
       "      <th>0</th>\n",
       "      <td>3632279</td>\n",
       "      <td>1193236.77778</td>\n",
       "      <td>18</td>\n",
       "      <td>119.00000</td>\n",
       "      <td>838.00000</td>\n",
       "      <td>0.56250</td>\n",
       "      <td>0</td>\n",
       "      <td>1</td>\n",
       "      <td>0</td>\n",
       "      <td>0</td>\n",
       "    </tr>\n",
       "    <tr>\n",
       "      <th>1</th>\n",
       "      <td>3632279</td>\n",
       "      <td>1031981.66667</td>\n",
       "      <td>33</td>\n",
       "      <td>38.00000</td>\n",
       "      <td>1616.00000</td>\n",
       "      <td>0.56897</td>\n",
       "      <td>1</td>\n",
       "      <td>0</td>\n",
       "      <td>0</td>\n",
       "      <td>0</td>\n",
       "    </tr>\n",
       "    <tr>\n",
       "      <th>2</th>\n",
       "      <td>17407638</td>\n",
       "      <td>252776.16667</td>\n",
       "      <td>24</td>\n",
       "      <td>8.00000</td>\n",
       "      <td>636.00000</td>\n",
       "      <td>0.38710</td>\n",
       "      <td>0</td>\n",
       "      <td>0</td>\n",
       "      <td>1</td>\n",
       "      <td>0</td>\n",
       "    </tr>\n",
       "    <tr>\n",
       "      <th>3</th>\n",
       "      <td>17407638</td>\n",
       "      <td>587505.95455</td>\n",
       "      <td>22</td>\n",
       "      <td>16.00000</td>\n",
       "      <td>628.00000</td>\n",
       "      <td>0.61111</td>\n",
       "      <td>0</td>\n",
       "      <td>1</td>\n",
       "      <td>0</td>\n",
       "      <td>0</td>\n",
       "    </tr>\n",
       "    <tr>\n",
       "      <th>4</th>\n",
       "      <td>4618047</td>\n",
       "      <td>1443118.30000</td>\n",
       "      <td>20</td>\n",
       "      <td>71.00000</td>\n",
       "      <td>1316.00000</td>\n",
       "      <td>0.37736</td>\n",
       "      <td>1</td>\n",
       "      <td>0</td>\n",
       "      <td>0</td>\n",
       "      <td>0</td>\n",
       "    </tr>\n",
       "    <tr>\n",
       "      <th>...</th>\n",
       "      <td>...</td>\n",
       "      <td>...</td>\n",
       "      <td>...</td>\n",
       "      <td>...</td>\n",
       "      <td>...</td>\n",
       "      <td>...</td>\n",
       "      <td>...</td>\n",
       "      <td>...</td>\n",
       "      <td>...</td>\n",
       "      <td>...</td>\n",
       "    </tr>\n",
       "    <tr>\n",
       "      <th>279144</th>\n",
       "      <td>18742450</td>\n",
       "      <td>871852.43750</td>\n",
       "      <td>16</td>\n",
       "      <td>376.00000</td>\n",
       "      <td>214.00000</td>\n",
       "      <td>0.88889</td>\n",
       "      <td>1</td>\n",
       "      <td>0</td>\n",
       "      <td>0</td>\n",
       "      <td>0</td>\n",
       "    </tr>\n",
       "    <tr>\n",
       "      <th>279145</th>\n",
       "      <td>3384069</td>\n",
       "      <td>621091.31250</td>\n",
       "      <td>16</td>\n",
       "      <td>1132.00000</td>\n",
       "      <td>362.00000</td>\n",
       "      <td>0.76190</td>\n",
       "      <td>0</td>\n",
       "      <td>1</td>\n",
       "      <td>0</td>\n",
       "      <td>0</td>\n",
       "    </tr>\n",
       "    <tr>\n",
       "      <th>279146</th>\n",
       "      <td>14557207</td>\n",
       "      <td>179923.81250</td>\n",
       "      <td>16</td>\n",
       "      <td>0.00000</td>\n",
       "      <td>436.00000</td>\n",
       "      <td>0.55172</td>\n",
       "      <td>0</td>\n",
       "      <td>0</td>\n",
       "      <td>1</td>\n",
       "      <td>0</td>\n",
       "    </tr>\n",
       "    <tr>\n",
       "      <th>279147</th>\n",
       "      <td>8309553</td>\n",
       "      <td>794472.00000</td>\n",
       "      <td>16</td>\n",
       "      <td>449.00000</td>\n",
       "      <td>519.00000</td>\n",
       "      <td>0.47059</td>\n",
       "      <td>1</td>\n",
       "      <td>0</td>\n",
       "      <td>0</td>\n",
       "      <td>0</td>\n",
       "    </tr>\n",
       "    <tr>\n",
       "      <th>279148</th>\n",
       "      <td>3635036</td>\n",
       "      <td>1145964.31250</td>\n",
       "      <td>16</td>\n",
       "      <td>149.00000</td>\n",
       "      <td>1493.00000</td>\n",
       "      <td>0.59259</td>\n",
       "      <td>1</td>\n",
       "      <td>0</td>\n",
       "      <td>0</td>\n",
       "      <td>0</td>\n",
       "    </tr>\n",
       "  </tbody>\n",
       "</table>\n",
       "<p>206546 rows × 10 columns</p>\n",
       "</div>"
      ],
      "text/plain": [
       "        profile_id  avg_issued_invoice_amount_idr  count_issued   day_diff  \\\n",
       "0          3632279                  1193236.77778            18  119.00000   \n",
       "1          3632279                  1031981.66667            33   38.00000   \n",
       "2         17407638                   252776.16667            24    8.00000   \n",
       "3         17407638                   587505.95455            22   16.00000   \n",
       "4          4618047                  1443118.30000            20   71.00000   \n",
       "...            ...                            ...           ...        ...   \n",
       "279144    18742450                   871852.43750            16  376.00000   \n",
       "279145     3384069                   621091.31250            16 1132.00000   \n",
       "279146    14557207                   179923.81250            16    0.00000   \n",
       "279147     8309553                   794472.00000            16  449.00000   \n",
       "279148     3635036                  1145964.31250            16  149.00000   \n",
       "\n",
       "        day_diff_issue_time     cvr  primary_sales_product_type_FLIGHT  \\\n",
       "0                 838.00000 0.56250                                  0   \n",
       "1                1616.00000 0.56897                                  1   \n",
       "2                 636.00000 0.38710                                  0   \n",
       "3                 628.00000 0.61111                                  0   \n",
       "4                1316.00000 0.37736                                  1   \n",
       "...                     ...     ...                                ...   \n",
       "279144            214.00000 0.88889                                  1   \n",
       "279145            362.00000 0.76190                                  0   \n",
       "279146            436.00000 0.55172                                  0   \n",
       "279147            519.00000 0.47059                                  1   \n",
       "279148           1493.00000 0.59259                                  1   \n",
       "\n",
       "        primary_sales_product_type_HOTEL  primary_sales_product_type_TRAIN  \\\n",
       "0                                      1                                 0   \n",
       "1                                      0                                 0   \n",
       "2                                      0                                 1   \n",
       "3                                      1                                 0   \n",
       "4                                      0                                 0   \n",
       "...                                  ...                               ...   \n",
       "279144                                 0                                 0   \n",
       "279145                                 1                                 0   \n",
       "279146                                 0                                 1   \n",
       "279147                                 0                                 0   \n",
       "279148                                 0                                 0   \n",
       "\n",
       "        primary_sales_product_type_TRIP  \n",
       "0                                     0  \n",
       "1                                     0  \n",
       "2                                     0  \n",
       "3                                     0  \n",
       "4                                     0  \n",
       "...                                 ...  \n",
       "279144                                0  \n",
       "279145                                0  \n",
       "279146                                0  \n",
       "279147                                0  \n",
       "279148                                0  \n",
       "\n",
       "[206546 rows x 10 columns]"
      ]
     },
     "execution_count": 283,
     "metadata": {},
     "output_type": "execute_result"
    }
   ],
   "source": [
    "X"
   ]
  },
  {
   "cell_type": "code",
   "execution_count": null,
   "metadata": {
    "id": "N03rG73yL3Wf",
    "outputId": "0a32c93f-e145-49e5-da11-687e081262df"
   },
   "outputs": [
    {
     "data": {
      "text/html": [
       "<div>\n",
       "<style scoped>\n",
       "    .dataframe tbody tr th:only-of-type {\n",
       "        vertical-align: middle;\n",
       "    }\n",
       "\n",
       "    .dataframe tbody tr th {\n",
       "        vertical-align: top;\n",
       "    }\n",
       "\n",
       "    .dataframe thead th {\n",
       "        text-align: right;\n",
       "    }\n",
       "</style>\n",
       "<table border=\"1\" class=\"dataframe\">\n",
       "  <thead>\n",
       "    <tr style=\"text-align: right;\">\n",
       "      <th></th>\n",
       "      <th>profile_id</th>\n",
       "      <th>avg_issued_invoice_amount_idr</th>\n",
       "      <th>count_issued</th>\n",
       "      <th>day_diff</th>\n",
       "      <th>day_diff_issue_time</th>\n",
       "      <th>cvr</th>\n",
       "      <th>primary_sales_product_type_FLIGHT</th>\n",
       "      <th>primary_sales_product_type_HOTEL</th>\n",
       "      <th>primary_sales_product_type_TRAIN</th>\n",
       "      <th>primary_sales_product_type_TRIP</th>\n",
       "    </tr>\n",
       "  </thead>\n",
       "  <tbody>\n",
       "    <tr>\n",
       "      <th>0</th>\n",
       "      <td>3632279</td>\n",
       "      <td>1193236.77778</td>\n",
       "      <td>18</td>\n",
       "      <td>119.00000</td>\n",
       "      <td>838.00000</td>\n",
       "      <td>0.56250</td>\n",
       "      <td>0</td>\n",
       "      <td>1</td>\n",
       "      <td>0</td>\n",
       "      <td>0</td>\n",
       "    </tr>\n",
       "    <tr>\n",
       "      <th>1</th>\n",
       "      <td>3632279</td>\n",
       "      <td>1031981.66667</td>\n",
       "      <td>33</td>\n",
       "      <td>38.00000</td>\n",
       "      <td>1616.00000</td>\n",
       "      <td>0.56897</td>\n",
       "      <td>1</td>\n",
       "      <td>0</td>\n",
       "      <td>0</td>\n",
       "      <td>0</td>\n",
       "    </tr>\n",
       "    <tr>\n",
       "      <th>2</th>\n",
       "      <td>17407638</td>\n",
       "      <td>252776.16667</td>\n",
       "      <td>24</td>\n",
       "      <td>8.00000</td>\n",
       "      <td>636.00000</td>\n",
       "      <td>0.38710</td>\n",
       "      <td>0</td>\n",
       "      <td>0</td>\n",
       "      <td>1</td>\n",
       "      <td>0</td>\n",
       "    </tr>\n",
       "    <tr>\n",
       "      <th>3</th>\n",
       "      <td>17407638</td>\n",
       "      <td>587505.95455</td>\n",
       "      <td>22</td>\n",
       "      <td>16.00000</td>\n",
       "      <td>628.00000</td>\n",
       "      <td>0.61111</td>\n",
       "      <td>0</td>\n",
       "      <td>1</td>\n",
       "      <td>0</td>\n",
       "      <td>0</td>\n",
       "    </tr>\n",
       "    <tr>\n",
       "      <th>4</th>\n",
       "      <td>4618047</td>\n",
       "      <td>1443118.30000</td>\n",
       "      <td>20</td>\n",
       "      <td>71.00000</td>\n",
       "      <td>1316.00000</td>\n",
       "      <td>0.37736</td>\n",
       "      <td>1</td>\n",
       "      <td>0</td>\n",
       "      <td>0</td>\n",
       "      <td>0</td>\n",
       "    </tr>\n",
       "    <tr>\n",
       "      <th>...</th>\n",
       "      <td>...</td>\n",
       "      <td>...</td>\n",
       "      <td>...</td>\n",
       "      <td>...</td>\n",
       "      <td>...</td>\n",
       "      <td>...</td>\n",
       "      <td>...</td>\n",
       "      <td>...</td>\n",
       "      <td>...</td>\n",
       "      <td>...</td>\n",
       "    </tr>\n",
       "    <tr>\n",
       "      <th>279144</th>\n",
       "      <td>18742450</td>\n",
       "      <td>871852.43750</td>\n",
       "      <td>16</td>\n",
       "      <td>376.00000</td>\n",
       "      <td>214.00000</td>\n",
       "      <td>0.88889</td>\n",
       "      <td>1</td>\n",
       "      <td>0</td>\n",
       "      <td>0</td>\n",
       "      <td>0</td>\n",
       "    </tr>\n",
       "    <tr>\n",
       "      <th>279145</th>\n",
       "      <td>3384069</td>\n",
       "      <td>621091.31250</td>\n",
       "      <td>16</td>\n",
       "      <td>1132.00000</td>\n",
       "      <td>362.00000</td>\n",
       "      <td>0.76190</td>\n",
       "      <td>0</td>\n",
       "      <td>1</td>\n",
       "      <td>0</td>\n",
       "      <td>0</td>\n",
       "    </tr>\n",
       "    <tr>\n",
       "      <th>279146</th>\n",
       "      <td>14557207</td>\n",
       "      <td>179923.81250</td>\n",
       "      <td>16</td>\n",
       "      <td>0.00000</td>\n",
       "      <td>436.00000</td>\n",
       "      <td>0.55172</td>\n",
       "      <td>0</td>\n",
       "      <td>0</td>\n",
       "      <td>1</td>\n",
       "      <td>0</td>\n",
       "    </tr>\n",
       "    <tr>\n",
       "      <th>279147</th>\n",
       "      <td>8309553</td>\n",
       "      <td>794472.00000</td>\n",
       "      <td>16</td>\n",
       "      <td>449.00000</td>\n",
       "      <td>519.00000</td>\n",
       "      <td>0.47059</td>\n",
       "      <td>1</td>\n",
       "      <td>0</td>\n",
       "      <td>0</td>\n",
       "      <td>0</td>\n",
       "    </tr>\n",
       "    <tr>\n",
       "      <th>279148</th>\n",
       "      <td>3635036</td>\n",
       "      <td>1145964.31250</td>\n",
       "      <td>16</td>\n",
       "      <td>149.00000</td>\n",
       "      <td>1493.00000</td>\n",
       "      <td>0.59259</td>\n",
       "      <td>1</td>\n",
       "      <td>0</td>\n",
       "      <td>0</td>\n",
       "      <td>0</td>\n",
       "    </tr>\n",
       "  </tbody>\n",
       "</table>\n",
       "<p>206546 rows × 10 columns</p>\n",
       "</div>"
      ],
      "text/plain": [
       "        profile_id  avg_issued_invoice_amount_idr  count_issued   day_diff  \\\n",
       "0          3632279                  1193236.77778            18  119.00000   \n",
       "1          3632279                  1031981.66667            33   38.00000   \n",
       "2         17407638                   252776.16667            24    8.00000   \n",
       "3         17407638                   587505.95455            22   16.00000   \n",
       "4          4618047                  1443118.30000            20   71.00000   \n",
       "...            ...                            ...           ...        ...   \n",
       "279144    18742450                   871852.43750            16  376.00000   \n",
       "279145     3384069                   621091.31250            16 1132.00000   \n",
       "279146    14557207                   179923.81250            16    0.00000   \n",
       "279147     8309553                   794472.00000            16  449.00000   \n",
       "279148     3635036                  1145964.31250            16  149.00000   \n",
       "\n",
       "        day_diff_issue_time     cvr  primary_sales_product_type_FLIGHT  \\\n",
       "0                 838.00000 0.56250                                  0   \n",
       "1                1616.00000 0.56897                                  1   \n",
       "2                 636.00000 0.38710                                  0   \n",
       "3                 628.00000 0.61111                                  0   \n",
       "4                1316.00000 0.37736                                  1   \n",
       "...                     ...     ...                                ...   \n",
       "279144            214.00000 0.88889                                  1   \n",
       "279145            362.00000 0.76190                                  0   \n",
       "279146            436.00000 0.55172                                  0   \n",
       "279147            519.00000 0.47059                                  1   \n",
       "279148           1493.00000 0.59259                                  1   \n",
       "\n",
       "        primary_sales_product_type_HOTEL  primary_sales_product_type_TRAIN  \\\n",
       "0                                      1                                 0   \n",
       "1                                      0                                 0   \n",
       "2                                      0                                 1   \n",
       "3                                      1                                 0   \n",
       "4                                      0                                 0   \n",
       "...                                  ...                               ...   \n",
       "279144                                 0                                 0   \n",
       "279145                                 1                                 0   \n",
       "279146                                 0                                 1   \n",
       "279147                                 0                                 0   \n",
       "279148                                 0                                 0   \n",
       "\n",
       "        primary_sales_product_type_TRIP  \n",
       "0                                     0  \n",
       "1                                     0  \n",
       "2                                     0  \n",
       "3                                     0  \n",
       "4                                     0  \n",
       "...                                 ...  \n",
       "279144                                0  \n",
       "279145                                0  \n",
       "279146                                0  \n",
       "279147                                0  \n",
       "279148                                0  \n",
       "\n",
       "[206546 rows x 10 columns]"
      ]
     },
     "execution_count": 275,
     "metadata": {},
     "output_type": "execute_result"
    }
   ],
   "source": [
    "X"
   ]
  },
  {
   "cell_type": "markdown",
   "metadata": {
    "id": "znpJJolcL3Wg"
   },
   "source": [
    "### Show Propensity Score"
   ]
  },
  {
   "cell_type": "code",
   "execution_count": null,
   "metadata": {
    "id": "0sDjTQ8fL3Wg",
    "outputId": "d2522583-5dbe-4425-9581-b3cbd19450f6"
   },
   "outputs": [
    {
     "data": {
      "text/plain": [
       "array([0.56228627, 0.50241133, 0.35859661, ..., 0.13956527, 0.60997331,\n",
       "       0.26703055])"
      ]
     },
     "execution_count": 453,
     "metadata": {},
     "output_type": "execute_result"
    }
   ],
   "source": [
    "#probability score\n",
    "y_pred_probs = classifier.predict_proba(X_test)\n",
    "y_pred_probs  = y_pred_probs [:, 1]\n",
    "y_pred_probs\n"
   ]
  },
  {
   "cell_type": "code",
   "execution_count": null,
   "metadata": {
    "id": "1RI0zgqEL3Wg",
    "outputId": "d4e30aa0-2eb9-45c6-8a67-cdf653ee2032"
   },
   "outputs": [
    {
     "data": {
      "text/html": [
       "<div>\n",
       "<style scoped>\n",
       "    .dataframe tbody tr th:only-of-type {\n",
       "        vertical-align: middle;\n",
       "    }\n",
       "\n",
       "    .dataframe tbody tr th {\n",
       "        vertical-align: top;\n",
       "    }\n",
       "\n",
       "    .dataframe thead th {\n",
       "        text-align: right;\n",
       "    }\n",
       "</style>\n",
       "<table border=\"1\" class=\"dataframe\">\n",
       "  <thead>\n",
       "    <tr style=\"text-align: right;\">\n",
       "      <th></th>\n",
       "      <th>profile_id</th>\n",
       "      <th>FLIGHT</th>\n",
       "      <th>HOTEL</th>\n",
       "      <th>TRAIN</th>\n",
       "      <th>TRIP</th>\n",
       "      <th>churn</th>\n",
       "      <th>predictions</th>\n",
       "      <th>propensity_to_churn(%)</th>\n",
       "      <th>Ranking</th>\n",
       "    </tr>\n",
       "  </thead>\n",
       "  <tbody>\n",
       "    <tr>\n",
       "      <th>199423</th>\n",
       "      <td>58600361</td>\n",
       "      <td>1</td>\n",
       "      <td>0</td>\n",
       "      <td>0</td>\n",
       "      <td>0</td>\n",
       "      <td>0</td>\n",
       "      <td>1</td>\n",
       "      <td>56.23000</td>\n",
       "      <td>3</td>\n",
       "    </tr>\n",
       "    <tr>\n",
       "      <th>144626</th>\n",
       "      <td>15460235</td>\n",
       "      <td>0</td>\n",
       "      <td>1</td>\n",
       "      <td>0</td>\n",
       "      <td>0</td>\n",
       "      <td>1</td>\n",
       "      <td>1</td>\n",
       "      <td>50.24000</td>\n",
       "      <td>5</td>\n",
       "    </tr>\n",
       "    <tr>\n",
       "      <th>204338</th>\n",
       "      <td>15567372</td>\n",
       "      <td>1</td>\n",
       "      <td>0</td>\n",
       "      <td>0</td>\n",
       "      <td>0</td>\n",
       "      <td>0</td>\n",
       "      <td>0</td>\n",
       "      <td>35.86000</td>\n",
       "      <td>6</td>\n",
       "    </tr>\n",
       "    <tr>\n",
       "      <th>160287</th>\n",
       "      <td>22977874</td>\n",
       "      <td>1</td>\n",
       "      <td>0</td>\n",
       "      <td>0</td>\n",
       "      <td>0</td>\n",
       "      <td>1</td>\n",
       "      <td>1</td>\n",
       "      <td>62.13000</td>\n",
       "      <td>1</td>\n",
       "    </tr>\n",
       "    <tr>\n",
       "      <th>182816</th>\n",
       "      <td>7965531</td>\n",
       "      <td>0</td>\n",
       "      <td>0</td>\n",
       "      <td>0</td>\n",
       "      <td>1</td>\n",
       "      <td>1</td>\n",
       "      <td>0</td>\n",
       "      <td>35.09000</td>\n",
       "      <td>6</td>\n",
       "    </tr>\n",
       "    <tr>\n",
       "      <th>...</th>\n",
       "      <td>...</td>\n",
       "      <td>...</td>\n",
       "      <td>...</td>\n",
       "      <td>...</td>\n",
       "      <td>...</td>\n",
       "      <td>...</td>\n",
       "      <td>...</td>\n",
       "      <td>...</td>\n",
       "      <td>...</td>\n",
       "    </tr>\n",
       "    <tr>\n",
       "      <th>145456</th>\n",
       "      <td>50066900</td>\n",
       "      <td>0</td>\n",
       "      <td>1</td>\n",
       "      <td>0</td>\n",
       "      <td>0</td>\n",
       "      <td>0</td>\n",
       "      <td>1</td>\n",
       "      <td>50.24000</td>\n",
       "      <td>4</td>\n",
       "    </tr>\n",
       "    <tr>\n",
       "      <th>16756</th>\n",
       "      <td>8445218</td>\n",
       "      <td>1</td>\n",
       "      <td>0</td>\n",
       "      <td>0</td>\n",
       "      <td>0</td>\n",
       "      <td>0</td>\n",
       "      <td>0</td>\n",
       "      <td>3.36000</td>\n",
       "      <td>10</td>\n",
       "    </tr>\n",
       "    <tr>\n",
       "      <th>11478</th>\n",
       "      <td>14669528</td>\n",
       "      <td>1</td>\n",
       "      <td>0</td>\n",
       "      <td>0</td>\n",
       "      <td>0</td>\n",
       "      <td>0</td>\n",
       "      <td>0</td>\n",
       "      <td>13.96000</td>\n",
       "      <td>9</td>\n",
       "    </tr>\n",
       "    <tr>\n",
       "      <th>167575</th>\n",
       "      <td>50354907</td>\n",
       "      <td>1</td>\n",
       "      <td>0</td>\n",
       "      <td>0</td>\n",
       "      <td>0</td>\n",
       "      <td>0</td>\n",
       "      <td>1</td>\n",
       "      <td>61.00000</td>\n",
       "      <td>1</td>\n",
       "    </tr>\n",
       "    <tr>\n",
       "      <th>168041</th>\n",
       "      <td>20522468</td>\n",
       "      <td>0</td>\n",
       "      <td>0</td>\n",
       "      <td>1</td>\n",
       "      <td>0</td>\n",
       "      <td>0</td>\n",
       "      <td>0</td>\n",
       "      <td>26.70000</td>\n",
       "      <td>8</td>\n",
       "    </tr>\n",
       "  </tbody>\n",
       "</table>\n",
       "<p>61964 rows × 9 columns</p>\n",
       "</div>"
      ],
      "text/plain": [
       "        profile_id  FLIGHT  HOTEL  TRAIN  TRIP  churn  predictions  \\\n",
       "199423    58600361       1      0      0     0      0            1   \n",
       "144626    15460235       0      1      0     0      1            1   \n",
       "204338    15567372       1      0      0     0      0            0   \n",
       "160287    22977874       1      0      0     0      1            1   \n",
       "182816     7965531       0      0      0     1      1            0   \n",
       "...            ...     ...    ...    ...   ...    ...          ...   \n",
       "145456    50066900       0      1      0     0      0            1   \n",
       "16756      8445218       1      0      0     0      0            0   \n",
       "11478     14669528       1      0      0     0      0            0   \n",
       "167575    50354907       1      0      0     0      0            1   \n",
       "168041    20522468       0      0      1     0      0            0   \n",
       "\n",
       "        propensity_to_churn(%) Ranking  \n",
       "199423                56.23000       3  \n",
       "144626                50.24000       5  \n",
       "204338                35.86000       6  \n",
       "160287                62.13000       1  \n",
       "182816                35.09000       6  \n",
       "...                        ...     ...  \n",
       "145456                50.24000       4  \n",
       "16756                  3.36000      10  \n",
       "11478                 13.96000       9  \n",
       "167575                61.00000       1  \n",
       "168041                26.70000       8  \n",
       "\n",
       "[61964 rows x 9 columns]"
      ]
     },
     "execution_count": 484,
     "metadata": {},
     "output_type": "execute_result"
    }
   ],
   "source": [
    "final_results = pd.concat([test_identity, y_test], axis = 1).dropna()\n",
    "\n",
    "final_results = pd.concat([final_results, X_test], axis = 1)\n",
    "\n",
    "final_results['predictions'] = y_pred\n",
    "\n",
    "final_results[\"propensity_to_churn(%)\"] = y_pred_probs\n",
    "\n",
    "final_results[\"propensity_to_churn(%)\"] = final_results[\"propensity_to_churn(%)\"]*100\n",
    "\n",
    "final_results[\"propensity_to_churn(%)\"]=final_results[\"propensity_to_churn(%)\"].round(2)\n",
    "\n",
    "final_results = final_results[['profile_id', 'primary_sales_product_type_FLIGHT','primary_sales_product_type_HOTEL',\n",
    "                               'primary_sales_product_type_TRAIN', 'primary_sales_product_type_TRIP',\n",
    "                               'label', 'predictions', 'propensity_to_churn(%)']]\n",
    "\n",
    "final_results ['Ranking'] = pd.qcut(final_results['propensity_to_churn(%)'].rank(method = 'first'),10,labels=range(10,0,-1))\n",
    "\n",
    "final_results = final_results.rename(columns={'label':'churn','primary_sales_product_type_FLIGHT': 'FLIGHT',\n",
    "                                             'primary_sales_product_type_HOTEL': 'HOTEL',\n",
    "                                             'primary_sales_product_type_TRAIN':'TRAIN',\n",
    "                                              'primary_sales_product_type_TRIP': 'TRIP'})\n",
    "final_results"
   ]
  },
  {
   "cell_type": "code",
   "execution_count": null,
   "metadata": {
    "id": "beuiZ5ryL3Wh"
   },
   "outputs": [],
   "source": []
  },
  {
   "cell_type": "code",
   "execution_count": null,
   "metadata": {
    "id": "ELEiqLLjL3Wh",
    "outputId": "b86e512c-22c3-4d06-a2e8-6d4c5f85643f"
   },
   "outputs": [
    {
     "data": {
      "text/html": [
       "<div>\n",
       "<style scoped>\n",
       "    .dataframe tbody tr th:only-of-type {\n",
       "        vertical-align: middle;\n",
       "    }\n",
       "\n",
       "    .dataframe tbody tr th {\n",
       "        vertical-align: top;\n",
       "    }\n",
       "\n",
       "    .dataframe thead th {\n",
       "        text-align: right;\n",
       "    }\n",
       "</style>\n",
       "<table border=\"1\" class=\"dataframe\">\n",
       "  <thead>\n",
       "    <tr style=\"text-align: right;\">\n",
       "      <th></th>\n",
       "      <th>profile_id</th>\n",
       "      <th>label</th>\n",
       "      <th>count_issued</th>\n",
       "      <th>day_diff_issue_time</th>\n",
       "      <th>primary_sales_product_type_FLIGHT</th>\n",
       "      <th>primary_sales_product_type_HOTEL</th>\n",
       "      <th>primary_sales_product_type_TRAIN</th>\n",
       "      <th>primary_sales_product_type_TRIP</th>\n",
       "    </tr>\n",
       "  </thead>\n",
       "  <tbody>\n",
       "    <tr>\n",
       "      <th>199423</th>\n",
       "      <td>58600361</td>\n",
       "      <td>0</td>\n",
       "      <td>2</td>\n",
       "      <td>69.00000</td>\n",
       "      <td>1</td>\n",
       "      <td>0</td>\n",
       "      <td>0</td>\n",
       "      <td>0</td>\n",
       "    </tr>\n",
       "    <tr>\n",
       "      <th>144626</th>\n",
       "      <td>15460235</td>\n",
       "      <td>1</td>\n",
       "      <td>1</td>\n",
       "      <td>0.00000</td>\n",
       "      <td>0</td>\n",
       "      <td>1</td>\n",
       "      <td>0</td>\n",
       "      <td>0</td>\n",
       "    </tr>\n",
       "    <tr>\n",
       "      <th>204338</th>\n",
       "      <td>15567372</td>\n",
       "      <td>0</td>\n",
       "      <td>3</td>\n",
       "      <td>439.00000</td>\n",
       "      <td>1</td>\n",
       "      <td>0</td>\n",
       "      <td>0</td>\n",
       "      <td>0</td>\n",
       "    </tr>\n",
       "    <tr>\n",
       "      <th>160287</th>\n",
       "      <td>22977874</td>\n",
       "      <td>1</td>\n",
       "      <td>1</td>\n",
       "      <td>0.00000</td>\n",
       "      <td>1</td>\n",
       "      <td>0</td>\n",
       "      <td>0</td>\n",
       "      <td>0</td>\n",
       "    </tr>\n",
       "    <tr>\n",
       "      <th>182816</th>\n",
       "      <td>7965531</td>\n",
       "      <td>1</td>\n",
       "      <td>2</td>\n",
       "      <td>27.00000</td>\n",
       "      <td>0</td>\n",
       "      <td>0</td>\n",
       "      <td>0</td>\n",
       "      <td>1</td>\n",
       "    </tr>\n",
       "    <tr>\n",
       "      <th>...</th>\n",
       "      <td>...</td>\n",
       "      <td>...</td>\n",
       "      <td>...</td>\n",
       "      <td>...</td>\n",
       "      <td>...</td>\n",
       "      <td>...</td>\n",
       "      <td>...</td>\n",
       "      <td>...</td>\n",
       "    </tr>\n",
       "    <tr>\n",
       "      <th>145456</th>\n",
       "      <td>50066900</td>\n",
       "      <td>0</td>\n",
       "      <td>1</td>\n",
       "      <td>0.00000</td>\n",
       "      <td>0</td>\n",
       "      <td>1</td>\n",
       "      <td>0</td>\n",
       "      <td>0</td>\n",
       "    </tr>\n",
       "    <tr>\n",
       "      <th>16756</th>\n",
       "      <td>8445218</td>\n",
       "      <td>0</td>\n",
       "      <td>75</td>\n",
       "      <td>1056.00000</td>\n",
       "      <td>1</td>\n",
       "      <td>0</td>\n",
       "      <td>0</td>\n",
       "      <td>0</td>\n",
       "    </tr>\n",
       "    <tr>\n",
       "      <th>11478</th>\n",
       "      <td>14669528</td>\n",
       "      <td>0</td>\n",
       "      <td>34</td>\n",
       "      <td>723.00000</td>\n",
       "      <td>1</td>\n",
       "      <td>0</td>\n",
       "      <td>0</td>\n",
       "      <td>0</td>\n",
       "    </tr>\n",
       "    <tr>\n",
       "      <th>167575</th>\n",
       "      <td>50354907</td>\n",
       "      <td>0</td>\n",
       "      <td>2</td>\n",
       "      <td>8.00000</td>\n",
       "      <td>1</td>\n",
       "      <td>0</td>\n",
       "      <td>0</td>\n",
       "      <td>0</td>\n",
       "    </tr>\n",
       "    <tr>\n",
       "      <th>168041</th>\n",
       "      <td>20522468</td>\n",
       "      <td>0</td>\n",
       "      <td>2</td>\n",
       "      <td>129.00000</td>\n",
       "      <td>0</td>\n",
       "      <td>0</td>\n",
       "      <td>1</td>\n",
       "      <td>0</td>\n",
       "    </tr>\n",
       "  </tbody>\n",
       "</table>\n",
       "<p>61964 rows × 8 columns</p>\n",
       "</div>"
      ],
      "text/plain": [
       "        profile_id  label  count_issued  day_diff_issue_time  \\\n",
       "199423    58600361      0             2             69.00000   \n",
       "144626    15460235      1             1              0.00000   \n",
       "204338    15567372      0             3            439.00000   \n",
       "160287    22977874      1             1              0.00000   \n",
       "182816     7965531      1             2             27.00000   \n",
       "...            ...    ...           ...                  ...   \n",
       "145456    50066900      0             1              0.00000   \n",
       "16756      8445218      0            75           1056.00000   \n",
       "11478     14669528      0            34            723.00000   \n",
       "167575    50354907      0             2              8.00000   \n",
       "168041    20522468      0             2            129.00000   \n",
       "\n",
       "        primary_sales_product_type_FLIGHT  primary_sales_product_type_HOTEL  \\\n",
       "199423                                  1                                 0   \n",
       "144626                                  0                                 1   \n",
       "204338                                  1                                 0   \n",
       "160287                                  1                                 0   \n",
       "182816                                  0                                 0   \n",
       "...                                   ...                               ...   \n",
       "145456                                  0                                 1   \n",
       "16756                                   1                                 0   \n",
       "11478                                   1                                 0   \n",
       "167575                                  1                                 0   \n",
       "168041                                  0                                 0   \n",
       "\n",
       "        primary_sales_product_type_TRAIN  primary_sales_product_type_TRIP  \n",
       "199423                                 0                                0  \n",
       "144626                                 0                                0  \n",
       "204338                                 0                                0  \n",
       "160287                                 0                                0  \n",
       "182816                                 0                                1  \n",
       "...                                  ...                              ...  \n",
       "145456                                 0                                0  \n",
       "16756                                  0                                0  \n",
       "11478                                  0                                0  \n",
       "167575                                 0                                0  \n",
       "168041                                 1                                0  \n",
       "\n",
       "[61964 rows x 8 columns]"
      ]
     },
     "execution_count": 481,
     "metadata": {},
     "output_type": "execute_result"
    }
   ],
   "source": [
    "final_results"
   ]
  },
  {
   "cell_type": "code",
   "execution_count": null,
   "metadata": {
    "id": "X-IV5a8xL3Wh",
    "outputId": "7e51bca2-aaff-4411-a4ec-fdffd2d1e05b"
   },
   "outputs": [
    {
     "data": {
      "text/html": [
       "<div>\n",
       "<style scoped>\n",
       "    .dataframe tbody tr th:only-of-type {\n",
       "        vertical-align: middle;\n",
       "    }\n",
       "\n",
       "    .dataframe tbody tr th {\n",
       "        vertical-align: top;\n",
       "    }\n",
       "\n",
       "    .dataframe thead th {\n",
       "        text-align: right;\n",
       "    }\n",
       "</style>\n",
       "<table border=\"1\" class=\"dataframe\">\n",
       "  <thead>\n",
       "    <tr style=\"text-align: right;\">\n",
       "      <th></th>\n",
       "      <th>profile_id</th>\n",
       "      <th>churn</th>\n",
       "      <th>predictions</th>\n",
       "      <th>propensity_to_churn(%)</th>\n",
       "    </tr>\n",
       "    <tr>\n",
       "      <th>Ranking</th>\n",
       "      <th></th>\n",
       "      <th></th>\n",
       "      <th></th>\n",
       "      <th></th>\n",
       "    </tr>\n",
       "  </thead>\n",
       "  <tbody>\n",
       "    <tr>\n",
       "      <th>10</th>\n",
       "      <td>5736</td>\n",
       "      <td>2</td>\n",
       "      <td>1</td>\n",
       "      <td>1203</td>\n",
       "    </tr>\n",
       "    <tr>\n",
       "      <th>9</th>\n",
       "      <td>5935</td>\n",
       "      <td>2</td>\n",
       "      <td>1</td>\n",
       "      <td>991</td>\n",
       "    </tr>\n",
       "    <tr>\n",
       "      <th>8</th>\n",
       "      <td>6049</td>\n",
       "      <td>2</td>\n",
       "      <td>1</td>\n",
       "      <td>906</td>\n",
       "    </tr>\n",
       "    <tr>\n",
       "      <th>7</th>\n",
       "      <td>6115</td>\n",
       "      <td>2</td>\n",
       "      <td>1</td>\n",
       "      <td>298</td>\n",
       "    </tr>\n",
       "    <tr>\n",
       "      <th>6</th>\n",
       "      <td>6049</td>\n",
       "      <td>2</td>\n",
       "      <td>1</td>\n",
       "      <td>843</td>\n",
       "    </tr>\n",
       "    <tr>\n",
       "      <th>5</th>\n",
       "      <td>6101</td>\n",
       "      <td>2</td>\n",
       "      <td>2</td>\n",
       "      <td>753</td>\n",
       "    </tr>\n",
       "    <tr>\n",
       "      <th>4</th>\n",
       "      <td>6184</td>\n",
       "      <td>2</td>\n",
       "      <td>2</td>\n",
       "      <td>126</td>\n",
       "    </tr>\n",
       "    <tr>\n",
       "      <th>3</th>\n",
       "      <td>6137</td>\n",
       "      <td>2</td>\n",
       "      <td>2</td>\n",
       "      <td>796</td>\n",
       "    </tr>\n",
       "    <tr>\n",
       "      <th>2</th>\n",
       "      <td>6193</td>\n",
       "      <td>2</td>\n",
       "      <td>2</td>\n",
       "      <td>71</td>\n",
       "    </tr>\n",
       "    <tr>\n",
       "      <th>1</th>\n",
       "      <td>6189</td>\n",
       "      <td>2</td>\n",
       "      <td>2</td>\n",
       "      <td>1085</td>\n",
       "    </tr>\n",
       "  </tbody>\n",
       "</table>\n",
       "</div>"
      ],
      "text/plain": [
       "         profile_id  churn  predictions  propensity_to_churn(%)\n",
       "Ranking                                                        \n",
       "10             5736      2            1                    1203\n",
       "9              5935      2            1                     991\n",
       "8              6049      2            1                     906\n",
       "7              6115      2            1                     298\n",
       "6              6049      2            1                     843\n",
       "5              6101      2            2                     753\n",
       "4              6184      2            2                     126\n",
       "3              6137      2            2                     796\n",
       "2              6193      2            2                      71\n",
       "1              6189      2            2                    1085"
      ]
     },
     "execution_count": 471,
     "metadata": {},
     "output_type": "execute_result"
    }
   ],
   "source": [
    "final_results.groupby('Ranking').nunique()"
   ]
  }
 ],
 "metadata": {
  "colab": {
   "provenance": []
  },
  "kernelspec": {
   "display_name": "Python 3 (ipykernel)",
   "language": "python",
   "name": "python3"
  },
  "language_info": {
   "codemirror_mode": {
    "name": "ipython",
    "version": 3
   },
   "file_extension": ".py",
   "mimetype": "text/x-python",
   "name": "python",
   "nbconvert_exporter": "python",
   "pygments_lexer": "ipython3",
   "version": "3.12.4"
  }
 },
 "nbformat": 4,
 "nbformat_minor": 4
}
